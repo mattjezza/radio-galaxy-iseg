{
 "cells": [
  {
   "cell_type": "code",
   "id": "f97e04f6-fe68-4c7b-8b23-34f7ebfcd4c1",
   "metadata": {
    "ExecuteTime": {
     "end_time": "2025-01-29T19:56:50.085880Z",
     "start_time": "2025-01-29T19:56:50.083183Z"
    }
   },
   "source": [
    "#import albumentations as A\n",
    "from PIL import Image\n",
    "#import cv2\n",
    "from copy import deepcopy\n",
    "import json\n",
    "from matplotlib import pyplot as plt\n",
    "import numpy as np\n",
    "import os\n",
    "import pandas as pd\n",
    "import random\n",
    "from pycocotools.coco import COCO\n",
    "from pycocotools import mask as coco_mask\n",
    "import seaborn as sns\n"
   ],
   "outputs": [],
   "execution_count": 1
  },
  {
   "cell_type": "markdown",
   "id": "eb3fdb7d-3ccb-4450-b7bb-92a593800826",
   "metadata": {},
   "source": "# Cleaned"
  },
  {
   "cell_type": "code",
   "id": "1bdbc8d9-e644-4b9e-8a63-915bc4ed820f",
   "metadata": {
    "ExecuteTime": {
     "end_time": "2025-01-29T19:56:53.232666Z",
     "start_time": "2025-01-29T19:56:53.214940Z"
    }
   },
   "source": [
    "TRAIN_ANNOS = \"/mnt/data/rgn_ijcnn/cleaned/annotations/train.json\"\n",
    "TRAIN = \"/mnt/data/rgn_ijcnn/cleaned/train\"\n",
    "with open(TRAIN_ANNOS) as f:\n",
    "    data = json.load(f)\n",
    "\n",
    "print(data.keys())"
   ],
   "outputs": [
    {
     "name": "stdout",
     "output_type": "stream",
     "text": [
      "dict_keys(['info', 'licenses', 'images', 'categories', 'annotations'])\n"
     ]
    }
   ],
   "execution_count": 2
  },
  {
   "cell_type": "code",
   "id": "3422b6ce-3613-4155-9b03-9762109cc73e",
   "metadata": {
    "ExecuteTime": {
     "end_time": "2025-01-29T19:56:54.409851Z",
     "start_time": "2025-01-29T19:56:54.400574Z"
    }
   },
   "source": [
    "annos_df = pd.DataFrame.from_dict(data['annotations'])\n",
    "annos_df.head()"
   ],
   "outputs": [
    {
     "data": {
      "text/plain": [
       "                                        segmentation  num_keypoints    area  \\\n",
       "0  [[194.0, 214.5, 197.0, 213.5, 198.5, 211.0, 18...              1  3666.0   \n",
       "1  [[226.0, 242.5, 234.0, 238.5, 238.0, 233.5, 24...              1  1360.0   \n",
       "2  [[228.0, 229.5, 233.0, 227.5, 235.5, 224.0, 22...              1   330.0   \n",
       "3  [[144.0, 213.5, 144.5, 211.0, 141.5, 209.0, 14...              1  2613.0   \n",
       "4  [[228.0, 231.5, 234.5, 225.0, 232.0, 222.5, 22...              1   414.0   \n",
       "\n",
       "   iscrowd  image_id                        bbox      keypoints  category_id  \\\n",
       "0        0         1  [182.5, 197.5, 78.0, 47.0]  [225, 225, 2]            1   \n",
       "1        0         2  [208.5, 202.5, 34.0, 40.0]  [225, 225, 2]            1   \n",
       "2        0         3  [213.5, 214.5, 22.0, 15.0]  [225, 225, 2]            4   \n",
       "3        0         3  [129.5, 174.5, 67.0, 39.0]  [158, 193, 2]            1   \n",
       "4        0         4  [211.5, 213.5, 23.0, 18.0]  [225, 225, 2]            4   \n",
       "\n",
       "   id  \n",
       "0   1  \n",
       "1   2  \n",
       "2   3  \n",
       "3   4  \n",
       "4   5  "
      ],
      "text/html": [
       "<div>\n",
       "<style scoped>\n",
       "    .dataframe tbody tr th:only-of-type {\n",
       "        vertical-align: middle;\n",
       "    }\n",
       "\n",
       "    .dataframe tbody tr th {\n",
       "        vertical-align: top;\n",
       "    }\n",
       "\n",
       "    .dataframe thead th {\n",
       "        text-align: right;\n",
       "    }\n",
       "</style>\n",
       "<table border=\"1\" class=\"dataframe\">\n",
       "  <thead>\n",
       "    <tr style=\"text-align: right;\">\n",
       "      <th></th>\n",
       "      <th>segmentation</th>\n",
       "      <th>num_keypoints</th>\n",
       "      <th>area</th>\n",
       "      <th>iscrowd</th>\n",
       "      <th>image_id</th>\n",
       "      <th>bbox</th>\n",
       "      <th>keypoints</th>\n",
       "      <th>category_id</th>\n",
       "      <th>id</th>\n",
       "    </tr>\n",
       "  </thead>\n",
       "  <tbody>\n",
       "    <tr>\n",
       "      <th>0</th>\n",
       "      <td>[[194.0, 214.5, 197.0, 213.5, 198.5, 211.0, 18...</td>\n",
       "      <td>1</td>\n",
       "      <td>3666.0</td>\n",
       "      <td>0</td>\n",
       "      <td>1</td>\n",
       "      <td>[182.5, 197.5, 78.0, 47.0]</td>\n",
       "      <td>[225, 225, 2]</td>\n",
       "      <td>1</td>\n",
       "      <td>1</td>\n",
       "    </tr>\n",
       "    <tr>\n",
       "      <th>1</th>\n",
       "      <td>[[226.0, 242.5, 234.0, 238.5, 238.0, 233.5, 24...</td>\n",
       "      <td>1</td>\n",
       "      <td>1360.0</td>\n",
       "      <td>0</td>\n",
       "      <td>2</td>\n",
       "      <td>[208.5, 202.5, 34.0, 40.0]</td>\n",
       "      <td>[225, 225, 2]</td>\n",
       "      <td>1</td>\n",
       "      <td>2</td>\n",
       "    </tr>\n",
       "    <tr>\n",
       "      <th>2</th>\n",
       "      <td>[[228.0, 229.5, 233.0, 227.5, 235.5, 224.0, 22...</td>\n",
       "      <td>1</td>\n",
       "      <td>330.0</td>\n",
       "      <td>0</td>\n",
       "      <td>3</td>\n",
       "      <td>[213.5, 214.5, 22.0, 15.0]</td>\n",
       "      <td>[225, 225, 2]</td>\n",
       "      <td>4</td>\n",
       "      <td>3</td>\n",
       "    </tr>\n",
       "    <tr>\n",
       "      <th>3</th>\n",
       "      <td>[[144.0, 213.5, 144.5, 211.0, 141.5, 209.0, 14...</td>\n",
       "      <td>1</td>\n",
       "      <td>2613.0</td>\n",
       "      <td>0</td>\n",
       "      <td>3</td>\n",
       "      <td>[129.5, 174.5, 67.0, 39.0]</td>\n",
       "      <td>[158, 193, 2]</td>\n",
       "      <td>1</td>\n",
       "      <td>4</td>\n",
       "    </tr>\n",
       "    <tr>\n",
       "      <th>4</th>\n",
       "      <td>[[228.0, 231.5, 234.5, 225.0, 232.0, 222.5, 22...</td>\n",
       "      <td>1</td>\n",
       "      <td>414.0</td>\n",
       "      <td>0</td>\n",
       "      <td>4</td>\n",
       "      <td>[211.5, 213.5, 23.0, 18.0]</td>\n",
       "      <td>[225, 225, 2]</td>\n",
       "      <td>4</td>\n",
       "      <td>5</td>\n",
       "    </tr>\n",
       "  </tbody>\n",
       "</table>\n",
       "</div>"
      ]
     },
     "execution_count": 3,
     "metadata": {},
     "output_type": "execute_result"
    }
   ],
   "execution_count": 3
  },
  {
   "cell_type": "code",
   "id": "9e68a32c",
   "metadata": {
    "ExecuteTime": {
     "end_time": "2025-01-29T19:56:56.328241Z",
     "start_time": "2025-01-29T19:56:56.325909Z"
    }
   },
   "source": [
    "def show_categories(annos):\n",
    "    with open(annos) as f:\n",
    "        data = json.load(f)\n",
    "\n",
    "    df = pd.DataFrame.from_dict(data['annotations'])\n",
    "\n",
    "    num_galaxies = df.shape[0]\n",
    "    num_cat_1 = df[df[\"category_id\"] == 1].shape[0]\n",
    "    num_cat_2 = df[df[\"category_id\"] == 2].shape[0]\n",
    "    num_cat_3 = df[df[\"category_id\"] == 3].shape[0]\n",
    "    num_cat_4 = df[df[\"category_id\"] == 4].shape[0]\n",
    "\n",
    "    print(f\"Total galaxies: {num_galaxies}\")\n",
    "    print(f\"Cat 1 galaxies: {num_cat_1}, {num_cat_1 / num_galaxies:.2f}\")\n",
    "    print(f\"Cat 2 galaxies: {num_cat_2}, {num_cat_2 / num_galaxies:.2f}\")\n",
    "    print(f\"Cat 3 galaxies: {num_cat_3}, {num_cat_3 / num_galaxies:.2f}\")\n",
    "    print(f\"Cat 4 galaxies: {num_cat_4}, {num_cat_4 / num_galaxies:.2f}\")\n",
    "\n",
    "    data = {\"FR-II\": [100 * num_cat_1 / num_galaxies],\n",
    "            \"FR-I\": [100 * num_cat_2 / num_galaxies],\n",
    "            \"FR-X\": [100 * num_cat_3 / num_galaxies],\n",
    "            \"R\": [100 * num_cat_4 / num_galaxies]}\n",
    "\n",
    "    df = pd.DataFrame(data=data)\n",
    "    return df"
   ],
   "outputs": [],
   "execution_count": 4
  },
  {
   "cell_type": "code",
   "id": "ac06288f",
   "metadata": {
    "ExecuteTime": {
     "end_time": "2025-01-29T19:56:58.345165Z",
     "start_time": "2025-01-29T19:56:58.323214Z"
    }
   },
   "source": "dfclean = show_categories(\"/mnt/data/rgn_ijcnn/cleaned/annotations/train.json\")",
   "outputs": [
    {
     "name": "stdout",
     "output_type": "stream",
     "text": [
      "Total galaxies: 2834\n",
      "Cat 1 galaxies: 1328, 0.47\n",
      "Cat 2 galaxies: 377, 0.13\n",
      "Cat 3 galaxies: 400, 0.14\n",
      "Cat 4 galaxies: 729, 0.26\n"
     ]
    }
   ],
   "execution_count": 5
  },
  {
   "metadata": {
    "ExecuteTime": {
     "end_time": "2025-01-29T19:57:00.698739Z",
     "start_time": "2025-01-29T19:57:00.649106Z"
    }
   },
   "cell_type": "code",
   "source": "sns.barplot(data=dfclean)",
   "id": "8abfc746310b0ca0",
   "outputs": [
    {
     "data": {
      "text/plain": [
       "<Axes: >"
      ]
     },
     "execution_count": 6,
     "metadata": {},
     "output_type": "execute_result"
    },
    {
     "data": {
      "text/plain": [
       "<Figure size 640x480 with 1 Axes>"
      ],
      "image/png": "[encoded data removed]"
     },
     "metadata": {},
     "output_type": "display_data"
    }
   ],
   "execution_count": 6
  },
  {
   "cell_type": "markdown",
   "id": "560362d8",
   "metadata": {},
   "source": "## Rotated"
  },
  {
   "cell_type": "code",
   "id": "5dfc1237",
   "metadata": {
    "ExecuteTime": {
     "end_time": "2025-01-29T19:58:52.720743Z",
     "start_time": "2025-01-29T19:58:52.639735Z"
    }
   },
   "source": "dfrotated = show_categories(\"/mnt/data/rgn_ijcnn/augmented/rotated_x3/combined/annotations/train.json\")",
   "outputs": [
    {
     "name": "stdout",
     "output_type": "stream",
     "text": [
      "Total galaxies: 7489\n",
      "Cat 1 galaxies: 2625, 0.35\n",
      "Cat 2 galaxies: 1299, 0.17\n",
      "Cat 3 galaxies: 1388, 0.19\n",
      "Cat 4 galaxies: 2177, 0.29\n"
     ]
    }
   ],
   "execution_count": 7
  },
  {
   "cell_type": "code",
   "id": "62530593",
   "metadata": {
    "ExecuteTime": {
     "end_time": "2025-01-29T19:59:07.606999Z",
     "start_time": "2025-01-29T19:59:07.560034Z"
    }
   },
   "source": "sns.barplot(data=dfrotated)",
   "outputs": [
    {
     "data": {
      "text/plain": [
       "<Axes: >"
      ]
     },
     "execution_count": 8,
     "metadata": {},
     "output_type": "execute_result"
    },
    {
     "data": {
      "text/plain": [
       "<Figure size 640x480 with 1 Axes>"
      ],
      "image/png": "[encoded data removed]"
     },
     "metadata": {},
     "output_type": "display_data"
    }
   ],
   "execution_count": 8
  },
  {
   "cell_type": "markdown",
   "id": "0078766e",
   "metadata": {},
   "source": "## Balanced"
  },
  {
   "cell_type": "code",
   "id": "bd3f4caa",
   "metadata": {
    "ExecuteTime": {
     "end_time": "2025-01-29T19:59:37.881673Z",
     "start_time": "2025-01-29T19:59:37.799733Z"
    }
   },
   "source": "dfbalanced = show_categories(\"/mnt/data/rgn_ijcnn/augmented/rotated_x3/combined/annotations/train.json\")",
   "outputs": [
    {
     "name": "stdout",
     "output_type": "stream",
     "text": [
      "Total galaxies: 7489\n",
      "Cat 1 galaxies: 2625, 0.35\n",
      "Cat 2 galaxies: 1299, 0.17\n",
      "Cat 3 galaxies: 1388, 0.19\n",
      "Cat 4 galaxies: 2177, 0.29\n"
     ]
    }
   ],
   "execution_count": 9
  },
  {
   "cell_type": "code",
   "id": "65ef939b",
   "metadata": {
    "ExecuteTime": {
     "end_time": "2025-01-29T19:59:51.154048Z",
     "start_time": "2025-01-29T19:59:51.107246Z"
    }
   },
   "source": "sns.barplot(data=dfbalanced)",
   "outputs": [
    {
     "data": {
      "text/plain": [
       "<Axes: >"
      ]
     },
     "execution_count": 10,
     "metadata": {},
     "output_type": "execute_result"
    },
    {
     "data": {
      "text/plain": [
       "<Figure size 640x480 with 1 Axes>"
      ],
      "image/png": "[encoded data removed]"
     },
     "metadata": {},
     "output_type": "display_data"
    }
   ],
   "execution_count": 10
  }
 ],
 "metadata": {
  "kernelspec": {
   "display_name": "Python 3 (ipykernel)",
   "language": "python",
   "name": "python3"
  },
  "language_info": {
   "codemirror_mode": {
    "name": "ipython",
    "version": 3
   },
   "file_extension": ".py",
   "mimetype": "text/x-python",
   "name": "python",
   "nbconvert_exporter": "python",
   "pygments_lexer": "ipython3",
   "version": "3.8.5"
  }
 },
 "nbformat": 4,
 "nbformat_minor": 5
}
