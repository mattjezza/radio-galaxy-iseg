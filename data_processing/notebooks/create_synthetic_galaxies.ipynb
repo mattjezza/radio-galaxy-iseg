{
 "cells": [
  {
   "cell_type": "markdown",
   "id": "14c4e158-40bf-42a9-bd71-949418c9850b",
   "metadata": {},
   "source": [
    "# Create Synthetic Galaxies"
   ]
  },
  {
   "cell_type": "markdown",
   "id": "9b7e616c-4573-43e9-8ddb-3bffe962c198",
   "metadata": {},
   "source": [
    "This notebook takes cleaned training data as input, creates cutout images of each galaxy in the datset, then uses these to create synthetic galaxy cutouts with a pixel-level transform. These are embedded into a plain black 450x450 image, so the galaxy itself is the only thing in it. The annotations for each galaxy are unchanged.\n",
    "\n",
    "This script also separates the cutout images according to the category (class) of the object in them. Hence, the output directory will contain four numbered directories, one for each category of galaxy in the dataset, numbered 0-3.\n",
    "\n",
    "Note, it only makes sense to create cutouts for training data, so this does not apply to the validation or test sets.\n",
    "\n",
    "**Prerequisites**: The data needs to have been downloaded and cleaned already. The `clean.ipynb` notebook walks through this process."
   ]
  },
  {
   "cell_type": "code",
   "id": "f97e04f6-fe68-4c7b-8b23-34f7ebfcd4c1",
   "metadata": {
    "ExecuteTime": {
     "end_time": "2025-01-29T00:28:32.721913Z",
     "start_time": "2025-01-29T00:28:31.531175Z"
    }
   },
   "source": [
    "import sys\n",
    "\n",
    "sys.path.insert(1, \"../..\")\n",
    "from data_processing.data_proc_lib.cut_and_paste import create_cutouts\n",
    "from data_processing.data_proc_lib.pixel_transforms import create_pixel_distributions, transform_pixel_distributions"
   ],
   "outputs": [],
   "execution_count": 1
  },
  {
   "cell_type": "markdown",
   "id": "d15e739b-f292-4a1f-8e43-1c5cebfa117b",
   "metadata": {},
   "source": [
    "## 1 Create Cutout Galaxies"
   ]
  },
  {
   "cell_type": "markdown",
   "id": "7165824c-314b-4488-8951-fc8b85999a36",
   "metadata": {},
   "source": [
    "Set `CLEANED_PATH` to be the location of the cleaned data.\n",
    "\n",
    "set `OUTPUT_PATH` to be the path to where the cutout images and annotations should be placed.\n",
    "\n",
    "To create cutouts that are scaled to a 32x32 pixel size, use `create_cutouts(CLEANED_PATH, CUTOUTS_PATH, scale=True)`"
   ]
  },
  {
   "cell_type": "code",
   "id": "85d2690e-1b49-4749-b834-7b9b7d8f3409",
   "metadata": {
    "ExecuteTime": {
     "end_time": "2025-01-29T00:28:34.571930Z",
     "start_time": "2025-01-29T00:28:34.570373Z"
    }
   },
   "source": [
    "CLEANED_PATH = \"/mnt/data/rgn_ijcnn/cleaned\"\n",
    "CUTOUTS_PATH = \"/mnt/data/rgn_ijcnn/augmented/cutouts_scaled_by_class\""
   ],
   "outputs": [],
   "execution_count": 2
  },
  {
   "cell_type": "code",
   "id": "e98a197a-08fe-4b1c-9722-0d82a73b67dd",
   "metadata": {},
   "source": "create_cutouts(CLEANED_PATH, CUTOUTS_PATH, scale=True)",
   "outputs": [],
   "execution_count": null
  },
  {
   "cell_type": "markdown",
   "id": "6612c841-8f59-4d6c-9b21-ad3555ab8506",
   "metadata": {},
   "source": [
    "## 2 Create Pixel Distributions per Category"
   ]
  },
  {
   "cell_type": "markdown",
   "id": "a6732d2a-7fe3-4cd4-aef0-b7bf68c77558",
   "metadata": {},
   "source": [
    "The following step does two things:\n",
    "\n",
    "1. Creates a directory called `pixel_distributions` in each category-specific subdirectory.\n",
    "2. Creates the pixel distributions and paste them in there. Note the pixel distribution image files have the same filename as the cutout file they are derived from, but they're in a different directory."
   ]
  },
  {
   "cell_type": "code",
   "id": "767e009c-5271-497f-b8a5-d421a83834bb",
   "metadata": {},
   "source": [
    "create_pixel_distributions(CUTOUTS_PATH)"
   ],
   "outputs": [],
   "execution_count": null
  },
  {
   "cell_type": "markdown",
   "id": "a589102d-fb1a-4c1d-a9af-955e1879326c",
   "metadata": {},
   "source": [
    "## 3 Transform Pixel Distributions"
   ]
  },
  {
   "cell_type": "markdown",
   "id": "143582b3-5318-425b-a1f4-9e56491c369a",
   "metadata": {},
   "source": [
    "This sections performs the pixel transformation on the pixel distributions and then convert back to a galaxy image, to give a pixel-transformed galaxy."
   ]
  },
  {
   "cell_type": "code",
   "id": "2c4d0f03-571c-4d08-8a42-b67a0c4c8cdb",
   "metadata": {},
   "source": [
    "transform_pixel_distributions(CUTOUTS_PATH)"
   ],
   "outputs": [],
   "execution_count": null
  },
  {
   "cell_type": "code",
   "execution_count": null,
   "id": "45084e66-7115-4c95-9385-89dbd1376075",
   "metadata": {},
   "outputs": [],
   "source": []
  }
 ],
 "metadata": {
  "kernelspec": {
   "display_name": "Python 3 (ipykernel)",
   "language": "python",
   "name": "python3"
  },
  "language_info": {
   "codemirror_mode": {
    "name": "ipython",
    "version": 3
   },
   "file_extension": ".py",
   "mimetype": "text/x-python",
   "name": "python",
   "nbconvert_exporter": "python",
   "pygments_lexer": "ipython3",
   "version": "3.12.3"
  }
 },
 "nbformat": 4,
 "nbformat_minor": 5
}
