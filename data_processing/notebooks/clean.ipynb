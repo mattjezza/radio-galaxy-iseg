{
 "cells": [
  {
   "cell_type": "markdown",
   "id": "3015b712-4811-48b9-9831-563761b70ea6",
   "metadata": {},
   "source": [
    "# Data Cleaning"
   ]
  },
  {
   "cell_type": "markdown",
   "id": "ddd7ee4c-5243-459b-827c-896283b91736",
   "metadata": {},
   "source": [
    "This is how to clean the raw data files."
   ]
  },
  {
   "cell_type": "code",
   "id": "994f095f-d66e-4e1a-882d-7a295c7823a0",
   "metadata": {},
   "source": [
    "import os\n",
    "import sys\n",
    "\n",
    "sys.path.insert(1, '../..')\n",
    "from data_processing.data_proc_lib.cleaning import clean\n",
    "from data_processing.data_proc_lib.utilities import convert_to_yolo"
   ],
   "outputs": [],
   "execution_count": null
  },
  {
   "cell_type": "markdown",
   "id": "c87a5085-ba15-4d4b-920c-82f5920f1d7a",
   "metadata": {},
   "source": "First download the RadioGalaxyNET dataset from: https://data.csiro.au/collection/csiro:61068 and unzip it.\n"
  },
  {
   "cell_type": "markdown",
   "id": "5ea27669-d736-4667-ae23-8fe8fc97d61e",
   "metadata": {},
   "source": "Set `INPUT_PATH` to be the path to the source files (which, after downloading and unzipping, will be in a directory called `RadioGalaxyNET`) and `CLEANED_PATH` to be the location where you want the cleaned files to go."
  },
  {
   "cell_type": "code",
   "id": "252c78a8-2c6d-4f27-9534-4aa88109e8b6",
   "metadata": {
    "ExecuteTime": {
     "end_time": "2025-01-27T20:35:01.541072Z",
     "start_time": "2025-01-27T20:35:01.539575Z"
    }
   },
   "source": [
    "INPUT_PATH = \"/mnt/data/rgn_ijcnn/data/RadioGalaxyNET\"\n",
    "CLEANED_PATH = \"/mnt/data/rgn_ijcnn/cleaned\""
   ],
   "outputs": [],
   "execution_count": 6
  },
  {
   "cell_type": "markdown",
   "id": "dd7945af-e01d-4a22-9240-c7a37b48ac8a",
   "metadata": {},
   "source": [
    "Then run the cleaning code:"
   ]
  },
  {
   "cell_type": "code",
   "id": "1c46fa11-9c0c-4ec6-9d24-580e3875dde7",
   "metadata": {},
   "source": [
    "clean(INPUT_PATH, CLEANED_PATH)"
   ],
   "outputs": [],
   "execution_count": null
  },
  {
   "cell_type": "markdown",
   "id": "9d7f3267-297e-42cf-bdf3-5f3013e3a411",
   "metadata": {},
   "source": [
    "There will create a new directory called `cleaned` containing the cleaned dataset in path `CLEANED_PATH`.\n",
    "\n"
   ]
  },
  {
   "cell_type": "code",
   "id": "b656b24f-88ab-4ae6-9606-ee84593bfffa",
   "metadata": {
    "ExecuteTime": {
     "end_time": "2025-01-28T23:53:38.348883Z",
     "start_time": "2025-01-28T23:53:38.170498Z"
    }
   },
   "source": "!ls -l \"/mnt/data/rgn_ijcnn/\"",
   "outputs": [
    {
     "name": "stdout",
     "output_type": "stream",
     "text": [
      "total 244804\r\n",
      "drwxrwxr-x 8 matt matt      4096 Jan 28 21:19 augmented\r\n",
      "drwxrwxr-x 6 matt matt      4096 Jan 27 20:35 cleaned\r\n",
      "drwxrwxr-x 3 matt matt      4096 Jan 27 20:25 data\r\n",
      "drwxrwxr-x 2 matt matt      4096 Jan 27 20:25 metadata\r\n",
      "-rw-rw-r-- 1 matt matt 250658228 Jan 27 20:14 RadioGalaxyNET_Dataset_-_Extended_Radio_Galaxies-KKbezyrt-.zip\r\n",
      "drwxrwxr-x 8 matt matt      4096 Jan 28 23:03 yolo\r\n"
     ]
    }
   ],
   "execution_count": 2
  },
  {
   "cell_type": "markdown",
   "id": "b2a9799d-7ce5-45b1-bee8-3dd9a23f0e79",
   "metadata": {},
   "source": [
    "The `cleaned` directory now contains the cleaned dataset."
   ]
  },
  {
   "cell_type": "markdown",
   "id": "cd3bd7af-b0aa-421e-ac17-1e9d72f15da9",
   "metadata": {},
   "source": [
    "This data set can be used to train models. For YOLO, an extra step is required - to convert it to YOLO format.\n",
    "To do this, set the `YOLO_PATH` below to be the location where you want the YOLO data to be stored."
   ]
  },
  {
   "cell_type": "code",
   "id": "54f31d42-669b-416c-a07f-5cc9b71aea3d",
   "metadata": {
    "ExecuteTime": {
     "end_time": "2025-01-27T20:38:51.550283Z",
     "start_time": "2025-01-27T20:38:51.548433Z"
    }
   },
   "source": "YOLO_PATH = \"/mnt/data/rgn_ijcnn/yolo/yolo_cleaned\"",
   "outputs": [],
   "execution_count": 11
  },
  {
   "cell_type": "code",
   "id": "043e7d1d-610c-4220-81ab-821ffe591a22",
   "metadata": {},
   "source": [
    "convert_to_yolo(os.path.join(CLEANED_PATH), YOLO_PATH)"
   ],
   "outputs": [],
   "execution_count": null
  },
  {
   "cell_type": "code",
   "execution_count": null,
   "id": "9428b1ef-d5c3-4204-b48c-b9f1f126c47c",
   "metadata": {},
   "outputs": [],
   "source": []
  }
 ],
 "metadata": {
  "kernelspec": {
   "display_name": "Python 3 (ipykernel)",
   "language": "python",
   "name": "python3"
  },
  "language_info": {
   "codemirror_mode": {
    "name": "ipython",
    "version": 3
   },
   "file_extension": ".py",
   "mimetype": "text/x-python",
   "name": "python",
   "nbconvert_exporter": "python",
   "pygments_lexer": "ipython3",
   "version": "3.12.3"
  }
 },
 "nbformat": 4,
 "nbformat_minor": 5
}
