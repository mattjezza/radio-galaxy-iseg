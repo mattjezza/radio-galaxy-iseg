{
 "cells": [
  {
   "cell_type": "markdown",
   "id": "36b21643",
   "metadata": {},
   "source": "# Offline Augmentation - Rotate"
  },
  {
   "cell_type": "markdown",
   "id": "3f082417625d2c0f",
   "metadata": {},
   "source": "This script is for creating new images \"offline\" (i.e. as a pre-processing step) by performing rotation transformations. Automatic checks ensure that objects of interest will not overflow the boundaries of the image. Bounding boxes are always recalculated to ensure they are always tight around the object of interest. If the transformations lead to artefacts such as significant changes in the segmentation mask area then the new images will be rejected."
  },
  {
   "cell_type": "code",
   "id": "3217bcf0",
   "metadata": {
    "ExecuteTime": {
     "end_time": "2025-01-29T10:36:32.768550Z",
     "start_time": "2025-01-29T10:36:31.401602Z"
    }
   },
   "source": [
    "import os\n",
    "\n",
    "import sys\n",
    "\n",
    "sys.path.insert(1, '../..')\n",
    "\n",
    "from data_processing.data_proc_lib.transforms import augment, rotate, random_rotate_90\n",
    "from data_processing.data_proc_lib.utilities import combine, convert_to_yolo"
   ],
   "outputs": [],
   "execution_count": 1
  },
  {
   "cell_type": "markdown",
   "id": "c49d4fcf-b4f0-46d6-a762-6b63392644a4",
   "metadata": {},
   "source": [
    "## 1 Create a Rotation-Augmented Dataset from the Cleaned Dataset"
   ]
  },
  {
   "cell_type": "markdown",
   "id": "62be87f1-4247-439a-b4c6-f0295026a48b",
   "metadata": {},
   "source": [
    "**Prerequisites:** The dataset should already have been cleaned. See the notebook `clean.ipynb`.\n",
    "\n",
    "Set the following constants below according to your environment.\n",
    "\n",
    "* `NUM_AUGMENTATIONS`: The number of times each image in the input dataset is passed through the augmentation process. Intuitively, a larger `NUM_AUGMENTATIONS` number means a larger final dataset. Note that every augmented image goes through some automated quality checks (see the paper for details). These don't guarantee to find every possible problem but they can detect some issues with image artefacts. If any problems are detected then the augmented image is not saved. Hence, the final augmented dataset size will be *slightly less than* `NUM_AUGMENTATIONS` times the input dataset size.\n",
    "* `CLEANED_PATH`: Path to the input data (for example, this will often be the location of the cleaned data output by notebook `clean.ipynb`).\n",
    "* `OUTPUT_PATH`: Path to the location to store the augmented dataset created by running `augment` below."
   ]
  },
  {
   "cell_type": "markdown",
   "id": "0ccf4e36-5544-4104-b6e4-41141057fcba",
   "metadata": {},
   "source": [
    "Set the Albumentations transform required. By default, rotation-crop-scale-augmented dataset. This will be passed into the call to `augment` below. You could alternatively choose `rotate_object` to just augment with rotation"
   ]
  },
  {
   "cell_type": "code",
   "id": "41f4d793-01c5-416b-8aa1-f430611041ec",
   "metadata": {
    "ExecuteTime": {
     "end_time": "2025-01-29T10:36:35.884502Z",
     "start_time": "2025-01-29T10:36:35.882090Z"
    }
   },
   "source": "transform = rotate()",
   "outputs": [],
   "execution_count": 2
  },
  {
   "cell_type": "markdown",
   "id": "757f7f63-8be6-4fba-8f18-add86491ca50",
   "metadata": {},
   "source": [
    "If you want to balance dataset across classes by oversampling the under-represented classes, add the argument `balance=True` to the call to `augment` below."
   ]
  },
  {
   "cell_type": "code",
   "id": "ee5a5664-19d6-48e0-8b22-86f22703bc50",
   "metadata": {},
   "source": [
    "NUM_AUGMENTATIONS = 3\n",
    "OUTPUT_PATH = \"/mnt/data/rgn_ijcnn/augmented/rotated_x3\"  # can be an absolute path, e.g. \"/mnt/data/rgn-formal/augmented/rotate_crop_scale\"\n",
    "CLEANED_PATH = \"/mnt/data/rgn_ijcnn/cleaned\"  # can be an absolute path, e.g. \"/mnt/data/rgn-formal/cleaned\"\n",
    "augment(NUM_AUGMENTATIONS, OUTPUT_PATH, CLEANED_PATH, transform, make_backgrounds=True, balance=True)"
   ],
   "outputs": [],
   "execution_count": null
  },
  {
   "cell_type": "markdown",
   "id": "ade03f34-9b26-4f09-8576-fe193e7de1ed",
   "metadata": {},
   "source": [
    "Note, you may see a warning when this runs:\n",
    "\n",
    "`UserWarning: Affine could work incorrectly in ReplayMode for other input data because its' params depend on targets`\n",
    "\n",
    "This is fine. It's just telling us that the Albumentations `ReplayCompose` function might work differently if try to repeat the same transform on different inputs. We are not doing that though, so this is not a problem for our use case.\n",
    "\n",
    "When the execution completes successfully, you'll see a message saying `Completed!' along with a count of the number of background images (images containing no galaxies) that were created."
   ]
  },
  {
   "cell_type": "markdown",
   "id": "db626c02-9585-400c-bab2-7cfdbd2927e6",
   "metadata": {},
   "source": [
    "Now combine the cleaned original data with the augmented data:"
   ]
  },
  {
   "cell_type": "code",
   "id": "aa73050c-13d3-4ff7-a080-7e5c34766d11",
   "metadata": {},
   "source": [
    "combine(OUTPUT_PATH, CLEANED_PATH)"
   ],
   "outputs": [],
   "execution_count": null
  },
  {
   "cell_type": "markdown",
   "id": "8b2c32c7-388d-46ab-9d97-144b4413facc",
   "metadata": {},
   "source": [
    "The data to use for training will now be in path `OUTPUT_PATH/combined`."
   ]
  },
  {
   "cell_type": "markdown",
   "id": "4f58e449-acd6-4019-9a96-4216888f9dbc",
   "metadata": {},
   "source": [
    "This can be converted to YOLO format. Set the `YOLO_PATH` to be the location to place the YOLO-formatted files. This should be an absolute path (not relative) so set it for your environment."
   ]
  },
  {
   "cell_type": "code",
   "id": "3b23281c193b948b",
   "metadata": {
    "ExecuteTime": {
     "end_time": "2025-01-29T10:39:56.401606Z",
     "start_time": "2025-01-29T10:39:56.399602Z"
    }
   },
   "source": [
    "YOLO_PATH = \"/mnt/data/rgn_ijcnn/yolo/yolo_rotated_x3\"\n",
    "OUTPUT_PATH = \"/mnt/data/rgn_ijcnn/augmented/rotated_x3/combined\""
   ],
   "outputs": [],
   "execution_count": 5
  },
  {
   "cell_type": "code",
   "id": "0a7fac9b-51a5-400d-bba6-a4ae20682d63",
   "metadata": {},
   "source": "convert_to_yolo(OUTPUT_PATH, YOLO_PATH)",
   "outputs": [],
   "execution_count": null
  },
  {
   "cell_type": "markdown",
   "id": "663d0bc8-6a65-46eb-9bae-b600a5bc8123",
   "metadata": {},
   "source": [
    "The YOLO-formatted data will now be in directory `/mnt/data/rgntest/YOLO_test`."
   ]
  },
  {
   "cell_type": "code",
   "execution_count": null,
   "id": "f5403b2f-7d6e-4a22-a847-7998c86ccbfb",
   "metadata": {},
   "outputs": [],
   "source": []
  }
 ],
 "metadata": {
  "kernelspec": {
   "display_name": "Python 3 (ipykernel)",
   "language": "python",
   "name": "python3"
  },
  "language_info": {
   "codemirror_mode": {
    "name": "ipython",
    "version": 3
   },
   "file_extension": ".py",
   "mimetype": "text/x-python",
   "name": "python",
   "nbconvert_exporter": "python",
   "pygments_lexer": "ipython3",
   "version": "3.11.11"
  }
 },
 "nbformat": 4,
 "nbformat_minor": 5
}
