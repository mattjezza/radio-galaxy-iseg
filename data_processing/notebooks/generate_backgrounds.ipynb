{
 "cells": [
  {
   "cell_type": "markdown",
   "id": "36b21643",
   "metadata": {},
   "source": "# Offline Augmentation - Make Background Images"
  },
  {
   "cell_type": "markdown",
   "id": "3f082417625d2c0f",
   "metadata": {},
   "source": [
    "This script is for creating new images \"offline\" (i.e. as a pre-processing step) by performing rotate, crop and scale transformations. Automatic checks ensure that objects of interest will not overflow the boundaries of the image. Bounding boxes are always recalculated to ensure they are always tight around the object of interest. If the transformations lead to artefacts such as significant changes in the segmentation mask area then the new images will be rejected."
   ]
  },
  {
   "cell_type": "code",
   "id": "3217bcf0",
   "metadata": {
    "ExecuteTime": {
     "end_time": "2025-01-28T21:18:49.279757Z",
     "start_time": "2025-01-28T21:18:48.196020Z"
    }
   },
   "source": [
    "import albumentations as A\n",
    "from PIL import Image\n",
    "import cv2\n",
    "import json\n",
    "import numpy as np\n",
    "import os\n",
    "import random\n",
    "from pycocotools.coco import COCO\n",
    "\n",
    "import sys\n",
    "\n",
    "sys.path.insert(1, '../..')\n",
    "\n",
    "from data_processing.data_proc_lib.transforms import do_background_transform\n",
    "from data_processing.data_proc_lib.cleaning import find_invalid_annotations\n",
    "from data_processing.data_proc_lib.utilities import create_directories"
   ],
   "outputs": [],
   "execution_count": 1
  },
  {
   "metadata": {
    "ExecuteTime": {
     "end_time": "2025-01-28T21:18:52.249721Z",
     "start_time": "2025-01-28T21:18:52.247109Z"
    }
   },
   "cell_type": "code",
   "source": [
    "def make_backgrounds(output_path, input_path):\n",
    "    \"\"\"\n",
    "    Make background images.\n",
    "    :param output_path: Path to the place the augmented output files.\n",
    "    :param input_path: Path to the input files to augment.\n",
    "    :return: None.\n",
    "    \"\"\"\n",
    "\n",
    "    create_directories(output_path)\n",
    "    output_image_path = output_path\n",
    "    train_annos = os.path.join(input_path, \"annotations\", \"train.json\")\n",
    "\n",
    "    coco = COCO(train_annos)\n",
    "    image_ids = coco.getImgIds()\n",
    "    exclude = list(find_invalid_annotations(coco))\n",
    "\n",
    "    for image_id in [i for i in image_ids if i not in exclude]:\n",
    "\n",
    "        image_file_name = coco.loadImgs(image_id)[0][\"file_name\"]\n",
    "        image_path = os.path.join(input_path, \"train\", image_file_name)\n",
    "        # print(f\"image file name: {image_file_name}\")\n",
    "\n",
    "        aug_file_name = (\n",
    "                \"bg\" + \"_\" + image_file_name\n",
    "        )\n",
    "        output_image_file_path = os.path.join(output_image_path, aug_file_name)\n",
    "\n",
    "        # Read the image and associated annotations\n",
    "        image = np.array(Image.open(image_path))\n",
    "        annotation_ids = coco.getAnnIds(imgIds=image_id)\n",
    "        annotations = coco.loadAnns(annotation_ids)\n",
    "\n",
    "        # In case a transform has shifted all galaxies out of an image and no annotations remain.\n",
    "        if len(annotations) == 0:\n",
    "            continue\n",
    "\n",
    "        if len(annotations) == 1:\n",
    "            image = do_background_transform(annotations, image, coco)\n",
    "            if not np.any(image):\n",
    "                continue\n",
    "        else:\n",
    "            print(\"More than one annotation! Rejected.\")\n",
    "            continue\n",
    "\n",
    "        # Write the transformed image to a png file.\n",
    "        Image.fromarray(image).save(output_image_file_path)\n",
    "\n",
    "    print(f\"Completed! Background images in {output_path}.\")"
   ],
   "id": "8c0de6818a3a8df7",
   "outputs": [],
   "execution_count": 2
  },
  {
   "cell_type": "markdown",
   "id": "23e711e4-bd12-4885-aae3-f875c95e8609",
   "metadata": {},
   "source": [
    "This is the Albumentations transform used to create the rotation-augmented dataset. This will be passed into the call to `augment` below."
   ]
  },
  {
   "cell_type": "markdown",
   "id": "c49d4fcf-b4f0-46d6-a762-6b63392644a4",
   "metadata": {},
   "source": "## 1 Create Backgrounds from the Cleaned Dataset"
  },
  {
   "cell_type": "markdown",
   "id": "62be87f1-4247-439a-b4c6-f0295026a48b",
   "metadata": {},
   "source": [
    "**Prerequisites:** The dataset should already have been cleaned. See the notebook `clean.ipynb`.\n",
    "\n",
    "Set the following constants below according to your environment.\n",
    "\n",
    "* `NUM_AUGMENTATIONS`: The number of times each image in the input dataset is passed through the augmentation process. Intuitively, a larger `NUM_AUGMENTATIONS` number means a larger final dataset. Note that every augmented image goes through some automated quality checks (see the paper for details). These don't guarantee to find every possible problem but they can detect some issues with image artefacts. If any problems are detected then the augmented image is not saved. Hence, the final augmented dataset size will be *slightly less than* `NUM_AUGMENTATIONS` times the input dataset size.\n",
    "* `CLEANED_PATH`: Full path to the input data (for example, this will often be the location of the cleaned data output by notebook `clean.ipynb`).\n",
    "* `OUTPUT_PATH`: Full path to the location to store the augmented dataset created by running `augment` below."
   ]
  },
  {
   "cell_type": "code",
   "id": "ee5a5664-19d6-48e0-8b22-86f22703bc50",
   "metadata": {},
   "source": [
    "OUTPUT_PATH = \"/mnt/data/rgn_ijcnn/augmented/backgrounds\"\n",
    "CLEANED_PATH = \"/mnt/data/rgn_ijcnn/cleaned\"\n",
    "make_backgrounds(OUTPUT_PATH, CLEANED_PATH)"
   ],
   "outputs": [],
   "execution_count": null
  },
  {
   "cell_type": "code",
   "execution_count": null,
   "id": "331ef73f-1967-4596-96f0-11f2fb6a9483",
   "metadata": {},
   "outputs": [],
   "source": []
  }
 ],
 "metadata": {
  "kernelspec": {
   "display_name": "Python 3 (ipykernel)",
   "language": "python",
   "name": "python3"
  },
  "language_info": {
   "codemirror_mode": {
    "name": "ipython",
    "version": 3
   },
   "file_extension": ".py",
   "mimetype": "text/x-python",
   "name": "python",
   "nbconvert_exporter": "python",
   "pygments_lexer": "ipython3",
   "version": "3.12.3"
  }
 },
 "nbformat": 4,
 "nbformat_minor": 5
}
