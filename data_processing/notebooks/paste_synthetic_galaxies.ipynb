{
 "cells": [
  {
   "cell_type": "markdown",
   "id": "9fc590e7d105cb8f",
   "metadata": {},
   "source": "# Adding Synthetic/Generated Galaxies to Training Images"
  },
  {
   "cell_type": "code",
   "id": "initial_id",
   "metadata": {
    "ExecuteTime": {
     "end_time": "2025-01-29T22:56:04.075015Z",
     "start_time": "2025-01-29T22:56:02.986089Z"
    }
   },
   "source": [
    "import os\n",
    "import sys\n",
    "\n",
    "sys.path.insert(1, \"../..\")\n",
    "\n",
    "from data_processing.data_proc_lib.transforms import augment\n",
    "from data_processing.data_proc_lib.cut_and_paste import paste\n",
    "from data_processing.data_proc_lib.utilities import combine, convert_to_yolo, create_directories"
   ],
   "outputs": [],
   "execution_count": 1
  },
  {
   "cell_type": "markdown",
   "id": "f8b4bdf7c8851bfc",
   "metadata": {},
   "source": "## 1 Adding a Single Galaxy to Training Images"
  },
  {
   "cell_type": "markdown",
   "id": "887b1113-1aab-4d27-8a0a-804658ea420a",
   "metadata": {},
   "source": [
    "These are the instructions to add a single synthetic galaxy to training images.\n",
    "\n",
    "**Prerequisites:** Cutouts have been created and synthetic galaxies have been created (see create_synthetic_galaxies.ipynb).\n",
    "\n",
    "Set `CLEANED_PATH` to be the directory containing the cleaned data.\n",
    "\n",
    "Set `OUTPUT_PATH` to be the directory to place the new augmented images with a cutout pasted into them.\n",
    "\n",
    "set `CUTOUTS_PATH` to be the location of the transformed galaxy cutouts. This will be the *same* as the `CUTOUTS_PATH` used in create_synthetic_galaxies.ipynb. This directory contains the separate directories named 0-3, each one representing a galaxy category. Each of these directories will contain the `annotations` directory containing the annotation files for the cutouts and a directory called `transformed_galaxy_cutouts` containing the transformed galaxy cutout images.\n",
    "\n",
    "Set `IMAGE_DIR` to be the name of the directory (not a full path) holding the image files to paste into those in the `INPUT_PATH`. This will usually be `transformed_galaxy_cutouts` or `train`."
   ]
  },
  {
   "cell_type": "code",
   "id": "fb2efb49-b483-4bd6-8021-0ad5c554660a",
   "metadata": {
    "ExecuteTime": {
     "end_time": "2025-01-29T22:56:10.029921Z",
     "start_time": "2025-01-29T22:56:10.028315Z"
    }
   },
   "source": [
    "CLEANED_PATH = \"/mnt/data/rgn_ijcnn/cleaned\"\n",
    "INPUT_PATH = CLEANED_PATH\n",
    "#INPUT_PATH = \"/mnt/data/rgn_ijcnn/augmented/1_fda_galaxy/combined\"\n",
    "OUTPUT_PATH = \"/mnt/data/rgn_ijcnn/augmented/1_vae_galaxy\"\n",
    "CUTOUTS_PATH = \"/mnt/data/rgn_ijcnn/augmented/vae_by_class\"\n",
    "IMAGE_DIR = \"train\"\n",
    "create_directories(OUTPUT_PATH)"
   ],
   "outputs": [],
   "execution_count": 2
  },
  {
   "cell_type": "code",
   "id": "61639e50-266f-4ace-b4d0-a60d3c3c7d0f",
   "metadata": {},
   "source": "paste(INPUT_PATH, OUTPUT_PATH, CUTOUTS_PATH, IMAGE_DIR)",
   "outputs": [],
   "execution_count": null
  },
  {
   "cell_type": "markdown",
   "id": "ee6d12fee17e9c05",
   "metadata": {},
   "source": [
    "The `OUTPUT_PATH` will now contain training images and annotations augmented with one additional synthetic galaxy pasted in to each image."
   ]
  },
  {
   "metadata": {},
   "cell_type": "markdown",
   "source": "## 2 Combine with the Cleaned Data",
   "id": "54b82ec754b8b284"
  },
  {
   "metadata": {},
   "cell_type": "markdown",
   "source": [
    "After adding galaxies we need to recombine the augmented data (with multiple galaxies) with the unaugmented, cleaned training data. The following step does this. The combined out put will be placed in directory `OUTPUT_PATH/combined`.\n",
    "\n",
    "Note: This step uses `OUTPUT_PATH` set in the previous parts of the notebook, so if you have created images with +1 galaxy, and +2 galaxies, and +3 galaxies etc, the following step will only perform the `combine` operation on the last one used (i.e. the current value of `OUTPUT_PATH`). If you want to repeat this for the others, just change the `OUTPUT PATH` to point to the appropriate directory."
   ],
   "id": "dc89afb5aaaca0b9"
  },
  {
   "metadata": {},
   "cell_type": "code",
   "source": "combine(OUTPUT_PATH, CLEANED_PATH)",
   "id": "c323232ee482b55",
   "outputs": [],
   "execution_count": null
  },
  {
   "cell_type": "markdown",
   "id": "917af8212416a348",
   "metadata": {},
   "source": "## 3 Adding A Second Galaxy to Training Images"
  },
  {
   "cell_type": "markdown",
   "id": "6fe410185539c652",
   "metadata": {},
   "source": [
    "These are the instructions to add further synthetic galaxies to training images. It works by \"chaining\" the copy-paste process described in step 1 above.\n",
    "\n",
    "**Prerequisite:** First add one synthetic galaxy to the training images using the steps in section 1. Then combine the output with the cleaned dataset.\n",
    "\n",
    "Paths to set:\n",
    "1. Set `INPUT_PATH` to the path `OUTPUT_PATH/combined` which was the output of step 2. (In effect, the images augmented with one galaxy in step 1, plus the cleaned data it was combined with in step 2 become the input to this step.)\n",
    "2. Set `OUTPUT_PATH` to a *new* path where you want to put the training images and annotations augmented with two synthetic galaxies.\n",
    "\n",
    "Here is an example of suitable settings (modify these for the paths you want to use)."
   ]
  },
  {
   "cell_type": "code",
   "id": "f95ac7a40c222ed4",
   "metadata": {
    "ExecuteTime": {
     "end_time": "2025-01-29T22:57:31.932738Z",
     "start_time": "2025-01-29T22:57:31.931127Z"
    }
   },
   "source": [
    "INPUT_PATH = \"/mnt/data/rgn_ijcnn/augmented/1_vae_galaxy/combined\"\n",
    "OUTPUT_PATH = \"/mnt/data/rgn_ijcnn/augmented/2_vae_galaxies\"\n",
    "CUTOUTS_PATH = \"/mnt/data/rgn_ijcnn/augmented/vae_by_class\"\n",
    "create_directories(OUTPUT_PATH)"
   ],
   "outputs": [],
   "execution_count": 5
  },
  {
   "cell_type": "markdown",
   "id": "6f3dce74a5554319",
   "metadata": {},
   "source": [
    "Now run the copy-paste operation. After this, `OUTPUT_PATH` will contain training images and annotations augmented with two galaxies."
   ]
  },
  {
   "cell_type": "code",
   "id": "eb6cb5130d5ea591",
   "metadata": {},
   "source": "paste(INPUT_PATH, OUTPUT_PATH, CUTOUTS_PATH, IMAGE_DIR)",
   "outputs": [],
   "execution_count": null
  },
  {
   "metadata": {},
   "cell_type": "markdown",
   "source": "## 4 Combine with the Cleaned Data",
   "id": "7188825879d6dffe"
  },
  {
   "metadata": {},
   "cell_type": "markdown",
   "source": [
    "After adding galaxies we need to recombine the augmented data (with multiple galaxies) with the unaugmented, cleaned training data. The following step does this. The combined out put will be placed in directory `OUTPUT_PATH/combined`.\n",
    "\n",
    "Note: This step uses `OUTPUT_PATH` set in the previous parts of the notebook, so if you have created images with +1 galaxy, and +2 galaxies, and +3 galaxies etc, the following step will only perform the `combine` operation on the last one used (i.e. the current value of `OUTPUT_PATH`). If you want to repeat this for the others, just change the `OUTPUT PATH` to point to the appropriate directory."
   ],
   "id": "48ea10e905569d28"
  },
  {
   "metadata": {},
   "cell_type": "code",
   "source": "combine(OUTPUT_PATH, CLEANED_PATH)",
   "id": "95858ac522ccd3bc",
   "outputs": [],
   "execution_count": null
  },
  {
   "cell_type": "markdown",
   "id": "4096b788a213e7dd",
   "metadata": {},
   "source": [
    "## 5 Adding Even More Galaxies\n",
    "\n",
    "Of course, it's possible to paste in as many galaxies as you want by repeating the steps in step 2 again. Reset the paths (the `INPUT_PATH` is set to the `OUTPUT_PATH` of the previous step, as in section 2 above) and rerun the commands. It probably only makes sense to do this a few times, because if too many galaxies are added the image will get very crowded and it will be hard to add more galaxies without their masks overlapping. We don't allow masks to overlap, so if this happens then the image is automatically excluded from training. Nevertheless, it's perfectly possible to add a few galaxies to each training image."
   ]
  },
  {
   "metadata": {},
   "cell_type": "markdown",
   "source": "## 6 Add Background Images",
   "id": "6172e317f2e51e51"
  },
  {
   "metadata": {},
   "cell_type": "markdown",
   "source": "Background images are images with no objects of interest (galaxies) and no annotations. These can be made using the steps in notebook generate_backgrounds.ipynb. Having made these, we now copy a random selection of these into the directory containing the training images. We want the number to be about 5% of the total number of training images.",
   "id": "8b4f861d35492dcf"
  },
  {
   "metadata": {},
   "cell_type": "code",
   "source": [
    "# Count the number of files in the output directory.\n",
    "!ls /mnt/data/rgn_ijcnn/augmented/2_vae_galaxies/combined/train | wc -l"
   ],
   "id": "6072adc319ecf1c0",
   "outputs": [],
   "execution_count": null
  },
  {
   "metadata": {},
   "cell_type": "code",
   "source": [
    "# Copy in a random selection of backgrounds. The argument -zn250 specifies the number of images, so change the 250 to be about 5% of the total number of training images.\n",
    "!cd /mnt/data/rgn_ijcnn/augmented/backgrounds && shuf -zn275 -e *.png | xargs -0 cp -vt {os.path.join(OUTPUT_PATH, \"combined\", \"train\")}"
   ],
   "id": "6288ec10dc99b38d",
   "outputs": [],
   "execution_count": null
  },
  {
   "cell_type": "markdown",
   "id": "d9bb3d92-985c-4eee-aa48-23313381635a",
   "metadata": {},
   "source": [
    "## 7 Convert to YOLO Format"
   ]
  },
  {
   "cell_type": "markdown",
   "id": "5ed59211-d0e8-4eaa-9913-44d88be31555",
   "metadata": {},
   "source": "Finally, if you want to use the data to train YOLO, we need to convert it to the YOLO format. Set the `YOLO_PATH` below, to be the location to place the YOLO-format files. This should be an absolute path (not relative)."
  },
  {
   "cell_type": "code",
   "id": "9e2636a7-90b2-4bda-9398-d7984fcd5c83",
   "metadata": {
    "ExecuteTime": {
     "end_time": "2025-01-29T23:03:23.849908Z",
     "start_time": "2025-01-29T23:03:23.847909Z"
    }
   },
   "source": "YOLO_PATH = \"/mnt/data/rgn_ijcnn/yolo/yolo_2_vae_galaxies\"",
   "outputs": [],
   "execution_count": 10
  },
  {
   "cell_type": "code",
   "id": "1d830bfc-ca1e-47a8-b25e-6dd713b1c3ed",
   "metadata": {},
   "source": "convert_to_yolo(os.path.join(OUTPUT_PATH, \"combined\"), YOLO_PATH)",
   "outputs": [],
   "execution_count": null
  },
  {
   "cell_type": "code",
   "execution_count": null,
   "id": "623d1164-a12a-41db-b570-801a2b3faf1a",
   "metadata": {},
   "outputs": [],
   "source": []
  }
 ],
 "metadata": {
  "kernelspec": {
   "display_name": "Python 3 (ipykernel)",
   "language": "python",
   "name": "python3"
  },
  "language_info": {
   "codemirror_mode": {
    "name": "ipython",
    "version": 3
   },
   "file_extension": ".py",
   "mimetype": "text/x-python",
   "name": "python",
   "nbconvert_exporter": "python",
   "pygments_lexer": "ipython3",
   "version": "3.12.3"
  }
 },
 "nbformat": 4,
 "nbformat_minor": 5
}
