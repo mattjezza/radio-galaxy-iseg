{
 "cells": [
  {
   "cell_type": "markdown",
   "id": "322b234a-3a02-4dc3-abcf-35ae8a6334e3",
   "metadata": {},
   "source": [
    "# YOLO Training and Testing"
   ]
  },
  {
   "cell_type": "markdown",
   "id": "8924e9d8-078c-4a08-992e-b4f0459becfe",
   "metadata": {},
   "source": [
    "This notebook shows how to train and test YOLO."
   ]
  },
  {
   "metadata": {
    "ExecuteTime": {
     "end_time": "2025-01-28T09:20:48.538088Z",
     "start_time": "2025-01-28T09:20:48.166414Z"
    }
   },
   "cell_type": "code",
   "source": [
    "# Ensure Albumntations is not installed so it does not apply augmentations automatically.\n",
    "#!pip uninstall albumentations -y"
   ],
   "id": "9100560bc8a65993",
   "outputs": [
    {
     "name": "stdout",
     "output_type": "stream",
     "text": [
      "Found existing installation: albumentations 2.0.2\r\n",
      "Uninstalling albumentations-2.0.2:\r\n",
      "  Successfully uninstalled albumentations-2.0.2\r\n"
     ]
    }
   ],
   "execution_count": 1
  },
  {
   "cell_type": "code",
   "id": "738ee0fc-2c92-48b9-b353-c476526dfe19",
   "metadata": {},
   "source": [
    "import os\n",
    "from ultralytics import YOLO\n",
    "from pycocotools.coco import COCO\n",
    "from pycocotools.cocoeval import COCOeval\n",
    "import json\n",
    "import ultralytics\n",
    "\n",
    "ultralytics.checks()"
   ],
   "execution_count": 1,
   "outputs": [
    {
     "name": "stdout",
     "output_type": "stream",
     "text": [
      "Ultralytics 8.3.68 🚀 Python-3.12.8 torch-2.5.1+cu118 CUDA:0 (NVIDIA GeForce RTX 4090, 24209MiB)\n",
      "Setup complete ✅ (32 CPUs, 62.5 GB RAM, 774.6/899.9 GB disk)\n"
     ]
    }
   ]
  },
  {
   "metadata": {},
   "cell_type": "markdown",
   "source": "## Testing",
   "id": "1075fd73d6db543a"
  },
  {
   "metadata": {},
   "cell_type": "markdown",
   "source": [
    "The following show commands to perform testing on a trained YOLO model. Note:\n",
    "\n",
    "- We set retina_masks=True to give better mask quality\n",
    "- Confidence threshold is set to 0.5\n",
    "- Set `model` to be the path to the best weights for the trained model\n",
    "- Set `data` to be the path to the YOLO-formatted data to use for testing.\n",
    "\n",
    "Note that in validation mode, by default YOLO will look for a directory under `data` called `val`. This is not what we want for **testing** - we want to run against the test set. Therefore, for testing, rename the `images/val` and `labels/val` directories to something else, and rename `images/test` to `images/val` and `labels/val` to `labels/test`. Then it will run validation using the test set."
   ],
   "id": "328060f26b225066"
  },
  {
   "metadata": {},
   "cell_type": "markdown",
   "source": "YOLO's evaluation results differ from those of the official COCO API. To enable comparison with the other modesl, which use COCO evaluation, we also need to evaluate YOLO with COCO. The following function enables this.",
   "id": "46932fa403e23719"
  },
  {
   "metadata": {
    "ExecuteTime": {
     "end_time": "2025-01-29T23:04:22.326294Z",
     "start_time": "2025-01-29T23:04:22.321108Z"
    }
   },
   "cell_type": "code",
   "source": [
    "# Adapted with changes from YOLO_RadioGalaxyNET/coco_evaluate.py in https://github.com/Nikhel1/Gal-YOLOv8\n",
    "# Original copyright:\n",
    "# Copyright (c) 2023 Nikhel\n",
    "# MIT License text included in the README\n",
    "\n",
    "def coco_evaluate(test_annos, predictions_path, per_cat=False):\n",
    "    \"\"\"\n",
    "    Evaluate a trained YOLO format with the COCO evaluator.\n",
    "\n",
    "    test_annos: The annotations file containing ground truth values\n",
    "    predictions_path: Path to the location of the predictions from a trained YOLO model.\n",
    "    per_cat: Whether to evaluate per category. Default is False.\n",
    "    \"\"\"\n",
    "\n",
    "    # Ground truth annotations from the cleaned test set.\n",
    "    coco_gt = COCO(str(test_annos))\n",
    "\n",
    "    filename2id = {img['file_name']: img['id'] for img in coco_gt.dataset['images']}\n",
    "\n",
    "    coco_preds = json.load(open(os.path.join(predictions_path, \"predictions.json\")))\n",
    "\n",
    "    # Update image_id and category_id in coco_preds and save to predictions_new.json\n",
    "    for idx in range(len(coco_preds)):\n",
    "        coco_preds[idx]['image_id'] = filename2id[coco_preds[idx]['image_id'] + '.png']\n",
    "        # coco_preds[idx]['category_id'] = coco_preds[idx]['category_id'] + 1\n",
    "\n",
    "    with open(os.path.join(predictions_path, \"predictions_new.json\"), \"w\") as fp:\n",
    "        json.dump(coco_preds, fp)\n",
    "\n",
    "    coco_preds_new = coco_gt.loadRes(str(os.path.join(predictions_path, \"predictions_new.json\")))\n",
    "\n",
    "    cats = coco_gt.loadCats(coco_gt.getCatIds())\n",
    "    names = [cat['name'] for cat in cats]\n",
    "\n",
    "    # Evaluate for bbox and segmentation\n",
    "    # We use the sizes small, medium, large defined in Gupta et al, 2024\n",
    "    for task in ['bbox', 'segm']:\n",
    "        coco_eval = COCOeval(coco_gt, coco_preds_new, task)\n",
    "        coco_eval.params.imgIds = coco_gt.getImgIds()\n",
    "        coco_eval.params.areaRng = [[0 ** 2, 1e5 ** 2], [0 ** 2, 24 ** 2], [24 ** 2, 48 ** 2], [48 ** 2, 1e5 ** 2]]\n",
    "        coco_eval.params.areaRngLbl = ['all', 'small', 'medium', 'large']\n",
    "        coco_eval.evaluate()\n",
    "        coco_eval.accumulate()\n",
    "        coco_eval.summarize()\n",
    "\n",
    "    if per_cat is True:\n",
    "        for idx, name in enumerate(names):\n",
    "            for task in ['bbox', 'segm']:\n",
    "                print(f\"Results for {name}\")\n",
    "                coco_eval = COCOeval(coco_gt, coco_preds_new, task)\n",
    "                coco_eval.params.imgIds = coco_gt.getImgIds()\n",
    "                coco_eval.params.catIds = idx + 1\n",
    "                coco_eval.params.areaRng = [[0 ** 2, 1e5 ** 2], [0 ** 2, 24 ** 2], [24 ** 2, 48 ** 2],\n",
    "                                            [48 ** 2, 1e5 ** 2]]\n",
    "                coco_eval.params.areaRngLbl = ['all', 'small', 'medium', 'large']\n",
    "                coco_eval.evaluate()\n",
    "                coco_eval.accumulate()\n",
    "                coco_eval.summarize()\n",
    "\n",
    "\n",
    "\"\"\"\"\n",
    "References\n",
    "N. Gupta, Z. Hayder, R. P. Norris, M. Huynh, and L. Petersson, “Ra-\n",
    "dioGalaxyNET: Dataset and novel computer vision algorithms for the\n",
    "detection of extended radio galaxies and infrared hosts,” Publications of\n",
    "the Astronomical Society of Australia, vol. 41, p. e001, 2024, publisher:\n",
    "Cambridge University Press.\n",
    "\"\"\""
   ],
   "id": "a19d9bdc2d0e73b2",
   "outputs": [
    {
     "data": {
      "text/plain": [
       "'\"\\nReferences\\nN. Gupta, Z. Hayder, R. P. Norris, M. Huynh, and L. Petersson, “Ra-\\ndioGalaxyNET: Dataset and novel computer vision algorithms for the\\ndetection of extended radio galaxies and infrared hosts,” Publications of\\nthe Astronomical Society of Australia, vol. 41, p. e001, 2024, publisher:\\nCambridge University Press.\\n'"
      ]
     },
     "execution_count": 2,
     "metadata": {},
     "output_type": "execute_result"
    }
   ],
   "execution_count": 2
  },
  {
   "cell_type": "markdown",
   "id": "e8359c67-fa99-43f1-ab48-4fbd41028c01",
   "metadata": {},
   "source": [
    "## Training"
   ]
  },
  {
   "cell_type": "markdown",
   "id": "05a138aa-b06b-4b6b-82d4-9ff84ae39dc1",
   "metadata": {},
   "source": "The following is a typical command to start training YOLO. Replace the path to `data` with the path to the data you want to use. Note the dataset has to be prepared in YOLO format. See the `README.md` in `data_processing` for instructions about that."
  },
  {
   "metadata": {},
   "cell_type": "markdown",
   "source": "## Cleaned Dataset - YOLO v11 Large  Model",
   "id": "a6bed663f11c9f0a"
  },
  {
   "metadata": {},
   "cell_type": "code",
   "source": [
    "%%bash\n",
    "(yolo task=segment mode=train model=yolo11l-seg.pt \\\n",
    "data=\"/mnt/data/rgn_ijcnn/yolo/YOLO_cleaned/datasets/data.yaml\" \\\n",
    "epochs=150 batch=32 \\\n",
    "hsv_h=0 hsv_s=0 hsv_v=0 mosaic=0 \\\n",
    "fliplr=0 patience=25)"
   ],
   "id": "ee3f984169cde73b",
   "outputs": [],
   "execution_count": null
  },
  {
   "metadata": {},
   "cell_type": "markdown",
   "source": [
    "Results saved to runs/segment/train13\n",
    "\n",
    "                   all        410        605      0.691      0.757      0.752      0.727      0.692      0.758      0.756      0.623\n",
    "                 FR-II        221        267      0.733      0.816      0.809      0.775       0.74      0.824      0.823      0.688\n",
    "                  FR-I         78         83      0.748      0.644      0.742      0.725      0.748      0.644      0.746      0.626\n",
    "                  FR-X         82         84      0.559       0.75      0.669      0.643      0.559       0.75      0.669      0.532\n",
    "                     R        154        171      0.725      0.819      0.789      0.764      0.719      0.813      0.786      0.645"
   ],
   "id": "ec68fda058501f84"
  },
  {
   "metadata": {
    "ExecuteTime": {
     "end_time": "2025-01-28T17:55:21.402745Z",
     "start_time": "2025-01-28T17:55:13.578728Z"
    }
   },
   "cell_type": "code",
   "source": "!yolo task=segment mode=val model=runs/segment/train13/weights/best.pt retina_masks=True conf=0.5 data=\"/mnt/data/rgn_ijcnn/yolo/yolo_cleaned/datasets/data.yaml\" save_json=True",
   "id": "6e5bdd973697631d",
   "outputs": [
    {
     "name": "stdout",
     "output_type": "stream",
     "text": [
      "Ultralytics 8.3.68 🚀 Python-3.12.8 torch-2.5.1+cu118 CUDA:0 (NVIDIA GeForce RTX 4090, 24209MiB)\r\n",
      "YOLO11l-seg summary (fused): 491 layers, 27,587,676 parameters, 0 gradients, 141.9 GFLOPs\r\n",
      "\u001B[34m\u001B[1mval: \u001B[0mScanning /mnt/data/rgn_ijcnn/yolo/yolo_cleaned/datasets/labels/val... 410 i\u001B[0m\r\n",
      "\u001B[34m\u001B[1mval: \u001B[0mNew cache created: /mnt/data/rgn_ijcnn/yolo/yolo_cleaned/datasets/labels/val.cache\r\n",
      "                 Class     Images  Instances      Box(P          R      mAP50  m\r\n",
      "                   all        410        605      0.719      0.728      0.732      0.715      0.721       0.73      0.734      0.599\r\n",
      "                 FR-II        221        267      0.754      0.801      0.791      0.767      0.761      0.809      0.802      0.647\r\n",
      "                  FR-I         78         83      0.781      0.602      0.713      0.702      0.781      0.602      0.713      0.609\r\n",
      "                  FR-X         82         84      0.598      0.726      0.658      0.642      0.598      0.726      0.658       0.53\r\n",
      "                     R        154        171      0.742      0.784      0.765      0.751      0.742      0.784      0.765       0.61\r\n",
      "Speed: 0.3ms preprocess, 4.7ms inference, 0.0ms loss, 0.3ms postprocess per image\r\n",
      "Saving runs/segment/val2/predictions.json...\r\n",
      "Results saved to \u001B[1mruns/segment/val2\u001B[0m\r\n",
      "💡 Learn more at https://docs.ultralytics.com/modes/val\r\n"
     ]
    }
   ],
   "execution_count": 5
  },
  {
   "metadata": {
    "ExecuteTime": {
     "end_time": "2025-01-28T18:17:48.762448Z",
     "start_time": "2025-01-28T18:17:48.443954Z"
    }
   },
   "cell_type": "code",
   "source": "coco_evaluate(\"/mnt/data/rgn_ijcnn/cleaned/annotations/val.json\", \"runs/segment/val2\", per_cat=True)",
   "id": "17afbcff33162fe7",
   "outputs": [
    {
     "name": "stdout",
     "output_type": "stream",
     "text": [
      "loading annotations into memory...\n",
      "Done (t=0.00s)\n",
      "creating index...\n",
      "index created!\n",
      "Loading and preparing results...\n",
      "DONE (t=0.00s)\n",
      "creating index...\n",
      "index created!\n",
      "Running per image evaluation...\n",
      "Evaluate annotation type *bbox*\n",
      "DONE (t=0.04s).\n",
      "Accumulating evaluation results...\n",
      "DONE (t=0.02s).\n",
      " Average Precision  (AP) @[ IoU=0.50:0.95 | area=   all | maxDets=100 ] = 0.614\n",
      " Average Precision  (AP) @[ IoU=0.50      | area=   all | maxDets=100 ] = 0.634\n",
      " Average Precision  (AP) @[ IoU=0.75      | area=   all | maxDets=100 ] = 0.626\n",
      " Average Precision  (AP) @[ IoU=0.50:0.95 | area= small | maxDets=100 ] = 0.542\n",
      " Average Precision  (AP) @[ IoU=0.50:0.95 | area=medium | maxDets=100 ] = 0.635\n",
      " Average Precision  (AP) @[ IoU=0.50:0.95 | area= large | maxDets=100 ] = 0.559\n",
      " Average Recall     (AR) @[ IoU=0.50:0.95 | area=   all | maxDets=  1 ] = 0.636\n",
      " Average Recall     (AR) @[ IoU=0.50:0.95 | area=   all | maxDets= 10 ] = 0.713\n",
      " Average Recall     (AR) @[ IoU=0.50:0.95 | area=   all | maxDets=100 ] = 0.713\n",
      " Average Recall     (AR) @[ IoU=0.50:0.95 | area= small | maxDets=100 ] = 0.654\n",
      " Average Recall     (AR) @[ IoU=0.50:0.95 | area=medium | maxDets=100 ] = 0.731\n",
      " Average Recall     (AR) @[ IoU=0.50:0.95 | area= large | maxDets=100 ] = 0.580\n",
      "Running per image evaluation...\n",
      "Evaluate annotation type *segm*\n",
      "DONE (t=0.10s).\n",
      "Accumulating evaluation results...\n",
      "DONE (t=0.02s).\n",
      " Average Precision  (AP) @[ IoU=0.50:0.95 | area=   all | maxDets=100 ] = 0.531\n",
      " Average Precision  (AP) @[ IoU=0.50      | area=   all | maxDets=100 ] = 0.635\n",
      " Average Precision  (AP) @[ IoU=0.75      | area=   all | maxDets=100 ] = 0.629\n",
      " Average Precision  (AP) @[ IoU=0.50:0.95 | area= small | maxDets=100 ] = 0.460\n",
      " Average Precision  (AP) @[ IoU=0.50:0.95 | area=medium | maxDets=100 ] = 0.553\n",
      " Average Precision  (AP) @[ IoU=0.50:0.95 | area= large | maxDets=100 ] = 0.475\n",
      " Average Recall     (AR) @[ IoU=0.50:0.95 | area=   all | maxDets=  1 ] = 0.559\n",
      " Average Recall     (AR) @[ IoU=0.50:0.95 | area=   all | maxDets= 10 ] = 0.627\n",
      " Average Recall     (AR) @[ IoU=0.50:0.95 | area=   all | maxDets=100 ] = 0.627\n",
      " Average Recall     (AR) @[ IoU=0.50:0.95 | area= small | maxDets=100 ] = 0.561\n",
      " Average Recall     (AR) @[ IoU=0.50:0.95 | area=medium | maxDets=100 ] = 0.645\n",
      " Average Recall     (AR) @[ IoU=0.50:0.95 | area= large | maxDets=100 ] = 0.506\n",
      "Results for FR-II\n",
      "Running per image evaluation...\n",
      "Evaluate annotation type *bbox*\n",
      "DONE (t=0.02s).\n",
      "Accumulating evaluation results...\n",
      "DONE (t=0.01s).\n",
      " Average Precision  (AP) @[ IoU=0.50:0.95 | area=   all | maxDets=100 ] = 0.684\n",
      " Average Precision  (AP) @[ IoU=0.50      | area=   all | maxDets=100 ] = 0.717\n",
      " Average Precision  (AP) @[ IoU=0.75      | area=   all | maxDets=100 ] = 0.686\n",
      " Average Precision  (AP) @[ IoU=0.50:0.95 | area= small | maxDets=100 ] = 0.478\n",
      " Average Precision  (AP) @[ IoU=0.50:0.95 | area=medium | maxDets=100 ] = 0.691\n",
      " Average Precision  (AP) @[ IoU=0.50:0.95 | area= large | maxDets=100 ] = 0.754\n",
      " Average Recall     (AR) @[ IoU=0.50:0.95 | area=   all | maxDets=  1 ] = 0.633\n",
      " Average Recall     (AR) @[ IoU=0.50:0.95 | area=   all | maxDets= 10 ] = 0.773\n",
      " Average Recall     (AR) @[ IoU=0.50:0.95 | area=   all | maxDets=100 ] = 0.773\n",
      " Average Recall     (AR) @[ IoU=0.50:0.95 | area= small | maxDets=100 ] = 0.715\n",
      " Average Recall     (AR) @[ IoU=0.50:0.95 | area=medium | maxDets=100 ] = 0.766\n",
      " Average Recall     (AR) @[ IoU=0.50:0.95 | area= large | maxDets=100 ] = 0.831\n",
      "Results for FR-II\n",
      "Running per image evaluation...\n",
      "Evaluate annotation type *segm*\n",
      "DONE (t=0.02s).\n",
      "Accumulating evaluation results...\n",
      "DONE (t=0.01s).\n",
      " Average Precision  (AP) @[ IoU=0.50:0.95 | area=   all | maxDets=100 ] = 0.589\n",
      " Average Precision  (AP) @[ IoU=0.50      | area=   all | maxDets=100 ] = 0.724\n",
      " Average Precision  (AP) @[ IoU=0.75      | area=   all | maxDets=100 ] = 0.700\n",
      " Average Precision  (AP) @[ IoU=0.50:0.95 | area= small | maxDets=100 ] = 0.392\n",
      " Average Precision  (AP) @[ IoU=0.50:0.95 | area=medium | maxDets=100 ] = 0.596\n",
      " Average Precision  (AP) @[ IoU=0.50:0.95 | area= large | maxDets=100 ] = 0.668\n",
      " Average Recall     (AR) @[ IoU=0.50:0.95 | area=   all | maxDets=  1 ] = 0.558\n",
      " Average Recall     (AR) @[ IoU=0.50:0.95 | area=   all | maxDets= 10 ] = 0.678\n",
      " Average Recall     (AR) @[ IoU=0.50:0.95 | area=   all | maxDets=100 ] = 0.678\n",
      " Average Recall     (AR) @[ IoU=0.50:0.95 | area= small | maxDets=100 ] = 0.593\n",
      " Average Recall     (AR) @[ IoU=0.50:0.95 | area=medium | maxDets=100 ] = 0.669\n",
      " Average Recall     (AR) @[ IoU=0.50:0.95 | area= large | maxDets=100 ] = 0.754\n",
      "Results for FR-I\n",
      "Running per image evaluation...\n",
      "Evaluate annotation type *bbox*\n",
      "DONE (t=0.01s).\n",
      "Accumulating evaluation results...\n",
      "DONE (t=0.00s).\n",
      " Average Precision  (AP) @[ IoU=0.50:0.95 | area=   all | maxDets=100 ] = 0.550\n",
      " Average Precision  (AP) @[ IoU=0.50      | area=   all | maxDets=100 ] = 0.561\n",
      " Average Precision  (AP) @[ IoU=0.75      | area=   all | maxDets=100 ] = 0.561\n",
      " Average Precision  (AP) @[ IoU=0.50:0.95 | area= small | maxDets=100 ] = 0.361\n",
      " Average Precision  (AP) @[ IoU=0.50:0.95 | area=medium | maxDets=100 ] = 0.647\n",
      " Average Precision  (AP) @[ IoU=0.50:0.95 | area= large | maxDets=100 ] = 0.353\n",
      " Average Recall     (AR) @[ IoU=0.50:0.95 | area=   all | maxDets=  1 ] = 0.546\n",
      " Average Recall     (AR) @[ IoU=0.50:0.95 | area=   all | maxDets= 10 ] = 0.593\n",
      " Average Recall     (AR) @[ IoU=0.50:0.95 | area=   all | maxDets=100 ] = 0.593\n",
      " Average Recall     (AR) @[ IoU=0.50:0.95 | area= small | maxDets=100 ] = 0.369\n",
      " Average Recall     (AR) @[ IoU=0.50:0.95 | area=medium | maxDets=100 ] = 0.696\n",
      " Average Recall     (AR) @[ IoU=0.50:0.95 | area= large | maxDets=100 ] = 0.360\n",
      "Results for FR-I\n",
      "Running per image evaluation...\n",
      "Evaluate annotation type *segm*\n",
      "DONE (t=0.01s).\n",
      "Accumulating evaluation results...\n",
      "DONE (t=0.00s).\n",
      " Average Precision  (AP) @[ IoU=0.50:0.95 | area=   all | maxDets=100 ] = 0.491\n",
      " Average Precision  (AP) @[ IoU=0.50      | area=   all | maxDets=100 ] = 0.561\n",
      " Average Precision  (AP) @[ IoU=0.75      | area=   all | maxDets=100 ] = 0.561\n",
      " Average Precision  (AP) @[ IoU=0.50:0.95 | area= small | maxDets=100 ] = 0.319\n",
      " Average Precision  (AP) @[ IoU=0.50:0.95 | area=medium | maxDets=100 ] = 0.580\n",
      " Average Precision  (AP) @[ IoU=0.50:0.95 | area= large | maxDets=100 ] = 0.331\n",
      " Average Recall     (AR) @[ IoU=0.50:0.95 | area=   all | maxDets=  1 ] = 0.492\n",
      " Average Recall     (AR) @[ IoU=0.50:0.95 | area=   all | maxDets= 10 ] = 0.535\n",
      " Average Recall     (AR) @[ IoU=0.50:0.95 | area=   all | maxDets=100 ] = 0.535\n",
      " Average Recall     (AR) @[ IoU=0.50:0.95 | area= small | maxDets=100 ] = 0.331\n",
      " Average Recall     (AR) @[ IoU=0.50:0.95 | area=medium | maxDets=100 ] = 0.626\n",
      " Average Recall     (AR) @[ IoU=0.50:0.95 | area= large | maxDets=100 ] = 0.340\n",
      "Results for FR-X\n",
      "Running per image evaluation...\n",
      "Evaluate annotation type *bbox*\n",
      "DONE (t=0.01s).\n",
      "Accumulating evaluation results...\n",
      "DONE (t=0.00s).\n",
      " Average Precision  (AP) @[ IoU=0.50:0.95 | area=   all | maxDets=100 ] = 0.557\n",
      " Average Precision  (AP) @[ IoU=0.50      | area=   all | maxDets=100 ] = 0.574\n",
      " Average Precision  (AP) @[ IoU=0.75      | area=   all | maxDets=100 ] = 0.574\n",
      " Average Precision  (AP) @[ IoU=0.50:0.95 | area= small | maxDets=100 ] = 0.551\n",
      " Average Precision  (AP) @[ IoU=0.50:0.95 | area=medium | maxDets=100 ] = 0.572\n",
      " Average Precision  (AP) @[ IoU=0.50:0.95 | area= large | maxDets=100 ] = 0.752\n",
      " Average Recall     (AR) @[ IoU=0.50:0.95 | area=   all | maxDets=  1 ] = 0.688\n",
      " Average Recall     (AR) @[ IoU=0.50:0.95 | area=   all | maxDets= 10 ] = 0.712\n",
      " Average Recall     (AR) @[ IoU=0.50:0.95 | area=   all | maxDets=100 ] = 0.712\n",
      " Average Recall     (AR) @[ IoU=0.50:0.95 | area= small | maxDets=100 ] = 0.683\n",
      " Average Recall     (AR) @[ IoU=0.50:0.95 | area=medium | maxDets=100 ] = 0.726\n",
      " Average Recall     (AR) @[ IoU=0.50:0.95 | area= large | maxDets=100 ] = 0.750\n",
      "Results for FR-X\n",
      "Running per image evaluation...\n",
      "Evaluate annotation type *segm*\n",
      "DONE (t=0.01s).\n",
      "Accumulating evaluation results...\n",
      "DONE (t=0.00s).\n",
      " Average Precision  (AP) @[ IoU=0.50:0.95 | area=   all | maxDets=100 ] = 0.483\n",
      " Average Precision  (AP) @[ IoU=0.50      | area=   all | maxDets=100 ] = 0.574\n",
      " Average Precision  (AP) @[ IoU=0.75      | area=   all | maxDets=100 ] = 0.574\n",
      " Average Precision  (AP) @[ IoU=0.50:0.95 | area= small | maxDets=100 ] = 0.470\n",
      " Average Precision  (AP) @[ IoU=0.50:0.95 | area=medium | maxDets=100 ] = 0.502\n",
      " Average Precision  (AP) @[ IoU=0.50:0.95 | area= large | maxDets=100 ] = 0.636\n",
      " Average Recall     (AR) @[ IoU=0.50:0.95 | area=   all | maxDets=  1 ] = 0.604\n",
      " Average Recall     (AR) @[ IoU=0.50:0.95 | area=   all | maxDets= 10 ] = 0.625\n",
      " Average Recall     (AR) @[ IoU=0.50:0.95 | area=   all | maxDets=100 ] = 0.625\n",
      " Average Recall     (AR) @[ IoU=0.50:0.95 | area= small | maxDets=100 ] = 0.583\n",
      " Average Recall     (AR) @[ IoU=0.50:0.95 | area=medium | maxDets=100 ] = 0.648\n",
      " Average Recall     (AR) @[ IoU=0.50:0.95 | area= large | maxDets=100 ] = 0.650\n",
      "Results for R\n",
      "Running per image evaluation...\n",
      "Evaluate annotation type *bbox*\n",
      "DONE (t=0.01s).\n",
      "Accumulating evaluation results...\n",
      "DONE (t=0.01s).\n",
      " Average Precision  (AP) @[ IoU=0.50:0.95 | area=   all | maxDets=100 ] = 0.668\n",
      " Average Precision  (AP) @[ IoU=0.50      | area=   all | maxDets=100 ] = 0.682\n",
      " Average Precision  (AP) @[ IoU=0.75      | area=   all | maxDets=100 ] = 0.682\n",
      " Average Precision  (AP) @[ IoU=0.50:0.95 | area= small | maxDets=100 ] = 0.779\n",
      " Average Precision  (AP) @[ IoU=0.50:0.95 | area=medium | maxDets=100 ] = 0.632\n",
      " Average Precision  (AP) @[ IoU=0.50:0.95 | area= large | maxDets=100 ] = 0.376\n",
      " Average Recall     (AR) @[ IoU=0.50:0.95 | area=   all | maxDets=  1 ] = 0.677\n",
      " Average Recall     (AR) @[ IoU=0.50:0.95 | area=   all | maxDets= 10 ] = 0.775\n",
      " Average Recall     (AR) @[ IoU=0.50:0.95 | area=   all | maxDets=100 ] = 0.775\n",
      " Average Recall     (AR) @[ IoU=0.50:0.95 | area= small | maxDets=100 ] = 0.851\n",
      " Average Recall     (AR) @[ IoU=0.50:0.95 | area=medium | maxDets=100 ] = 0.737\n",
      " Average Recall     (AR) @[ IoU=0.50:0.95 | area= large | maxDets=100 ] = 0.380\n",
      "Results for R\n",
      "Running per image evaluation...\n",
      "Evaluate annotation type *segm*\n",
      "DONE (t=0.01s).\n",
      "Accumulating evaluation results...\n",
      "DONE (t=0.00s).\n",
      " Average Precision  (AP) @[ IoU=0.50:0.95 | area=   all | maxDets=100 ] = 0.563\n",
      " Average Precision  (AP) @[ IoU=0.50      | area=   all | maxDets=100 ] = 0.682\n",
      " Average Precision  (AP) @[ IoU=0.75      | area=   all | maxDets=100 ] = 0.682\n",
      " Average Precision  (AP) @[ IoU=0.50:0.95 | area= small | maxDets=100 ] = 0.657\n",
      " Average Precision  (AP) @[ IoU=0.50:0.95 | area=medium | maxDets=100 ] = 0.535\n",
      " Average Precision  (AP) @[ IoU=0.50:0.95 | area= large | maxDets=100 ] = 0.264\n",
      " Average Recall     (AR) @[ IoU=0.50:0.95 | area=   all | maxDets=  1 ] = 0.585\n",
      " Average Recall     (AR) @[ IoU=0.50:0.95 | area=   all | maxDets= 10 ] = 0.669\n",
      " Average Recall     (AR) @[ IoU=0.50:0.95 | area=   all | maxDets=100 ] = 0.669\n",
      " Average Recall     (AR) @[ IoU=0.50:0.95 | area= small | maxDets=100 ] = 0.736\n",
      " Average Recall     (AR) @[ IoU=0.50:0.95 | area=medium | maxDets=100 ] = 0.638\n",
      " Average Recall     (AR) @[ IoU=0.50:0.95 | area= large | maxDets=100 ] = 0.280\n"
     ]
    }
   ],
   "execution_count": 7
  },
  {
   "metadata": {},
   "cell_type": "markdown",
   "source": "### Cleaned Dataset - YOLO v8 Large Model",
   "id": "b6df2324e22a2cac"
  },
  {
   "metadata": {},
   "cell_type": "code",
   "source": [
    "%%bash\n",
    "(yolo task=segment mode=train model=yolov8l-seg.pt \\\n",
    "data=\"/mnt/data/rgn_ijcnn/yolo/YOLO_cleaned/datasets/data.yaml\" \\\n",
    "epochs=150 batch=32 \\\n",
    "hsv_h=0 hsv_s=0 hsv_v=0 mosaic=0 \\\n",
    "fliplr=0 patience=25)"
   ],
   "id": "f32e92f27b0e914b",
   "outputs": [],
   "execution_count": null
  },
  {
   "metadata": {},
   "cell_type": "markdown",
   "source": [
    "Results saved to runs/segment/train14\n",
    "\n",
    "                   all        410        605      0.754      0.736      0.773      0.749      0.757       0.74      0.776      0.642\n",
    "                 FR-II        221        267      0.787      0.831      0.839      0.804      0.801      0.846      0.852      0.707\n",
    "                  FR-I         78         83      0.823      0.614      0.731      0.723      0.823      0.614      0.731      0.611\n",
    "                  FR-X         82         84      0.659       0.69      0.707      0.681      0.659       0.69      0.707       0.57\n",
    "                     R        154        171      0.746      0.807      0.813      0.787      0.746      0.807      0.813      0.679"
   ],
   "id": "515c68b1ed7a0f62"
  },
  {
   "metadata": {},
   "cell_type": "markdown",
   "source": "#### Validation Set",
   "id": "3ab91bb33ba9f314"
  },
  {
   "metadata": {
    "ExecuteTime": {
     "end_time": "2025-01-28T18:20:59.782424Z",
     "start_time": "2025-01-28T18:20:51.680961Z"
    }
   },
   "cell_type": "code",
   "source": "!yolo task=segment mode=val model=runs/segment/train14/weights/best.pt retina_masks=True conf=0.5 data=\"/mnt/data/rgn_ijcnn/yolo/yolo_cleaned/datasets/data.yaml\" save_json=True",
   "id": "6540aad1da79be9f",
   "outputs": [
    {
     "name": "stdout",
     "output_type": "stream",
     "text": [
      "Ultralytics 8.3.68 🚀 Python-3.12.8 torch-2.5.1+cu118 CUDA:0 (NVIDIA GeForce RTX 4090, 24209MiB)\r\n",
      "YOLOv8l-seg summary (fused): 295 layers, 45,914,972 parameters, 0 gradients, 220.1 GFLOPs\r\n",
      "\u001B[34m\u001B[1mval: \u001B[0mScanning /mnt/data/rgn_ijcnn/yolo/yolo_cleaned/datasets/labels/val.cache...\u001B[0m\r\n",
      "                 Class     Images  Instances      Box(P          R      mAP50  m\r\n",
      "                   all        410        605      0.787      0.702      0.759      0.739      0.791      0.706      0.763      0.624\r\n",
      "                 FR-II        221        267      0.812      0.809      0.814      0.785      0.827      0.824      0.827      0.668\r\n",
      "                  FR-I         78         83       0.88      0.554       0.72      0.711       0.88      0.554       0.72      0.614\r\n",
      "                  FR-X         82         84      0.693      0.667       0.71      0.688      0.693      0.667       0.71      0.575\r\n",
      "                     R        154        171      0.764      0.778      0.794      0.773      0.764      0.778      0.794      0.639\r\n",
      "Speed: 0.2ms preprocess, 5.9ms inference, 0.0ms loss, 0.3ms postprocess per image\r\n",
      "Saving runs/segment/val4/predictions.json...\r\n",
      "Results saved to \u001B[1mruns/segment/val4\u001B[0m\r\n",
      "💡 Learn more at https://docs.ultralytics.com/modes/val\r\n"
     ]
    }
   ],
   "execution_count": 10
  },
  {
   "metadata": {
    "ExecuteTime": {
     "end_time": "2025-01-28T18:22:17.988043Z",
     "start_time": "2025-01-28T18:22:17.838100Z"
    }
   },
   "cell_type": "code",
   "source": "coco_evaluate(\"/mnt/data/rgn_ijcnn/cleaned/annotations/val.json\", \"runs/segment/val4\")",
   "id": "f2a4a02df500bc69",
   "outputs": [
    {
     "name": "stdout",
     "output_type": "stream",
     "text": [
      "loading annotations into memory...\n",
      "Done (t=0.01s)\n",
      "creating index...\n",
      "index created!\n",
      "Loading and preparing results...\n",
      "DONE (t=0.00s)\n",
      "creating index...\n",
      "index created!\n",
      "Running per image evaluation...\n",
      "Evaluate annotation type *bbox*\n",
      "DONE (t=0.05s).\n",
      "Accumulating evaluation results...\n",
      "DONE (t=0.02s).\n",
      " Average Precision  (AP) @[ IoU=0.50:0.95 | area=   all | maxDets=100 ] = 0.618\n",
      " Average Precision  (AP) @[ IoU=0.50      | area=   all | maxDets=100 ] = 0.640\n",
      " Average Precision  (AP) @[ IoU=0.75      | area=   all | maxDets=100 ] = 0.634\n",
      " Average Precision  (AP) @[ IoU=0.50:0.95 | area= small | maxDets=100 ] = 0.556\n",
      " Average Precision  (AP) @[ IoU=0.50:0.95 | area=medium | maxDets=100 ] = 0.654\n",
      " Average Precision  (AP) @[ IoU=0.50:0.95 | area= large | maxDets=100 ] = 0.394\n",
      " Average Recall     (AR) @[ IoU=0.50:0.95 | area=   all | maxDets=  1 ] = 0.618\n",
      " Average Recall     (AR) @[ IoU=0.50:0.95 | area=   all | maxDets= 10 ] = 0.687\n",
      " Average Recall     (AR) @[ IoU=0.50:0.95 | area=   all | maxDets=100 ] = 0.687\n",
      " Average Recall     (AR) @[ IoU=0.50:0.95 | area= small | maxDets=100 ] = 0.620\n",
      " Average Recall     (AR) @[ IoU=0.50:0.95 | area=medium | maxDets=100 ] = 0.719\n",
      " Average Recall     (AR) @[ IoU=0.50:0.95 | area= large | maxDets=100 ] = 0.432\n",
      "Running per image evaluation...\n",
      "Evaluate annotation type *segm*\n",
      "DONE (t=0.05s).\n",
      "Accumulating evaluation results...\n",
      "DONE (t=0.02s).\n",
      " Average Precision  (AP) @[ IoU=0.50:0.95 | area=   all | maxDets=100 ] = 0.532\n",
      " Average Precision  (AP) @[ IoU=0.50      | area=   all | maxDets=100 ] = 0.646\n",
      " Average Precision  (AP) @[ IoU=0.75      | area=   all | maxDets=100 ] = 0.637\n",
      " Average Precision  (AP) @[ IoU=0.50:0.95 | area= small | maxDets=100 ] = 0.465\n",
      " Average Precision  (AP) @[ IoU=0.50:0.95 | area=medium | maxDets=100 ] = 0.565\n",
      " Average Precision  (AP) @[ IoU=0.50:0.95 | area= large | maxDets=100 ] = 0.349\n",
      " Average Recall     (AR) @[ IoU=0.50:0.95 | area=   all | maxDets=  1 ] = 0.542\n",
      " Average Recall     (AR) @[ IoU=0.50:0.95 | area=   all | maxDets= 10 ] = 0.602\n",
      " Average Recall     (AR) @[ IoU=0.50:0.95 | area=   all | maxDets=100 ] = 0.602\n",
      " Average Recall     (AR) @[ IoU=0.50:0.95 | area= small | maxDets=100 ] = 0.526\n",
      " Average Recall     (AR) @[ IoU=0.50:0.95 | area=medium | maxDets=100 ] = 0.632\n",
      " Average Recall     (AR) @[ IoU=0.50:0.95 | area= large | maxDets=100 ] = 0.387\n"
     ]
    }
   ],
   "execution_count": 11
  },
  {
   "metadata": {},
   "cell_type": "markdown",
   "source": "#### Test Set",
   "id": "f5d4e2a9d6e8446b"
  },
  {
   "metadata": {
    "ExecuteTime": {
     "end_time": "2025-01-28T23:11:58.516978Z",
     "start_time": "2025-01-28T23:11:49.933050Z"
    }
   },
   "cell_type": "code",
   "source": "!yolo task=segment mode=val model=runs/segment/train14/weights/best.pt retina_masks=True conf=0.5 data=\"/mnt/data/rgn_ijcnn/yolo/yolo_test/datasets/data.yaml\" save_json=True",
   "id": "e186315966705ddd",
   "outputs": [
    {
     "name": "stdout",
     "output_type": "stream",
     "text": [
      "Ultralytics 8.3.68 🚀 Python-3.12.8 torch-2.5.1+cu118 CUDA:0 (NVIDIA GeForce RTX 4090, 24209MiB)\r\n",
      "YOLOv8l-seg summary (fused): 295 layers, 45,914,972 parameters, 0 gradients, 220.1 GFLOPs\r\n",
      "\u001B[34m\u001B[1mval: \u001B[0mScanning /mnt/data/rgn_ijcnn/yolo/yolo_test/datasets/labels/val.cache... 41\u001B[0m\r\n",
      "                 Class     Images  Instances      Box(P          R      mAP50  m\r\n",
      "                   all        411        593      0.723      0.675      0.721       0.71      0.725      0.678      0.723      0.596\r\n",
      "                 FR-II        225        277      0.808      0.838      0.861      0.843      0.819      0.848      0.868       0.71\r\n",
      "                  FR-I         83         90      0.771        0.6      0.703      0.701      0.771        0.6      0.703      0.597\r\n",
      "                  FR-X         81         86      0.671      0.593      0.645      0.637      0.671      0.593      0.645      0.535\r\n",
      "                     R        124        140      0.639      0.671      0.674      0.658      0.639      0.671      0.674      0.543\r\n",
      "Speed: 0.3ms preprocess, 6.0ms inference, 0.0ms loss, 0.6ms postprocess per image\r\n",
      "Saving runs/segment/val15/predictions.json...\r\n",
      "Results saved to \u001B[1mruns/segment/val15\u001B[0m\r\n",
      "💡 Learn more at https://docs.ultralytics.com/modes/val\r\n"
     ]
    }
   ],
   "execution_count": 12
  },
  {
   "metadata": {
    "ExecuteTime": {
     "end_time": "2025-01-28T23:12:10.271565Z",
     "start_time": "2025-01-28T23:12:10.086648Z"
    }
   },
   "cell_type": "code",
   "source": "coco_evaluate(\"/mnt/data/rgn_ijcnn/cleaned/annotations/test.json\", \"runs/segment/val15\")",
   "id": "ba05280fdb0f1c3c",
   "outputs": [
    {
     "name": "stdout",
     "output_type": "stream",
     "text": [
      "loading annotations into memory...\n",
      "Done (t=0.05s)\n",
      "creating index...\n",
      "index created!\n",
      "Loading and preparing results...\n",
      "DONE (t=0.00s)\n",
      "creating index...\n",
      "index created!\n",
      "Running per image evaluation...\n",
      "Evaluate annotation type *bbox*\n",
      "DONE (t=0.04s).\n",
      "Accumulating evaluation results...\n",
      "DONE (t=0.02s).\n",
      " Average Precision  (AP) @[ IoU=0.50:0.95 | area=   all | maxDets=100 ] = 0.593\n",
      " Average Precision  (AP) @[ IoU=0.50      | area=   all | maxDets=100 ] = 0.606\n",
      " Average Precision  (AP) @[ IoU=0.75      | area=   all | maxDets=100 ] = 0.598\n",
      " Average Precision  (AP) @[ IoU=0.50:0.95 | area= small | maxDets=100 ] = 0.452\n",
      " Average Precision  (AP) @[ IoU=0.50:0.95 | area=medium | maxDets=100 ] = 0.637\n",
      " Average Precision  (AP) @[ IoU=0.50:0.95 | area= large | maxDets=100 ] = 0.564\n",
      " Average Recall     (AR) @[ IoU=0.50:0.95 | area=   all | maxDets=  1 ] = 0.582\n",
      " Average Recall     (AR) @[ IoU=0.50:0.95 | area=   all | maxDets= 10 ] = 0.664\n",
      " Average Recall     (AR) @[ IoU=0.50:0.95 | area=   all | maxDets=100 ] = 0.664\n",
      " Average Recall     (AR) @[ IoU=0.50:0.95 | area= small | maxDets=100 ] = 0.548\n",
      " Average Recall     (AR) @[ IoU=0.50:0.95 | area=medium | maxDets=100 ] = 0.696\n",
      " Average Recall     (AR) @[ IoU=0.50:0.95 | area= large | maxDets=100 ] = 0.656\n",
      "Running per image evaluation...\n",
      "Evaluate annotation type *segm*\n",
      "DONE (t=0.04s).\n",
      "Accumulating evaluation results...\n",
      "DONE (t=0.02s).\n",
      " Average Precision  (AP) @[ IoU=0.50:0.95 | area=   all | maxDets=100 ] = 0.504\n",
      " Average Precision  (AP) @[ IoU=0.50      | area=   all | maxDets=100 ] = 0.608\n",
      " Average Precision  (AP) @[ IoU=0.75      | area=   all | maxDets=100 ] = 0.603\n",
      " Average Precision  (AP) @[ IoU=0.50:0.95 | area= small | maxDets=100 ] = 0.381\n",
      " Average Precision  (AP) @[ IoU=0.50:0.95 | area=medium | maxDets=100 ] = 0.539\n",
      " Average Precision  (AP) @[ IoU=0.50:0.95 | area= large | maxDets=100 ] = 0.488\n",
      " Average Recall     (AR) @[ IoU=0.50:0.95 | area=   all | maxDets=  1 ] = 0.505\n",
      " Average Recall     (AR) @[ IoU=0.50:0.95 | area=   all | maxDets= 10 ] = 0.576\n",
      " Average Recall     (AR) @[ IoU=0.50:0.95 | area=   all | maxDets=100 ] = 0.576\n",
      " Average Recall     (AR) @[ IoU=0.50:0.95 | area= small | maxDets=100 ] = 0.467\n",
      " Average Recall     (AR) @[ IoU=0.50:0.95 | area=medium | maxDets=100 ] = 0.601\n",
      " Average Recall     (AR) @[ IoU=0.50:0.95 | area= large | maxDets=100 ] = 0.572\n"
     ]
    }
   ],
   "execution_count": 13
  },
  {
   "metadata": {},
   "cell_type": "markdown",
   "source": [
    "\n",
    "## Testing Online Augmentations"
   ],
   "id": "c7b80d94b30acf84"
  },
  {
   "metadata": {},
   "cell_type": "markdown",
   "source": "### Defaults",
   "id": "1c64ce11f9042f6e"
  },
  {
   "metadata": {},
   "cell_type": "code",
   "source": [
    "%%bash\n",
    "(yolo task=segment mode=train model=yolov8l-seg.pt \\\n",
    "data=\"/mnt/data/rgn_ijcnn/yolo/yolo_cleaned/datasets/data.yaml\" \\\n",
    "epochs=150 batch=32 \\\n",
    "patience=25)"
   ],
   "id": "2e9b75df98984bec",
   "outputs": [],
   "execution_count": null
  },
  {
   "metadata": {},
   "cell_type": "markdown",
   "source": [
    "Results saved to runs/segment/train15\n",
    "\n",
    "                   all        410        605       0.63       0.65      0.664      0.642      0.631      0.652      0.669      0.549\n",
    "                 FR-II        221        267      0.666      0.742      0.735      0.703      0.673      0.749      0.756      0.614\n",
    "                  FR-I         78         83      0.646      0.614      0.656      0.641      0.646      0.614      0.656      0.553\n",
    "                  FR-X         82         84      0.574        0.5      0.547      0.536      0.574        0.5      0.547       0.45\n",
    "                     R        154        171      0.632      0.743      0.719      0.687      0.632      0.743       0.72      0.579"
   ],
   "id": "d586aa7779667610"
  },
  {
   "metadata": {
    "ExecuteTime": {
     "end_time": "2025-01-28T18:23:55.861755Z",
     "start_time": "2025-01-28T18:23:47.929768Z"
    }
   },
   "cell_type": "code",
   "source": "!yolo task=segment mode=val model=runs/segment/train15/weights/best.pt retina_masks=True conf=0.5 data=\"/mnt/data/rgn_ijcnn/yolo/yolo_cleaned/datasets/data.yaml\" save_json=True",
   "id": "4e40d0e9c83da162",
   "outputs": [
    {
     "name": "stdout",
     "output_type": "stream",
     "text": [
      "Ultralytics 8.3.68 🚀 Python-3.12.8 torch-2.5.1+cu118 CUDA:0 (NVIDIA GeForce RTX 4090, 24209MiB)\r\n",
      "YOLOv8l-seg summary (fused): 295 layers, 45,914,972 parameters, 0 gradients, 220.1 GFLOPs\r\n",
      "\u001B[34m\u001B[1mval: \u001B[0mScanning /mnt/data/rgn_ijcnn/yolo/yolo_cleaned/datasets/labels/val.cache...\u001B[0m\r\n",
      "                 Class     Images  Instances      Box(P          R      mAP50  m\r\n",
      "                   all        410        605      0.649      0.629      0.655      0.642      0.651       0.63      0.658      0.544\r\n",
      "                 FR-II        221        267      0.682      0.723      0.716      0.698      0.689       0.73      0.728      0.594\r\n",
      "                  FR-I         78         83      0.676      0.578      0.655       0.65      0.676      0.578      0.655      0.563\r\n",
      "                  FR-X         82         84      0.597      0.476      0.531      0.527      0.597      0.476      0.531      0.441\r\n",
      "                     R        154        171      0.643      0.737      0.717      0.695      0.643      0.737      0.717      0.579\r\n",
      "Speed: 0.2ms preprocess, 5.7ms inference, 0.0ms loss, 0.3ms postprocess per image\r\n",
      "Saving runs/segment/val6/predictions.json...\r\n",
      "Results saved to \u001B[1mruns/segment/val6\u001B[0m\r\n",
      "💡 Learn more at https://docs.ultralytics.com/modes/val\r\n"
     ]
    }
   ],
   "execution_count": 14
  },
  {
   "metadata": {
    "ExecuteTime": {
     "end_time": "2025-01-28T18:24:36.108046Z",
     "start_time": "2025-01-28T18:24:35.918837Z"
    }
   },
   "cell_type": "code",
   "source": "coco_evaluate(\"/mnt/data/rgn_ijcnn/cleaned/annotations/val.json\", \"runs/segment/val6\")",
   "id": "f3300608b3b08fee",
   "outputs": [
    {
     "name": "stdout",
     "output_type": "stream",
     "text": [
      "loading annotations into memory...\n",
      "Done (t=0.00s)\n",
      "creating index...\n",
      "index created!\n",
      "Loading and preparing results...\n",
      "DONE (t=0.00s)\n",
      "creating index...\n",
      "index created!\n",
      "Running per image evaluation...\n",
      "Evaluate annotation type *bbox*\n",
      "DONE (t=0.04s).\n",
      "Accumulating evaluation results...\n",
      "DONE (t=0.02s).\n",
      " Average Precision  (AP) @[ IoU=0.50:0.95 | area=   all | maxDets=100 ] = 0.520\n",
      " Average Precision  (AP) @[ IoU=0.50      | area=   all | maxDets=100 ] = 0.534\n",
      " Average Precision  (AP) @[ IoU=0.75      | area=   all | maxDets=100 ] = 0.532\n",
      " Average Precision  (AP) @[ IoU=0.50:0.95 | area= small | maxDets=100 ] = 0.486\n",
      " Average Precision  (AP) @[ IoU=0.50:0.95 | area=medium | maxDets=100 ] = 0.548\n",
      " Average Precision  (AP) @[ IoU=0.50:0.95 | area= large | maxDets=100 ] = 0.288\n",
      " Average Recall     (AR) @[ IoU=0.50:0.95 | area=   all | maxDets=  1 ] = 0.529\n",
      " Average Recall     (AR) @[ IoU=0.50:0.95 | area=   all | maxDets= 10 ] = 0.617\n",
      " Average Recall     (AR) @[ IoU=0.50:0.95 | area=   all | maxDets=100 ] = 0.617\n",
      " Average Recall     (AR) @[ IoU=0.50:0.95 | area= small | maxDets=100 ] = 0.570\n",
      " Average Recall     (AR) @[ IoU=0.50:0.95 | area=medium | maxDets=100 ] = 0.650\n",
      " Average Recall     (AR) @[ IoU=0.50:0.95 | area= large | maxDets=100 ] = 0.374\n",
      "Running per image evaluation...\n",
      "Evaluate annotation type *segm*\n",
      "DONE (t=0.10s).\n",
      "Accumulating evaluation results...\n",
      "DONE (t=0.02s).\n",
      " Average Precision  (AP) @[ IoU=0.50:0.95 | area=   all | maxDets=100 ] = 0.452\n",
      " Average Precision  (AP) @[ IoU=0.50      | area=   all | maxDets=100 ] = 0.538\n",
      " Average Precision  (AP) @[ IoU=0.75      | area=   all | maxDets=100 ] = 0.532\n",
      " Average Precision  (AP) @[ IoU=0.50:0.95 | area= small | maxDets=100 ] = 0.428\n",
      " Average Precision  (AP) @[ IoU=0.50:0.95 | area=medium | maxDets=100 ] = 0.475\n",
      " Average Precision  (AP) @[ IoU=0.50:0.95 | area= large | maxDets=100 ] = 0.248\n",
      " Average Recall     (AR) @[ IoU=0.50:0.95 | area=   all | maxDets=  1 ] = 0.467\n",
      " Average Recall     (AR) @[ IoU=0.50:0.95 | area=   all | maxDets= 10 ] = 0.542\n",
      " Average Recall     (AR) @[ IoU=0.50:0.95 | area=   all | maxDets=100 ] = 0.542\n",
      " Average Recall     (AR) @[ IoU=0.50:0.95 | area= small | maxDets=100 ] = 0.499\n",
      " Average Recall     (AR) @[ IoU=0.50:0.95 | area=medium | maxDets=100 ] = 0.571\n",
      " Average Recall     (AR) @[ IoU=0.50:0.95 | area= large | maxDets=100 ] = 0.319\n"
     ]
    }
   ],
   "execution_count": 16
  },
  {
   "metadata": {},
   "cell_type": "markdown",
   "source": "### Flips",
   "id": "be34575061433b4b"
  },
  {
   "metadata": {},
   "cell_type": "code",
   "source": [
    "%%bash\n",
    "(yolo task=segment mode=train model=yolov8l-seg.pt \\\n",
    "data=\"/mnt/data/rgn_ijcnn/yolo/YOLO_cleaned/datasets/data.yaml\" \\\n",
    "epochs=150 batch=32 \\\n",
    "fliplr=1 flipud=1 patience=25)"
   ],
   "id": "32696790771c5ed4",
   "outputs": [],
   "execution_count": null
  },
  {
   "metadata": {},
   "cell_type": "markdown",
   "source": [
    "                    all        410        605      0.578      0.513      0.543      0.196      0.509      0.437      0.432      0.104\n",
    "                 FR-II        221        267      0.612      0.689      0.687      0.306      0.513      0.577      0.527      0.135\n",
    "                  FR-I         78         83      0.639      0.422      0.513      0.194       0.64      0.407      0.479       0.11\n",
    "                  FR-X         82         84      0.511      0.345      0.416       0.14      0.446      0.298      0.317     0.0861\n",
    "                     R        154        171       0.55      0.596      0.557      0.143      0.438      0.468      0.404     0.0837\n",
    "Speed: 0.1ms preprocess, 4.5ms inference, 0.0ms loss, 0.9ms postprocess per image\n",
    "Results saved to runs/segment/train16"
   ],
   "id": "9cff6aff0000a96b"
  },
  {
   "metadata": {
    "ExecuteTime": {
     "end_time": "2025-01-28T18:25:05.787848Z",
     "start_time": "2025-01-28T18:24:57.756446Z"
    }
   },
   "cell_type": "code",
   "source": "!yolo task=segment mode=val model=runs/segment/train16/weights/best.pt retina_masks=True conf=0.5 data=\"/mnt/data/rgn_ijcnn/yolo/yolo_cleaned/datasets/data.yaml\" save_json=True",
   "id": "36073f6a542c9ee6",
   "outputs": [
    {
     "name": "stdout",
     "output_type": "stream",
     "text": [
      "Ultralytics 8.3.68 🚀 Python-3.12.8 torch-2.5.1+cu118 CUDA:0 (NVIDIA GeForce RTX 4090, 24209MiB)\r\n",
      "YOLOv8l-seg summary (fused): 295 layers, 45,914,972 parameters, 0 gradients, 220.1 GFLOPs\r\n",
      "\u001B[34m\u001B[1mval: \u001B[0mScanning /mnt/data/rgn_ijcnn/yolo/yolo_cleaned/datasets/labels/val.cache...\u001B[0m\r\n",
      "                 Class     Images  Instances      Box(P          R      mAP50  m\r\n",
      "                   all        410        605       0.58      0.513      0.532      0.207      0.539      0.461      0.482      0.144\r\n",
      "                 FR-II        221        267      0.613      0.693      0.667      0.323      0.549       0.61      0.576      0.176\r\n",
      "                  FR-I         78         83      0.646      0.422      0.507      0.211      0.634      0.397      0.492      0.148\r\n",
      "                  FR-X         82         84      0.514      0.345      0.408      0.145      0.477       0.31      0.364      0.128\r\n",
      "                     R        154        171      0.546      0.591      0.545      0.148      0.498      0.526      0.495      0.123\r\n",
      "Speed: 0.2ms preprocess, 5.8ms inference, 0.0ms loss, 0.3ms postprocess per image\r\n",
      "Saving runs/segment/val7/predictions.json...\r\n",
      "Results saved to \u001B[1mruns/segment/val7\u001B[0m\r\n",
      "💡 Learn more at https://docs.ultralytics.com/modes/val\r\n"
     ]
    }
   ],
   "execution_count": 17
  },
  {
   "metadata": {
    "ExecuteTime": {
     "end_time": "2025-01-28T18:25:13.447774Z",
     "start_time": "2025-01-28T18:25:13.310005Z"
    }
   },
   "cell_type": "code",
   "source": "coco_evaluate(\"/mnt/data/rgn_ijcnn/cleaned/annotations/val.json\", \"runs/segment/val7\")",
   "id": "83eaa8fe6eb79bf7",
   "outputs": [
    {
     "name": "stdout",
     "output_type": "stream",
     "text": [
      "loading annotations into memory...\n",
      "Done (t=0.00s)\n",
      "creating index...\n",
      "index created!\n",
      "Loading and preparing results...\n",
      "DONE (t=0.00s)\n",
      "creating index...\n",
      "index created!\n",
      "Running per image evaluation...\n",
      "Evaluate annotation type *bbox*\n",
      "DONE (t=0.04s).\n",
      "Accumulating evaluation results...\n",
      "DONE (t=0.02s).\n",
      " Average Precision  (AP) @[ IoU=0.50:0.95 | area=   all | maxDets=100 ] = 0.153\n",
      " Average Precision  (AP) @[ IoU=0.50      | area=   all | maxDets=100 ] = 0.419\n",
      " Average Precision  (AP) @[ IoU=0.75      | area=   all | maxDets=100 ] = 0.040\n",
      " Average Precision  (AP) @[ IoU=0.50:0.95 | area= small | maxDets=100 ] = 0.082\n",
      " Average Precision  (AP) @[ IoU=0.50:0.95 | area=medium | maxDets=100 ] = 0.180\n",
      " Average Precision  (AP) @[ IoU=0.50:0.95 | area= large | maxDets=100 ] = 0.139\n",
      " Average Recall     (AR) @[ IoU=0.50:0.95 | area=   all | maxDets=  1 ] = 0.200\n",
      " Average Recall     (AR) @[ IoU=0.50:0.95 | area=   all | maxDets= 10 ] = 0.220\n",
      " Average Recall     (AR) @[ IoU=0.50:0.95 | area=   all | maxDets=100 ] = 0.220\n",
      " Average Recall     (AR) @[ IoU=0.50:0.95 | area= small | maxDets=100 ] = 0.124\n",
      " Average Recall     (AR) @[ IoU=0.50:0.95 | area=medium | maxDets=100 ] = 0.240\n",
      " Average Recall     (AR) @[ IoU=0.50:0.95 | area= large | maxDets=100 ] = 0.169\n",
      "Running per image evaluation...\n",
      "Evaluate annotation type *segm*\n",
      "DONE (t=0.05s).\n",
      "Accumulating evaluation results...\n",
      "DONE (t=0.02s).\n",
      " Average Precision  (AP) @[ IoU=0.50:0.95 | area=   all | maxDets=100 ] = 0.099\n",
      " Average Precision  (AP) @[ IoU=0.50      | area=   all | maxDets=100 ] = 0.362\n",
      " Average Precision  (AP) @[ IoU=0.75      | area=   all | maxDets=100 ] = 0.003\n",
      " Average Precision  (AP) @[ IoU=0.50:0.95 | area= small | maxDets=100 ] = 0.044\n",
      " Average Precision  (AP) @[ IoU=0.50:0.95 | area=medium | maxDets=100 ] = 0.122\n",
      " Average Precision  (AP) @[ IoU=0.50:0.95 | area= large | maxDets=100 ] = 0.072\n",
      " Average Recall     (AR) @[ IoU=0.50:0.95 | area=   all | maxDets=  1 ] = 0.142\n",
      " Average Recall     (AR) @[ IoU=0.50:0.95 | area=   all | maxDets= 10 ] = 0.156\n",
      " Average Recall     (AR) @[ IoU=0.50:0.95 | area=   all | maxDets=100 ] = 0.156\n",
      " Average Recall     (AR) @[ IoU=0.50:0.95 | area= small | maxDets=100 ] = 0.080\n",
      " Average Recall     (AR) @[ IoU=0.50:0.95 | area=medium | maxDets=100 ] = 0.177\n",
      " Average Recall     (AR) @[ IoU=0.50:0.95 | area= large | maxDets=100 ] = 0.098\n"
     ]
    }
   ],
   "execution_count": 18
  },
  {
   "metadata": {},
   "cell_type": "markdown",
   "source": "### Mosaic",
   "id": "3854d0e48dc1c2e"
  },
  {
   "metadata": {},
   "cell_type": "code",
   "source": [
    "%%bash\n",
    "(yolo task=segment mode=train model=yolov8l-seg.pt \\\n",
    "data=\"/mnt/data/rgn_ijcnn/yolo/YOLO_cleaned/datasets/data.yaml\" \\\n",
    "epochs=150 batch=32 mosaic=0 \\\n",
    "patience=25)"
   ],
   "id": "282fc6bf34928d2b",
   "outputs": [],
   "execution_count": null
  },
  {
   "metadata": {},
   "cell_type": "markdown",
   "source": [
    "\n",
    "                   all        410        605      0.748      0.689      0.733      0.705       0.75      0.691      0.736      0.605\n",
    "                 FR-II        221        267      0.811      0.806      0.823      0.785      0.819      0.813      0.835      0.697\n",
    "                  FR-I         78         83      0.742      0.578      0.652      0.638      0.742      0.578      0.652      0.537\n",
    "                  FR-X         82         84      0.674      0.616      0.664      0.634      0.674      0.616      0.664      0.535\n",
    "                     R        154        171      0.765      0.754      0.792      0.762      0.765      0.754      0.792      0.652\n",
    "\n",
    "Speed: 0.1ms preprocess, 3.3ms inference, 0.0ms loss, 0.4ms postprocess per image\n",
    "Results saved to runs/segment/train17"
   ],
   "id": "47107054cf8d87a2"
  },
  {
   "metadata": {
    "ExecuteTime": {
     "end_time": "2025-01-28T18:26:50.305997Z",
     "start_time": "2025-01-28T18:26:42.110933Z"
    }
   },
   "cell_type": "code",
   "source": "!yolo task=segment mode=val model=runs/segment/train17/weights/best.pt retina_masks=True conf=0.5 data=\"/mnt/data/rgn_ijcnn/yolo/yolo_cleaned/datasets/data.yaml\" save_json=True",
   "id": "406a14a1a8397730",
   "outputs": [
    {
     "name": "stdout",
     "output_type": "stream",
     "text": [
      "Ultralytics 8.3.68 🚀 Python-3.12.8 torch-2.5.1+cu118 CUDA:0 (NVIDIA GeForce RTX 4090, 24209MiB)\r\n",
      "YOLOv8l-seg summary (fused): 295 layers, 45,914,972 parameters, 0 gradients, 220.1 GFLOPs\r\n",
      "\u001B[34m\u001B[1mval: \u001B[0mScanning /mnt/data/rgn_ijcnn/yolo/yolo_cleaned/datasets/labels/val.cache...\u001B[0m\r\n",
      "                 Class     Images  Instances      Box(P          R      mAP50  m\r\n",
      "                   all        410        605      0.748      0.689      0.724      0.704       0.75       0.69      0.727      0.588\r\n",
      "                 FR-II        221        267      0.811      0.806      0.804      0.777      0.819      0.813      0.814      0.658\r\n",
      "                  FR-I         78         83      0.742      0.578      0.652       0.64      0.742      0.578      0.652      0.549\r\n",
      "                  FR-X         82         84      0.674      0.616      0.658      0.639      0.674      0.616      0.658      0.528\r\n",
      "                     R        154        171      0.765      0.754      0.783      0.761      0.765      0.754      0.783      0.618\r\n",
      "Speed: 0.2ms preprocess, 5.9ms inference, 0.0ms loss, 0.3ms postprocess per image\r\n",
      "Saving runs/segment/val8/predictions.json...\r\n",
      "Results saved to \u001B[1mruns/segment/val8\u001B[0m\r\n",
      "💡 Learn more at https://docs.ultralytics.com/modes/val\r\n"
     ]
    }
   ],
   "execution_count": 19
  },
  {
   "metadata": {
    "ExecuteTime": {
     "end_time": "2025-01-28T18:26:55.892244Z",
     "start_time": "2025-01-28T18:26:55.751071Z"
    }
   },
   "cell_type": "code",
   "source": "coco_evaluate(\"/mnt/data/rgn_ijcnn/cleaned/annotations/val.json\", \"runs/segment/val8\")",
   "id": "42f0c68abc4bdd78",
   "outputs": [
    {
     "name": "stdout",
     "output_type": "stream",
     "text": [
      "loading annotations into memory...\n",
      "Done (t=0.00s)\n",
      "creating index...\n",
      "index created!\n",
      "Loading and preparing results...\n",
      "DONE (t=0.00s)\n",
      "creating index...\n",
      "index created!\n",
      "Running per image evaluation...\n",
      "Evaluate annotation type *bbox*\n",
      "DONE (t=0.05s).\n",
      "Accumulating evaluation results...\n",
      "DONE (t=0.02s).\n",
      " Average Precision  (AP) @[ IoU=0.50:0.95 | area=   all | maxDets=100 ] = 0.599\n",
      " Average Precision  (AP) @[ IoU=0.50      | area=   all | maxDets=100 ] = 0.622\n",
      " Average Precision  (AP) @[ IoU=0.75      | area=   all | maxDets=100 ] = 0.615\n",
      " Average Precision  (AP) @[ IoU=0.50:0.95 | area= small | maxDets=100 ] = 0.595\n",
      " Average Precision  (AP) @[ IoU=0.50:0.95 | area=medium | maxDets=100 ] = 0.603\n",
      " Average Precision  (AP) @[ IoU=0.50:0.95 | area= large | maxDets=100 ] = 0.454\n",
      " Average Recall     (AR) @[ IoU=0.50:0.95 | area=   all | maxDets=  1 ] = 0.621\n",
      " Average Recall     (AR) @[ IoU=0.50:0.95 | area=   all | maxDets= 10 ] = 0.691\n",
      " Average Recall     (AR) @[ IoU=0.50:0.95 | area=   all | maxDets=100 ] = 0.691\n",
      " Average Recall     (AR) @[ IoU=0.50:0.95 | area= small | maxDets=100 ] = 0.668\n",
      " Average Recall     (AR) @[ IoU=0.50:0.95 | area=medium | maxDets=100 ] = 0.692\n",
      " Average Recall     (AR) @[ IoU=0.50:0.95 | area= large | maxDets=100 ] = 0.534\n",
      "Running per image evaluation...\n",
      "Evaluate annotation type *segm*\n",
      "DONE (t=0.05s).\n",
      "Accumulating evaluation results...\n",
      "DONE (t=0.02s).\n",
      " Average Precision  (AP) @[ IoU=0.50:0.95 | area=   all | maxDets=100 ] = 0.512\n",
      " Average Precision  (AP) @[ IoU=0.50      | area=   all | maxDets=100 ] = 0.626\n",
      " Average Precision  (AP) @[ IoU=0.75      | area=   all | maxDets=100 ] = 0.613\n",
      " Average Precision  (AP) @[ IoU=0.50:0.95 | area= small | maxDets=100 ] = 0.503\n",
      " Average Precision  (AP) @[ IoU=0.50:0.95 | area=medium | maxDets=100 ] = 0.519\n",
      " Average Precision  (AP) @[ IoU=0.50:0.95 | area= large | maxDets=100 ] = 0.369\n",
      " Average Recall     (AR) @[ IoU=0.50:0.95 | area=   all | maxDets=  1 ] = 0.541\n",
      " Average Recall     (AR) @[ IoU=0.50:0.95 | area=   all | maxDets= 10 ] = 0.601\n",
      " Average Recall     (AR) @[ IoU=0.50:0.95 | area=   all | maxDets=100 ] = 0.601\n",
      " Average Recall     (AR) @[ IoU=0.50:0.95 | area= small | maxDets=100 ] = 0.566\n",
      " Average Recall     (AR) @[ IoU=0.50:0.95 | area=medium | maxDets=100 ] = 0.605\n",
      " Average Recall     (AR) @[ IoU=0.50:0.95 | area= large | maxDets=100 ] = 0.448\n"
     ]
    }
   ],
   "execution_count": 20
  },
  {
   "metadata": {},
   "cell_type": "markdown",
   "source": "### HSV",
   "id": "8e9aeeb89e23dcf3"
  },
  {
   "metadata": {},
   "cell_type": "code",
   "source": [
    "%%bash\n",
    "(yolo task=segment mode=train model=yolov8l-seg.pt \\\n",
    "data=\"/mnt/data/rgn_ijcnn/yolo/YOLO_cleaned/datasets/data.yaml\" \\\n",
    "epochs=150 batch=32 \\\n",
    "hsv_h=0 hsv_s=0 hsv_v=0 patience=25)"
   ],
   "id": "7f32b6fb80c834b3",
   "outputs": [],
   "execution_count": null
  },
  {
   "metadata": {},
   "cell_type": "markdown",
   "source": [
    "                 all        410        605       0.71      0.682      0.728      0.695      0.712      0.685      0.732      0.593\n",
    "                 FR-II        221        267      0.721      0.794      0.815      0.779      0.731      0.805      0.831      0.679\n",
    "                  FR-I         78         83       0.68      0.614      0.686      0.665       0.68      0.614      0.686      0.569\n",
    "                  FR-X         82         84      0.697      0.547      0.621       0.59      0.697      0.547      0.621      0.502\n",
    "                     R        154        171      0.742      0.774      0.789      0.748      0.742      0.774      0.789      0.624\n",
    "Speed: 0.1ms preprocess, 3.5ms inference, 0.0ms loss, 0.5ms postprocess per image\n",
    "Results saved to runs/segment/train18"
   ],
   "id": "c1710080584a1637"
  },
  {
   "metadata": {
    "ExecuteTime": {
     "end_time": "2025-01-28T18:28:31.052656Z",
     "start_time": "2025-01-28T18:28:22.924087Z"
    }
   },
   "cell_type": "code",
   "source": "!yolo task=segment mode=val model=runs/segment/train18/weights/best.pt retina_masks=True conf=0.5 data=\"/mnt/data/rgn_ijcnn/yolo/yolo_cleaned/datasets/data.yaml\" save_json=True",
   "id": "121371dd40685d22",
   "outputs": [
    {
     "name": "stdout",
     "output_type": "stream",
     "text": [
      "Ultralytics 8.3.68 🚀 Python-3.12.8 torch-2.5.1+cu118 CUDA:0 (NVIDIA GeForce RTX 4090, 24209MiB)\r\n",
      "YOLOv8l-seg summary (fused): 295 layers, 45,914,972 parameters, 0 gradients, 220.1 GFLOPs\r\n",
      "\u001B[34m\u001B[1mval: \u001B[0mScanning /mnt/data/rgn_ijcnn/yolo/yolo_cleaned/datasets/labels/val.cache...\u001B[0m\r\n",
      "                 Class     Images  Instances      Box(P          R      mAP50  m\r\n",
      "                   all        410        605      0.702      0.689      0.713      0.692      0.705      0.692      0.716      0.583\r\n",
      "                 FR-II        221        267      0.717      0.805      0.787      0.765      0.727      0.816        0.8      0.648\r\n",
      "                  FR-I         78         83      0.662      0.614      0.678      0.661      0.662      0.614      0.678      0.573\r\n",
      "                  FR-X         82         84      0.691       0.56      0.616      0.594      0.691       0.56      0.616      0.498\r\n",
      "                     R        154        171      0.739      0.778      0.772      0.746      0.739      0.778      0.772      0.612\r\n",
      "Speed: 0.2ms preprocess, 5.8ms inference, 0.0ms loss, 0.3ms postprocess per image\r\n",
      "Saving runs/segment/val9/predictions.json...\r\n",
      "Results saved to \u001B[1mruns/segment/val9\u001B[0m\r\n",
      "💡 Learn more at https://docs.ultralytics.com/modes/val\r\n"
     ]
    }
   ],
   "execution_count": 21
  },
  {
   "metadata": {
    "ExecuteTime": {
     "end_time": "2025-01-28T18:28:36.044834Z",
     "start_time": "2025-01-28T18:28:35.851010Z"
    }
   },
   "cell_type": "code",
   "source": "coco_evaluate(\"/mnt/data/rgn_ijcnn/cleaned/annotations/val.json\", \"runs/segment/val9\")",
   "id": "9785f818ac26578a",
   "outputs": [
    {
     "name": "stdout",
     "output_type": "stream",
     "text": [
      "loading annotations into memory...\n",
      "Done (t=0.00s)\n",
      "creating index...\n",
      "index created!\n",
      "Loading and preparing results...\n",
      "DONE (t=0.00s)\n",
      "creating index...\n",
      "index created!\n",
      "Running per image evaluation...\n",
      "Evaluate annotation type *bbox*\n",
      "DONE (t=0.10s).\n",
      "Accumulating evaluation results...\n",
      "DONE (t=0.02s).\n",
      " Average Precision  (AP) @[ IoU=0.50:0.95 | area=   all | maxDets=100 ] = 0.579\n",
      " Average Precision  (AP) @[ IoU=0.50      | area=   all | maxDets=100 ] = 0.603\n",
      " Average Precision  (AP) @[ IoU=0.75      | area=   all | maxDets=100 ] = 0.599\n",
      " Average Precision  (AP) @[ IoU=0.50:0.95 | area= small | maxDets=100 ] = 0.567\n",
      " Average Precision  (AP) @[ IoU=0.50:0.95 | area=medium | maxDets=100 ] = 0.591\n",
      " Average Precision  (AP) @[ IoU=0.50:0.95 | area= large | maxDets=100 ] = 0.489\n",
      " Average Recall     (AR) @[ IoU=0.50:0.95 | area=   all | maxDets=  1 ] = 0.595\n",
      " Average Recall     (AR) @[ IoU=0.50:0.95 | area=   all | maxDets= 10 ] = 0.670\n",
      " Average Recall     (AR) @[ IoU=0.50:0.95 | area=   all | maxDets=100 ] = 0.670\n",
      " Average Recall     (AR) @[ IoU=0.50:0.95 | area= small | maxDets=100 ] = 0.688\n",
      " Average Recall     (AR) @[ IoU=0.50:0.95 | area=medium | maxDets=100 ] = 0.674\n",
      " Average Recall     (AR) @[ IoU=0.50:0.95 | area= large | maxDets=100 ] = 0.527\n",
      "Running per image evaluation...\n",
      "Evaluate annotation type *segm*\n",
      "DONE (t=0.05s).\n",
      "Accumulating evaluation results...\n",
      "DONE (t=0.02s).\n",
      " Average Precision  (AP) @[ IoU=0.50:0.95 | area=   all | maxDets=100 ] = 0.501\n",
      " Average Precision  (AP) @[ IoU=0.50      | area=   all | maxDets=100 ] = 0.607\n",
      " Average Precision  (AP) @[ IoU=0.75      | area=   all | maxDets=100 ] = 0.596\n",
      " Average Precision  (AP) @[ IoU=0.50:0.95 | area= small | maxDets=100 ] = 0.490\n",
      " Average Precision  (AP) @[ IoU=0.50:0.95 | area=medium | maxDets=100 ] = 0.511\n",
      " Average Precision  (AP) @[ IoU=0.50:0.95 | area= large | maxDets=100 ] = 0.422\n",
      " Average Recall     (AR) @[ IoU=0.50:0.95 | area=   all | maxDets=  1 ] = 0.523\n",
      " Average Recall     (AR) @[ IoU=0.50:0.95 | area=   all | maxDets= 10 ] = 0.587\n",
      " Average Recall     (AR) @[ IoU=0.50:0.95 | area=   all | maxDets=100 ] = 0.587\n",
      " Average Recall     (AR) @[ IoU=0.50:0.95 | area= small | maxDets=100 ] = 0.595\n",
      " Average Recall     (AR) @[ IoU=0.50:0.95 | area=medium | maxDets=100 ] = 0.593\n",
      " Average Recall     (AR) @[ IoU=0.50:0.95 | area= large | maxDets=100 ] = 0.460\n"
     ]
    }
   ],
   "execution_count": 22
  },
  {
   "metadata": {},
   "cell_type": "markdown",
   "source": "## Random Rotations and Combined with Cleaned Dataset",
   "id": "174e71843dda8cfe"
  },
  {
   "metadata": {},
   "cell_type": "code",
   "source": [
    "%%bash\n",
    "(yolo task=segment mode=train model=yolov8l-seg.pt \\\n",
    "data=\"/mnt/data/rgn_ijcnn/yolo/yolo_rotated/datasets/data.yaml\" \\\n",
    "epochs=150 batch=32 \\\n",
    "hsv_h=0 hsv_s=0 hsv_v=0 mosaic=0 \\\n",
    "fliplr=0 patience=25)"
   ],
   "id": "3fe068f90b38fa7b",
   "outputs": [],
   "execution_count": null
  },
  {
   "metadata": {},
   "cell_type": "markdown",
   "source": [
    "                   all        410        605      0.697       0.68      0.735      0.697      0.701      0.684      0.741      0.609\n",
    "                 FR-II        221        267      0.716      0.772      0.802      0.758      0.729      0.787      0.824      0.675\n",
    "                  FR-I         78         83      0.721       0.59      0.682      0.655      0.721       0.59      0.683      0.576\n",
    "                  FR-X         82         84      0.635      0.619      0.666      0.631      0.636      0.619      0.666      0.546\n",
    "                     R        154        171      0.717      0.739      0.789      0.745      0.716      0.738       0.79      0.641\n",
    "Speed: 0.1ms preprocess, 3.3ms inference, 0.0ms loss, 0.4ms postprocess per image\n",
    "Results saved to runs/segment/train19\n"
   ],
   "id": "1e894f11a9810a97"
  },
  {
   "metadata": {},
   "cell_type": "markdown",
   "source": "#### Validation Set",
   "id": "61e6c9a0d776c2da"
  },
  {
   "metadata": {
    "ExecuteTime": {
     "end_time": "2025-01-28T18:29:13.240494Z",
     "start_time": "2025-01-28T18:29:04.976274Z"
    }
   },
   "cell_type": "code",
   "source": "!yolo task=segment mode=val model=runs/segment/train19/weights/best.pt retina_masks=True conf=0.5 data=\"/mnt/data/rgn_ijcnn/yolo/yolo_cleaned/datasets/data.yaml\" save_json=True",
   "id": "938f5af84e41cdf7",
   "outputs": [
    {
     "name": "stdout",
     "output_type": "stream",
     "text": [
      "Ultralytics 8.3.68 🚀 Python-3.12.8 torch-2.5.1+cu118 CUDA:0 (NVIDIA GeForce RTX 4090, 24209MiB)\r\n",
      "YOLOv8l-seg summary (fused): 295 layers, 45,914,972 parameters, 0 gradients, 220.1 GFLOPs\r\n",
      "\u001B[34m\u001B[1mval: \u001B[0mScanning /mnt/data/rgn_ijcnn/yolo/yolo_cleaned/datasets/labels/val.cache...\u001B[0m\r\n",
      "                 Class     Images  Instances      Box(P          R      mAP50  m\r\n",
      "                   all        410        605      0.698       0.68      0.714      0.691      0.702      0.683      0.718      0.587\r\n",
      "                 FR-II        221        267      0.715      0.772      0.775      0.743      0.729      0.787      0.791      0.635\r\n",
      "                  FR-I         78         83      0.721       0.59      0.683      0.669      0.722       0.59      0.683      0.577\r\n",
      "                  FR-X         82         84      0.635      0.619      0.636      0.619      0.636      0.619      0.636      0.527\r\n",
      "                     R        154        171       0.72      0.738       0.76      0.732       0.72      0.737       0.76       0.61\r\n",
      "Speed: 0.2ms preprocess, 5.8ms inference, 0.0ms loss, 0.3ms postprocess per image\r\n",
      "Saving runs/segment/val10/predictions.json...\r\n",
      "Results saved to \u001B[1mruns/segment/val10\u001B[0m\r\n",
      "💡 Learn more at https://docs.ultralytics.com/modes/val\r\n"
     ]
    }
   ],
   "execution_count": 23
  },
  {
   "metadata": {
    "ExecuteTime": {
     "end_time": "2025-01-28T18:29:30.030336Z",
     "start_time": "2025-01-28T18:29:29.886750Z"
    }
   },
   "cell_type": "code",
   "source": "coco_evaluate(\"/mnt/data/rgn_ijcnn/cleaned/annotations/val.json\", \"runs/segment/val10\")",
   "id": "2d3ea3300f7828b7",
   "outputs": [
    {
     "name": "stdout",
     "output_type": "stream",
     "text": [
      "loading annotations into memory...\n",
      "Done (t=0.00s)\n",
      "creating index...\n",
      "index created!\n",
      "Loading and preparing results...\n",
      "DONE (t=0.00s)\n",
      "creating index...\n",
      "index created!\n",
      "Running per image evaluation...\n",
      "Evaluate annotation type *bbox*\n",
      "DONE (t=0.05s).\n",
      "Accumulating evaluation results...\n",
      "DONE (t=0.02s).\n",
      " Average Precision  (AP) @[ IoU=0.50:0.95 | area=   all | maxDets=100 ] = 0.587\n",
      " Average Precision  (AP) @[ IoU=0.50      | area=   all | maxDets=100 ] = 0.612\n",
      " Average Precision  (AP) @[ IoU=0.75      | area=   all | maxDets=100 ] = 0.606\n",
      " Average Precision  (AP) @[ IoU=0.50:0.95 | area= small | maxDets=100 ] = 0.536\n",
      " Average Precision  (AP) @[ IoU=0.50:0.95 | area=medium | maxDets=100 ] = 0.614\n",
      " Average Precision  (AP) @[ IoU=0.50:0.95 | area= large | maxDets=100 ] = 0.370\n",
      " Average Recall     (AR) @[ IoU=0.50:0.95 | area=   all | maxDets=  1 ] = 0.604\n",
      " Average Recall     (AR) @[ IoU=0.50:0.95 | area=   all | maxDets= 10 ] = 0.674\n",
      " Average Recall     (AR) @[ IoU=0.50:0.95 | area=   all | maxDets=100 ] = 0.674\n",
      " Average Recall     (AR) @[ IoU=0.50:0.95 | area= small | maxDets=100 ] = 0.631\n",
      " Average Recall     (AR) @[ IoU=0.50:0.95 | area=medium | maxDets=100 ] = 0.701\n",
      " Average Recall     (AR) @[ IoU=0.50:0.95 | area= large | maxDets=100 ] = 0.380\n",
      "Running per image evaluation...\n",
      "Evaluate annotation type *segm*\n",
      "DONE (t=0.05s).\n",
      "Accumulating evaluation results...\n",
      "DONE (t=0.02s).\n",
      " Average Precision  (AP) @[ IoU=0.50:0.95 | area=   all | maxDets=100 ] = 0.508\n",
      " Average Precision  (AP) @[ IoU=0.50      | area=   all | maxDets=100 ] = 0.617\n",
      " Average Precision  (AP) @[ IoU=0.75      | area=   all | maxDets=100 ] = 0.610\n",
      " Average Precision  (AP) @[ IoU=0.50:0.95 | area= small | maxDets=100 ] = 0.459\n",
      " Average Precision  (AP) @[ IoU=0.50:0.95 | area=medium | maxDets=100 ] = 0.534\n",
      " Average Precision  (AP) @[ IoU=0.50:0.95 | area= large | maxDets=100 ] = 0.320\n",
      " Average Recall     (AR) @[ IoU=0.50:0.95 | area=   all | maxDets=  1 ] = 0.530\n",
      " Average Recall     (AR) @[ IoU=0.50:0.95 | area=   all | maxDets= 10 ] = 0.591\n",
      " Average Recall     (AR) @[ IoU=0.50:0.95 | area=   all | maxDets=100 ] = 0.591\n",
      " Average Recall     (AR) @[ IoU=0.50:0.95 | area= small | maxDets=100 ] = 0.545\n",
      " Average Recall     (AR) @[ IoU=0.50:0.95 | area=medium | maxDets=100 ] = 0.616\n",
      " Average Recall     (AR) @[ IoU=0.50:0.95 | area= large | maxDets=100 ] = 0.334\n"
     ]
    }
   ],
   "execution_count": 24
  },
  {
   "metadata": {},
   "cell_type": "markdown",
   "source": "#### Test Set",
   "id": "7b19e83c50b33ba0"
  },
  {
   "metadata": {
    "ExecuteTime": {
     "end_time": "2025-01-28T23:09:49.847092Z",
     "start_time": "2025-01-28T23:09:41.625642Z"
    }
   },
   "cell_type": "code",
   "source": "!yolo task=segment mode=val model=runs/segment/train19/weights/best.pt retina_masks=True conf=0.5 data=\"/mnt/data/rgn_ijcnn/yolo/yolo_test/datasets/data.yaml\" save_json=True",
   "id": "ffe8a172fde7c65f",
   "outputs": [
    {
     "name": "stdout",
     "output_type": "stream",
     "text": [
      "Ultralytics 8.3.68 🚀 Python-3.12.8 torch-2.5.1+cu118 CUDA:0 (NVIDIA GeForce RTX 4090, 24209MiB)\r\n",
      "YOLOv8l-seg summary (fused): 295 layers, 45,914,972 parameters, 0 gradients, 220.1 GFLOPs\r\n",
      "\u001B[34m\u001B[1mval: \u001B[0mScanning /mnt/data/rgn_ijcnn/yolo/yolo_test/datasets/labels/val.cache... 41\u001B[0m\r\n",
      "                 Class     Images  Instances      Box(P          R      mAP50  m\r\n",
      "                   all        411        593      0.732      0.645      0.695      0.672      0.739      0.647      0.698      0.576\r\n",
      "                 FR-II        225        277      0.797       0.78      0.824        0.8      0.814      0.794      0.836      0.686\r\n",
      "                  FR-I         83         90      0.781      0.554      0.665      0.648       0.78      0.552      0.665      0.569\r\n",
      "                  FR-X         81         86      0.624      0.558      0.566      0.541      0.627      0.558      0.566      0.466\r\n",
      "                     R        124        140      0.728      0.686      0.723        0.7      0.734      0.686      0.723      0.584\r\n",
      "Speed: 0.3ms preprocess, 5.7ms inference, 0.0ms loss, 0.3ms postprocess per image\r\n",
      "Saving runs/segment/val14/predictions.json...\r\n",
      "Results saved to \u001B[1mruns/segment/val14\u001B[0m\r\n",
      "💡 Learn more at https://docs.ultralytics.com/modes/val\r\n"
     ]
    }
   ],
   "execution_count": 10
  },
  {
   "metadata": {
    "ExecuteTime": {
     "end_time": "2025-01-28T23:09:58.756882Z",
     "start_time": "2025-01-28T23:09:58.616506Z"
    }
   },
   "cell_type": "code",
   "source": "coco_evaluate(\"/mnt/data/rgn_ijcnn/cleaned/annotations/test.json\", \"runs/segment/val14\")",
   "id": "819aeb9da87ef8c6",
   "outputs": [
    {
     "name": "stdout",
     "output_type": "stream",
     "text": [
      "loading annotations into memory...\n",
      "Done (t=0.00s)\n",
      "creating index...\n",
      "index created!\n",
      "Loading and preparing results...\n",
      "DONE (t=0.00s)\n",
      "creating index...\n",
      "index created!\n",
      "Running per image evaluation...\n",
      "Evaluate annotation type *bbox*\n",
      "DONE (t=0.04s).\n",
      "Accumulating evaluation results...\n",
      "DONE (t=0.02s).\n",
      " Average Precision  (AP) @[ IoU=0.50:0.95 | area=   all | maxDets=100 ] = 0.576\n",
      " Average Precision  (AP) @[ IoU=0.50      | area=   all | maxDets=100 ] = 0.601\n",
      " Average Precision  (AP) @[ IoU=0.75      | area=   all | maxDets=100 ] = 0.594\n",
      " Average Precision  (AP) @[ IoU=0.50:0.95 | area= small | maxDets=100 ] = 0.409\n",
      " Average Precision  (AP) @[ IoU=0.50:0.95 | area=medium | maxDets=100 ] = 0.618\n",
      " Average Precision  (AP) @[ IoU=0.50:0.95 | area= large | maxDets=100 ] = 0.564\n",
      " Average Recall     (AR) @[ IoU=0.50:0.95 | area=   all | maxDets=  1 ] = 0.595\n",
      " Average Recall     (AR) @[ IoU=0.50:0.95 | area=   all | maxDets= 10 ] = 0.678\n",
      " Average Recall     (AR) @[ IoU=0.50:0.95 | area=   all | maxDets=100 ] = 0.678\n",
      " Average Recall     (AR) @[ IoU=0.50:0.95 | area= small | maxDets=100 ] = 0.492\n",
      " Average Recall     (AR) @[ IoU=0.50:0.95 | area=medium | maxDets=100 ] = 0.724\n",
      " Average Recall     (AR) @[ IoU=0.50:0.95 | area= large | maxDets=100 ] = 0.566\n",
      "Running per image evaluation...\n",
      "Evaluate annotation type *segm*\n",
      "DONE (t=0.05s).\n",
      "Accumulating evaluation results...\n",
      "DONE (t=0.02s).\n",
      " Average Precision  (AP) @[ IoU=0.50:0.95 | area=   all | maxDets=100 ] = 0.495\n",
      " Average Precision  (AP) @[ IoU=0.50      | area=   all | maxDets=100 ] = 0.606\n",
      " Average Precision  (AP) @[ IoU=0.75      | area=   all | maxDets=100 ] = 0.596\n",
      " Average Precision  (AP) @[ IoU=0.50:0.95 | area= small | maxDets=100 ] = 0.350\n",
      " Average Precision  (AP) @[ IoU=0.50:0.95 | area=medium | maxDets=100 ] = 0.529\n",
      " Average Precision  (AP) @[ IoU=0.50:0.95 | area= large | maxDets=100 ] = 0.503\n",
      " Average Recall     (AR) @[ IoU=0.50:0.95 | area=   all | maxDets=  1 ] = 0.519\n",
      " Average Recall     (AR) @[ IoU=0.50:0.95 | area=   all | maxDets= 10 ] = 0.592\n",
      " Average Recall     (AR) @[ IoU=0.50:0.95 | area=   all | maxDets=100 ] = 0.592\n",
      " Average Recall     (AR) @[ IoU=0.50:0.95 | area= small | maxDets=100 ] = 0.430\n",
      " Average Recall     (AR) @[ IoU=0.50:0.95 | area=medium | maxDets=100 ] = 0.629\n",
      " Average Recall     (AR) @[ IoU=0.50:0.95 | area= large | maxDets=100 ] = 0.510\n"
     ]
    }
   ],
   "execution_count": 11
  },
  {
   "metadata": {},
   "cell_type": "markdown",
   "source": "## Random Rotations x3, with backgrounds and balancing, and Combined with Cleaned Dataset",
   "id": "bf4bb31752549a87"
  },
  {
   "metadata": {},
   "cell_type": "code",
   "source": [
    "%%bash\n",
    "(yolo task=segment mode=train model=yolov8l-seg.pt \\\n",
    "data=\"/mnt/data/rgn_ijcnn/yolo/yolo_rotated_x3/datasets/data.yaml\" \\\n",
    "epochs=150 batch=32 \\\n",
    "hsv_h=0 hsv_s=0 hsv_v=0 mosaic=0 \\\n",
    "fliplr=0 patience=25)"
   ],
   "id": "a85407807ae0fc7c",
   "outputs": [],
   "execution_count": null
  },
  {
   "metadata": {},
   "cell_type": "markdown",
   "source": [
    "Results saved to runs/segment/train27\n",
    "\n",
    "                   all        410        605        0.8      0.686      0.778      0.755      0.803      0.696      0.786      0.655\n",
    "                 FR-II        221        267      0.804       0.79      0.833      0.807       0.82      0.809      0.862      0.721\n",
    "                  FR-I         78         83       0.83      0.602       0.73      0.717      0.829      0.602      0.735      0.623\n",
    "                  FR-X         82         84      0.766      0.607      0.739      0.713      0.761      0.619      0.739      0.609\n",
    "                     R        154        171        0.8      0.743      0.808      0.781      0.801      0.755      0.808      0.666\n"
   ],
   "id": "b5de7580539cdd46"
  },
  {
   "metadata": {},
   "cell_type": "markdown",
   "source": "#### Validation Set",
   "id": "df9d3bc9da16a5e0"
  },
  {
   "metadata": {
    "ExecuteTime": {
     "end_time": "2025-01-29T14:22:23.749618Z",
     "start_time": "2025-01-29T14:22:15.507787Z"
    }
   },
   "cell_type": "code",
   "source": "!yolo task=segment mode=val model=runs/segment/train27/weights/best.pt retina_masks=True conf=0.5 data=\"/mnt/data/rgn_ijcnn/yolo/yolo_cleaned/datasets/data.yaml\" save_json=True",
   "id": "337729f49efa8911",
   "outputs": [
    {
     "name": "stdout",
     "output_type": "stream",
     "text": [
      "Ultralytics 8.3.68 🚀 Python-3.12.8 torch-2.5.1+cu118 CUDA:0 (NVIDIA GeForce RTX 4090, 24209MiB)\r\n",
      "YOLOv8l-seg summary (fused): 295 layers, 45,914,972 parameters, 0 gradients, 220.1 GFLOPs\r\n",
      "\u001B[34m\u001B[1mval: \u001B[0mScanning /mnt/data/rgn_ijcnn/yolo/yolo_cleaned/datasets/labels/val.cache...\u001B[0m\r\n",
      "                 Class     Images  Instances      Box(P          R      mAP50  m\r\n",
      "                   all        410        605      0.802      0.688      0.762      0.746      0.802      0.696      0.767      0.625\r\n",
      "                 FR-II        221        267      0.803       0.79      0.817      0.798      0.819      0.809      0.839      0.679\r\n",
      "                  FR-I         78         83       0.83      0.602      0.722      0.715      0.829      0.602      0.722      0.608\r\n",
      "                  FR-X         82         84      0.775      0.616      0.718      0.702      0.761      0.619      0.718      0.584\r\n",
      "                     R        154        171        0.8      0.743       0.79      0.771      0.801      0.754       0.79       0.63\r\n",
      "Speed: 0.3ms preprocess, 5.7ms inference, 0.0ms loss, 0.3ms postprocess per image\r\n",
      "Saving runs/segment/val20/predictions.json...\r\n",
      "Results saved to \u001B[1mruns/segment/val20\u001B[0m\r\n",
      "💡 Learn more at https://docs.ultralytics.com/modes/val\r\n"
     ]
    }
   ],
   "execution_count": 4
  },
  {
   "metadata": {
    "ExecuteTime": {
     "end_time": "2025-01-29T14:22:30.062151Z",
     "start_time": "2025-01-29T14:22:29.866786Z"
    }
   },
   "cell_type": "code",
   "source": "coco_evaluate(\"/mnt/data/rgn_ijcnn/cleaned/annotations/val.json\", \"runs/segment/val20\")",
   "id": "4003b472c7a3b04d",
   "outputs": [
    {
     "name": "stdout",
     "output_type": "stream",
     "text": [
      "loading annotations into memory...\n",
      "Done (t=0.00s)\n",
      "creating index...\n",
      "index created!\n",
      "Loading and preparing results...\n",
      "DONE (t=0.00s)\n",
      "creating index...\n",
      "index created!\n",
      "Running per image evaluation...\n",
      "Evaluate annotation type *bbox*\n",
      "DONE (t=0.05s).\n",
      "Accumulating evaluation results...\n",
      "DONE (t=0.02s).\n",
      " Average Precision  (AP) @[ IoU=0.50:0.95 | area=   all | maxDets=100 ] = 0.641\n",
      " Average Precision  (AP) @[ IoU=0.50      | area=   all | maxDets=100 ] = 0.660\n",
      " Average Precision  (AP) @[ IoU=0.75      | area=   all | maxDets=100 ] = 0.655\n",
      " Average Precision  (AP) @[ IoU=0.50:0.95 | area= small | maxDets=100 ] = 0.564\n",
      " Average Precision  (AP) @[ IoU=0.50:0.95 | area=medium | maxDets=100 ] = 0.678\n",
      " Average Precision  (AP) @[ IoU=0.50:0.95 | area= large | maxDets=100 ] = 0.420\n",
      " Average Recall     (AR) @[ IoU=0.50:0.95 | area=   all | maxDets=  1 ] = 0.631\n",
      " Average Recall     (AR) @[ IoU=0.50:0.95 | area=   all | maxDets= 10 ] = 0.706\n",
      " Average Recall     (AR) @[ IoU=0.50:0.95 | area=   all | maxDets=100 ] = 0.706\n",
      " Average Recall     (AR) @[ IoU=0.50:0.95 | area= small | maxDets=100 ] = 0.647\n",
      " Average Recall     (AR) @[ IoU=0.50:0.95 | area=medium | maxDets=100 ] = 0.743\n",
      " Average Recall     (AR) @[ IoU=0.50:0.95 | area= large | maxDets=100 ] = 0.438\n",
      "Running per image evaluation...\n",
      "Evaluate annotation type *segm*\n",
      "DONE (t=0.10s).\n",
      "Accumulating evaluation results...\n",
      "DONE (t=0.02s).\n",
      " Average Precision  (AP) @[ IoU=0.50:0.95 | area=   all | maxDets=100 ] = 0.553\n",
      " Average Precision  (AP) @[ IoU=0.50      | area=   all | maxDets=100 ] = 0.666\n",
      " Average Precision  (AP) @[ IoU=0.75      | area=   all | maxDets=100 ] = 0.657\n",
      " Average Precision  (AP) @[ IoU=0.50:0.95 | area= small | maxDets=100 ] = 0.474\n",
      " Average Precision  (AP) @[ IoU=0.50:0.95 | area=medium | maxDets=100 ] = 0.588\n",
      " Average Precision  (AP) @[ IoU=0.50:0.95 | area= large | maxDets=100 ] = 0.367\n",
      " Average Recall     (AR) @[ IoU=0.50:0.95 | area=   all | maxDets=  1 ] = 0.554\n",
      " Average Recall     (AR) @[ IoU=0.50:0.95 | area=   all | maxDets= 10 ] = 0.619\n",
      " Average Recall     (AR) @[ IoU=0.50:0.95 | area=   all | maxDets=100 ] = 0.619\n",
      " Average Recall     (AR) @[ IoU=0.50:0.95 | area= small | maxDets=100 ] = 0.552\n",
      " Average Recall     (AR) @[ IoU=0.50:0.95 | area=medium | maxDets=100 ] = 0.655\n",
      " Average Recall     (AR) @[ IoU=0.50:0.95 | area= large | maxDets=100 ] = 0.387\n"
     ]
    }
   ],
   "execution_count": 5
  },
  {
   "metadata": {},
   "cell_type": "markdown",
   "source": "#### Test Set",
   "id": "79e9d35676cb214"
  },
  {
   "metadata": {
    "ExecuteTime": {
     "end_time": "2025-01-29T14:23:11.126412Z",
     "start_time": "2025-01-29T14:23:02.974213Z"
    }
   },
   "cell_type": "code",
   "source": "!yolo task=segment mode=val model=runs/segment/train27/weights/best.pt retina_masks=True conf=0.5 data=\"/mnt/data/rgn_ijcnn/yolo/yolo_test/datasets/data.yaml\" save_json=True",
   "id": "33e1bedced9dcf8a",
   "outputs": [
    {
     "name": "stdout",
     "output_type": "stream",
     "text": [
      "Ultralytics 8.3.68 🚀 Python-3.12.8 torch-2.5.1+cu118 CUDA:0 (NVIDIA GeForce RTX 4090, 24209MiB)\r\n",
      "YOLOv8l-seg summary (fused): 295 layers, 45,914,972 parameters, 0 gradients, 220.1 GFLOPs\r\n",
      "\u001B[34m\u001B[1mval: \u001B[0mScanning /mnt/data/rgn_ijcnn/yolo/yolo_test/datasets/labels/val.cache... 41\u001B[0m\r\n",
      "                 Class     Images  Instances      Box(P          R      mAP50  m\r\n",
      "                   all        411        593      0.749      0.744      0.758      0.742      0.753      0.748      0.761      0.623\r\n",
      "                 FR-II        225        277      0.797       0.85      0.841      0.826       0.81      0.864       0.85      0.694\r\n",
      "                  FR-I         83         90      0.798      0.722      0.809      0.788      0.799      0.722      0.809      0.674\r\n",
      "                  FR-X         81         86      0.691      0.663      0.641      0.623      0.692      0.663      0.641      0.527\r\n",
      "                     R        124        140       0.71      0.743      0.742      0.731       0.71      0.743      0.742      0.597\r\n",
      "Speed: 0.3ms preprocess, 5.7ms inference, 0.0ms loss, 0.3ms postprocess per image\r\n",
      "Saving runs/segment/val21/predictions.json...\r\n",
      "Results saved to \u001B[1mruns/segment/val21\u001B[0m\r\n",
      "💡 Learn more at https://docs.ultralytics.com/modes/val\r\n"
     ]
    }
   ],
   "execution_count": 6
  },
  {
   "metadata": {
    "ExecuteTime": {
     "end_time": "2025-01-29T19:27:18.691788Z",
     "start_time": "2025-01-29T19:27:18.425337Z"
    }
   },
   "cell_type": "code",
   "source": "coco_evaluate(\"/mnt/data/rgn_ijcnn/cleaned/annotations/test.json\", \"runs/segment/val21\", per_cat=True)",
   "id": "e2ff1d4aead22bb6",
   "outputs": [
    {
     "name": "stdout",
     "output_type": "stream",
     "text": [
      "loading annotations into memory...\n",
      "Done (t=0.00s)\n",
      "creating index...\n",
      "index created!\n",
      "Loading and preparing results...\n",
      "DONE (t=0.00s)\n",
      "creating index...\n",
      "index created!\n",
      "Running per image evaluation...\n",
      "Evaluate annotation type *bbox*\n",
      "DONE (t=0.04s).\n",
      "Accumulating evaluation results...\n",
      "DONE (t=0.02s).\n",
      " Average Precision  (AP) @[ IoU=0.50:0.95 | area=   all | maxDets=100 ] = 0.652\n",
      " Average Precision  (AP) @[ IoU=0.50      | area=   all | maxDets=100 ] = 0.671\n",
      " Average Precision  (AP) @[ IoU=0.75      | area=   all | maxDets=100 ] = 0.662\n",
      " Average Precision  (AP) @[ IoU=0.50:0.95 | area= small | maxDets=100 ] = 0.561\n",
      " Average Precision  (AP) @[ IoU=0.50:0.95 | area=medium | maxDets=100 ] = 0.671\n",
      " Average Precision  (AP) @[ IoU=0.50:0.95 | area= large | maxDets=100 ] = 0.658\n",
      " Average Recall     (AR) @[ IoU=0.50:0.95 | area=   all | maxDets=  1 ] = 0.655\n",
      " Average Recall     (AR) @[ IoU=0.50:0.95 | area=   all | maxDets= 10 ] = 0.743\n",
      " Average Recall     (AR) @[ IoU=0.50:0.95 | area=   all | maxDets=100 ] = 0.743\n",
      " Average Recall     (AR) @[ IoU=0.50:0.95 | area= small | maxDets=100 ] = 0.645\n",
      " Average Recall     (AR) @[ IoU=0.50:0.95 | area=medium | maxDets=100 ] = 0.756\n",
      " Average Recall     (AR) @[ IoU=0.50:0.95 | area= large | maxDets=100 ] = 0.675\n",
      "Running per image evaluation...\n",
      "Evaluate annotation type *segm*\n",
      "DONE (t=0.05s).\n",
      "Accumulating evaluation results...\n",
      "DONE (t=0.02s).\n",
      " Average Precision  (AP) @[ IoU=0.50:0.95 | area=   all | maxDets=100 ] = 0.560\n",
      " Average Precision  (AP) @[ IoU=0.50      | area=   all | maxDets=100 ] = 0.673\n",
      " Average Precision  (AP) @[ IoU=0.75      | area=   all | maxDets=100 ] = 0.669\n",
      " Average Precision  (AP) @[ IoU=0.50:0.95 | area= small | maxDets=100 ] = 0.477\n",
      " Average Precision  (AP) @[ IoU=0.50:0.95 | area=medium | maxDets=100 ] = 0.576\n",
      " Average Precision  (AP) @[ IoU=0.50:0.95 | area= large | maxDets=100 ] = 0.582\n",
      " Average Recall     (AR) @[ IoU=0.50:0.95 | area=   all | maxDets=  1 ] = 0.574\n",
      " Average Recall     (AR) @[ IoU=0.50:0.95 | area=   all | maxDets= 10 ] = 0.650\n",
      " Average Recall     (AR) @[ IoU=0.50:0.95 | area=   all | maxDets=100 ] = 0.650\n",
      " Average Recall     (AR) @[ IoU=0.50:0.95 | area= small | maxDets=100 ] = 0.553\n",
      " Average Recall     (AR) @[ IoU=0.50:0.95 | area=medium | maxDets=100 ] = 0.662\n",
      " Average Recall     (AR) @[ IoU=0.50:0.95 | area= large | maxDets=100 ] = 0.602\n",
      "Results for FR-II\n",
      "Running per image evaluation...\n",
      "Evaluate annotation type *bbox*\n",
      "DONE (t=0.02s).\n",
      "Accumulating evaluation results...\n",
      "DONE (t=0.01s).\n",
      " Average Precision  (AP) @[ IoU=0.50:0.95 | area=   all | maxDets=100 ] = 0.762\n",
      " Average Precision  (AP) @[ IoU=0.50      | area=   all | maxDets=100 ] = 0.783\n",
      " Average Precision  (AP) @[ IoU=0.75      | area=   all | maxDets=100 ] = 0.769\n",
      " Average Precision  (AP) @[ IoU=0.50:0.95 | area= small | maxDets=100 ] = 0.508\n",
      " Average Precision  (AP) @[ IoU=0.50:0.95 | area=medium | maxDets=100 ] = 0.778\n",
      " Average Precision  (AP) @[ IoU=0.50:0.95 | area= large | maxDets=100 ] = 0.799\n",
      " Average Recall     (AR) @[ IoU=0.50:0.95 | area=   all | maxDets=  1 ] = 0.678\n",
      " Average Recall     (AR) @[ IoU=0.50:0.95 | area=   all | maxDets= 10 ] = 0.836\n",
      " Average Recall     (AR) @[ IoU=0.50:0.95 | area=   all | maxDets=100 ] = 0.836\n",
      " Average Recall     (AR) @[ IoU=0.50:0.95 | area= small | maxDets=100 ] = 0.588\n",
      " Average Recall     (AR) @[ IoU=0.50:0.95 | area=medium | maxDets=100 ] = 0.855\n",
      " Average Recall     (AR) @[ IoU=0.50:0.95 | area= large | maxDets=100 ] = 0.868\n",
      "Results for FR-II\n",
      "Running per image evaluation...\n",
      "Evaluate annotation type *segm*\n",
      "DONE (t=0.02s).\n",
      "Accumulating evaluation results...\n",
      "DONE (t=0.01s).\n",
      " Average Precision  (AP) @[ IoU=0.50:0.95 | area=   all | maxDets=100 ] = 0.641\n",
      " Average Precision  (AP) @[ IoU=0.50      | area=   all | maxDets=100 ] = 0.792\n",
      " Average Precision  (AP) @[ IoU=0.75      | area=   all | maxDets=100 ] = 0.774\n",
      " Average Precision  (AP) @[ IoU=0.50:0.95 | area= small | maxDets=100 ] = 0.395\n",
      " Average Precision  (AP) @[ IoU=0.50:0.95 | area=medium | maxDets=100 ] = 0.650\n",
      " Average Precision  (AP) @[ IoU=0.50:0.95 | area= large | maxDets=100 ] = 0.704\n",
      " Average Recall     (AR) @[ IoU=0.50:0.95 | area=   all | maxDets=  1 ] = 0.587\n",
      " Average Recall     (AR) @[ IoU=0.50:0.95 | area=   all | maxDets= 10 ] = 0.718\n",
      " Average Recall     (AR) @[ IoU=0.50:0.95 | area=   all | maxDets=100 ] = 0.718\n",
      " Average Recall     (AR) @[ IoU=0.50:0.95 | area= small | maxDets=100 ] = 0.476\n",
      " Average Recall     (AR) @[ IoU=0.50:0.95 | area=medium | maxDets=100 ] = 0.730\n",
      " Average Recall     (AR) @[ IoU=0.50:0.95 | area= large | maxDets=100 ] = 0.774\n",
      "Results for FR-I\n",
      "Running per image evaluation...\n",
      "Evaluate annotation type *bbox*\n",
      "DONE (t=0.01s).\n",
      "Accumulating evaluation results...\n",
      "DONE (t=0.00s).\n",
      " Average Precision  (AP) @[ IoU=0.50:0.95 | area=   all | maxDets=100 ] = 0.684\n",
      " Average Precision  (AP) @[ IoU=0.50      | area=   all | maxDets=100 ] = 0.709\n",
      " Average Precision  (AP) @[ IoU=0.75      | area=   all | maxDets=100 ] = 0.687\n",
      " Average Precision  (AP) @[ IoU=0.50:0.95 | area= small | maxDets=100 ] = 0.541\n",
      " Average Precision  (AP) @[ IoU=0.50:0.95 | area=medium | maxDets=100 ] = 0.739\n",
      " Average Precision  (AP) @[ IoU=0.50:0.95 | area= large | maxDets=100 ] = 0.663\n",
      " Average Recall     (AR) @[ IoU=0.50:0.95 | area=   all | maxDets=  1 ] = 0.667\n",
      " Average Recall     (AR) @[ IoU=0.50:0.95 | area=   all | maxDets= 10 ] = 0.733\n",
      " Average Recall     (AR) @[ IoU=0.50:0.95 | area=   all | maxDets=100 ] = 0.733\n",
      " Average Recall     (AR) @[ IoU=0.50:0.95 | area= small | maxDets=100 ] = 0.580\n",
      " Average Recall     (AR) @[ IoU=0.50:0.95 | area=medium | maxDets=100 ] = 0.787\n",
      " Average Recall     (AR) @[ IoU=0.50:0.95 | area= large | maxDets=100 ] = 0.667\n",
      "Results for FR-I\n",
      "Running per image evaluation...\n",
      "Evaluate annotation type *segm*\n",
      "DONE (t=0.01s).\n",
      "Accumulating evaluation results...\n",
      "DONE (t=0.00s).\n",
      " Average Precision  (AP) @[ IoU=0.50:0.95 | area=   all | maxDets=100 ] = 0.600\n",
      " Average Precision  (AP) @[ IoU=0.50      | area=   all | maxDets=100 ] = 0.709\n",
      " Average Precision  (AP) @[ IoU=0.75      | area=   all | maxDets=100 ] = 0.709\n",
      " Average Precision  (AP) @[ IoU=0.50:0.95 | area= small | maxDets=100 ] = 0.477\n",
      " Average Precision  (AP) @[ IoU=0.50:0.95 | area=medium | maxDets=100 ] = 0.650\n",
      " Average Precision  (AP) @[ IoU=0.50:0.95 | area= large | maxDets=100 ] = 0.573\n",
      " Average Recall     (AR) @[ IoU=0.50:0.95 | area=   all | maxDets=  1 ] = 0.593\n",
      " Average Recall     (AR) @[ IoU=0.50:0.95 | area=   all | maxDets= 10 ] = 0.651\n",
      " Average Recall     (AR) @[ IoU=0.50:0.95 | area=   all | maxDets=100 ] = 0.651\n",
      " Average Recall     (AR) @[ IoU=0.50:0.95 | area= small | maxDets=100 ] = 0.505\n",
      " Average Recall     (AR) @[ IoU=0.50:0.95 | area=medium | maxDets=100 ] = 0.703\n",
      " Average Recall     (AR) @[ IoU=0.50:0.95 | area= large | maxDets=100 ] = 0.583\n",
      "Results for FR-X\n",
      "Running per image evaluation...\n",
      "Evaluate annotation type *bbox*\n",
      "DONE (t=0.01s).\n",
      "Accumulating evaluation results...\n",
      "DONE (t=0.00s).\n",
      " Average Precision  (AP) @[ IoU=0.50:0.95 | area=   all | maxDets=100 ] = 0.518\n",
      " Average Precision  (AP) @[ IoU=0.50      | area=   all | maxDets=100 ] = 0.538\n",
      " Average Precision  (AP) @[ IoU=0.75      | area=   all | maxDets=100 ] = 0.538\n",
      " Average Precision  (AP) @[ IoU=0.50:0.95 | area= small | maxDets=100 ] = 0.548\n",
      " Average Precision  (AP) @[ IoU=0.50:0.95 | area=medium | maxDets=100 ] = 0.530\n",
      " Average Precision  (AP) @[ IoU=0.50:0.95 | area= large | maxDets=100 ] = 0.663\n",
      " Average Recall     (AR) @[ IoU=0.50:0.95 | area=   all | maxDets=  1 ] = 0.612\n",
      " Average Recall     (AR) @[ IoU=0.50:0.95 | area=   all | maxDets= 10 ] = 0.657\n",
      " Average Recall     (AR) @[ IoU=0.50:0.95 | area=   all | maxDets=100 ] = 0.657\n",
      " Average Recall     (AR) @[ IoU=0.50:0.95 | area= small | maxDets=100 ] = 0.597\n",
      " Average Recall     (AR) @[ IoU=0.50:0.95 | area=medium | maxDets=100 ] = 0.693\n",
      " Average Recall     (AR) @[ IoU=0.50:0.95 | area= large | maxDets=100 ] = 0.667\n",
      "Results for FR-X\n",
      "Running per image evaluation...\n",
      "Evaluate annotation type *segm*\n",
      "DONE (t=0.01s).\n",
      "Accumulating evaluation results...\n",
      "DONE (t=0.00s).\n",
      " Average Precision  (AP) @[ IoU=0.50:0.95 | area=   all | maxDets=100 ] = 0.459\n",
      " Average Precision  (AP) @[ IoU=0.50      | area=   all | maxDets=100 ] = 0.538\n",
      " Average Precision  (AP) @[ IoU=0.75      | area=   all | maxDets=100 ] = 0.538\n",
      " Average Precision  (AP) @[ IoU=0.50:0.95 | area= small | maxDets=100 ] = 0.484\n",
      " Average Precision  (AP) @[ IoU=0.50:0.95 | area=medium | maxDets=100 ] = 0.473\n",
      " Average Precision  (AP) @[ IoU=0.50:0.95 | area= large | maxDets=100 ] = 0.597\n",
      " Average Recall     (AR) @[ IoU=0.50:0.95 | area=   all | maxDets=  1 ] = 0.549\n",
      " Average Recall     (AR) @[ IoU=0.50:0.95 | area=   all | maxDets= 10 ] = 0.588\n",
      " Average Recall     (AR) @[ IoU=0.50:0.95 | area=   all | maxDets=100 ] = 0.588\n",
      " Average Recall     (AR) @[ IoU=0.50:0.95 | area= small | maxDets=100 ] = 0.528\n",
      " Average Recall     (AR) @[ IoU=0.50:0.95 | area=medium | maxDets=100 ] = 0.625\n",
      " Average Recall     (AR) @[ IoU=0.50:0.95 | area= large | maxDets=100 ] = 0.600\n",
      "Results for R\n",
      "Running per image evaluation...\n",
      "Evaluate annotation type *bbox*\n",
      "DONE (t=0.01s).\n",
      "Accumulating evaluation results...\n",
      "DONE (t=0.00s).\n",
      " Average Precision  (AP) @[ IoU=0.50:0.95 | area=   all | maxDets=100 ] = 0.643\n",
      " Average Precision  (AP) @[ IoU=0.50      | area=   all | maxDets=100 ] = 0.654\n",
      " Average Precision  (AP) @[ IoU=0.75      | area=   all | maxDets=100 ] = 0.654\n",
      " Average Precision  (AP) @[ IoU=0.50:0.95 | area= small | maxDets=100 ] = 0.647\n",
      " Average Precision  (AP) @[ IoU=0.50:0.95 | area=medium | maxDets=100 ] = 0.636\n",
      " Average Precision  (AP) @[ IoU=0.50:0.95 | area= large | maxDets=100 ] = 0.505\n",
      " Average Recall     (AR) @[ IoU=0.50:0.95 | area=   all | maxDets=  1 ] = 0.662\n",
      " Average Recall     (AR) @[ IoU=0.50:0.95 | area=   all | maxDets= 10 ] = 0.747\n",
      " Average Recall     (AR) @[ IoU=0.50:0.95 | area=   all | maxDets=100 ] = 0.747\n",
      " Average Recall     (AR) @[ IoU=0.50:0.95 | area= small | maxDets=100 ] = 0.815\n",
      " Average Recall     (AR) @[ IoU=0.50:0.95 | area=medium | maxDets=100 ] = 0.690\n",
      " Average Recall     (AR) @[ IoU=0.50:0.95 | area= large | maxDets=100 ] = 0.500\n",
      "Results for R\n",
      "Running per image evaluation...\n",
      "Evaluate annotation type *segm*\n",
      "DONE (t=0.01s).\n",
      "Accumulating evaluation results...\n",
      "DONE (t=0.00s).\n",
      " Average Precision  (AP) @[ IoU=0.50:0.95 | area=   all | maxDets=100 ] = 0.541\n",
      " Average Precision  (AP) @[ IoU=0.50      | area=   all | maxDets=100 ] = 0.654\n",
      " Average Precision  (AP) @[ IoU=0.75      | area=   all | maxDets=100 ] = 0.654\n",
      " Average Precision  (AP) @[ IoU=0.50:0.95 | area= small | maxDets=100 ] = 0.551\n",
      " Average Precision  (AP) @[ IoU=0.50:0.95 | area=medium | maxDets=100 ] = 0.533\n",
      " Average Precision  (AP) @[ IoU=0.50:0.95 | area= large | maxDets=100 ] = 0.454\n",
      " Average Recall     (AR) @[ IoU=0.50:0.95 | area=   all | maxDets=  1 ] = 0.567\n",
      " Average Recall     (AR) @[ IoU=0.50:0.95 | area=   all | maxDets= 10 ] = 0.643\n",
      " Average Recall     (AR) @[ IoU=0.50:0.95 | area=   all | maxDets=100 ] = 0.643\n",
      " Average Recall     (AR) @[ IoU=0.50:0.95 | area= small | maxDets=100 ] = 0.704\n",
      " Average Recall     (AR) @[ IoU=0.50:0.95 | area=medium | maxDets=100 ] = 0.590\n",
      " Average Recall     (AR) @[ IoU=0.50:0.95 | area= large | maxDets=100 ] = 0.450\n"
     ]
    }
   ],
   "execution_count": 9
  },
  {
   "metadata": {},
   "cell_type": "markdown",
   "source": "## Rotated by Multiples of 90, not combined",
   "id": "c04a7eb398dcda13"
  },
  {
   "metadata": {},
   "cell_type": "code",
   "source": [
    "%%bash\n",
    "(yolo task=segment mode=train model=yolov8l-seg.pt \\\n",
    "data=\"/mnt/data/rgn_ijcnn/yolo/yolo_rotate_random_90/datasets/data.yaml\" \\\n",
    "epochs=150 batch=32 \\\n",
    "hsv_h=0 hsv_s=0 hsv_v=0 mosaic=0 \\\n",
    "fliplr=0 patience=25)"
   ],
   "id": "c90455a7c1b431df",
   "outputs": [],
   "execution_count": null
  },
  {
   "metadata": {},
   "cell_type": "markdown",
   "source": [
    "                   all        410        605      0.493      0.594      0.553      0.409       0.49      0.596      0.554      0.327\n",
    "                 FR-II        221        267      0.529      0.809      0.698      0.524      0.529      0.809      0.707      0.415\n",
    "                  FR-I         78         83      0.444       0.51      0.481      0.367      0.445      0.512      0.481      0.316\n",
    "                  FR-X         82         84       0.38      0.595      0.442      0.321      0.372      0.595      0.433      0.244\n",
    "                     R        154        171      0.618      0.463      0.591      0.424      0.614      0.468      0.592      0.333\n",
    "\n",
    "Speed: 0.1ms preprocess, 3.3ms inference, 0.0ms loss, 0.4ms postprocess per image\n",
    "Results saved to runs/segment/train20"
   ],
   "id": "666c62ebf7412142"
  },
  {
   "metadata": {
    "ExecuteTime": {
     "end_time": "2025-01-28T18:30:42.569708Z",
     "start_time": "2025-01-28T18:30:35.046385Z"
    }
   },
   "cell_type": "code",
   "source": "!yolo task=segment mode=val model=runs/segment/train20/weights/best.pt retina_masks=True conf=0.5 data=\"/mnt/data/rgn_ijcnn/yolo/yolo_cleaned/datasets/data.yaml\" save_json=True",
   "id": "18c2b9085785d9dd",
   "outputs": [
    {
     "name": "stdout",
     "output_type": "stream",
     "text": [
      "Ultralytics 8.3.68 🚀 Python-3.12.8 torch-2.5.1+cu118 CUDA:0 (NVIDIA GeForce RTX 4090, 24209MiB)\r\n",
      "YOLOv8l-seg summary (fused): 295 layers, 45,914,972 parameters, 0 gradients, 220.1 GFLOPs\r\n",
      "\u001B[34m\u001B[1mval: \u001B[0mScanning /mnt/data/rgn_ijcnn/yolo/yolo_cleaned/datasets/labels/val.cache...\u001B[0m\r\n",
      "                 Class     Images  Instances      Box(P          R      mAP50  m\r\n",
      "                   all        410        605      0.762      0.234        0.5      0.392      0.766      0.237      0.503      0.342\r\n",
      "                 FR-II        221        267      0.718      0.554      0.629      0.502      0.733      0.566      0.641      0.408\r\n",
      "                  FR-I         78         83      0.737      0.169      0.456      0.365      0.737      0.169      0.456      0.331\r\n",
      "                  FR-X         82         84      0.692      0.107      0.412      0.329      0.692      0.107      0.412      0.279\r\n",
      "                     R        154        171        0.9      0.105      0.504      0.374        0.9      0.105      0.504       0.35\r\n",
      "Speed: 0.2ms preprocess, 5.7ms inference, 0.0ms loss, 0.3ms postprocess per image\r\n",
      "Saving runs/segment/val11/predictions.json...\r\n",
      "Results saved to \u001B[1mruns/segment/val11\u001B[0m\r\n",
      "💡 Learn more at https://docs.ultralytics.com/modes/val\r\n"
     ]
    }
   ],
   "execution_count": 25
  },
  {
   "metadata": {
    "ExecuteTime": {
     "end_time": "2025-01-28T18:30:49.726559Z",
     "start_time": "2025-01-28T18:30:49.621312Z"
    }
   },
   "cell_type": "code",
   "source": "coco_evaluate(\"/mnt/data/rgn_ijcnn/cleaned/annotations/val.json\", \"runs/segment/val11\")",
   "id": "b80bc8d565b68c4d",
   "outputs": [
    {
     "name": "stdout",
     "output_type": "stream",
     "text": [
      "loading annotations into memory...\n",
      "Done (t=0.01s)\n",
      "creating index...\n",
      "index created!\n",
      "Loading and preparing results...\n",
      "DONE (t=0.00s)\n",
      "creating index...\n",
      "index created!\n",
      "Running per image evaluation...\n",
      "Evaluate annotation type *bbox*\n",
      "DONE (t=0.03s).\n",
      "Accumulating evaluation results...\n",
      "DONE (t=0.01s).\n",
      " Average Precision  (AP) @[ IoU=0.50:0.95 | area=   all | maxDets=100 ] = 0.159\n",
      " Average Precision  (AP) @[ IoU=0.50      | area=   all | maxDets=100 ] = 0.208\n",
      " Average Precision  (AP) @[ IoU=0.75      | area=   all | maxDets=100 ] = 0.198\n",
      " Average Precision  (AP) @[ IoU=0.50:0.95 | area= small | maxDets=100 ] = 0.061\n",
      " Average Precision  (AP) @[ IoU=0.50:0.95 | area=medium | maxDets=100 ] = 0.181\n",
      " Average Precision  (AP) @[ IoU=0.50:0.95 | area= large | maxDets=100 ] = 0.179\n",
      " Average Recall     (AR) @[ IoU=0.50:0.95 | area=   all | maxDets=  1 ] = 0.185\n",
      " Average Recall     (AR) @[ IoU=0.50:0.95 | area=   all | maxDets= 10 ] = 0.187\n",
      " Average Recall     (AR) @[ IoU=0.50:0.95 | area=   all | maxDets=100 ] = 0.187\n",
      " Average Recall     (AR) @[ IoU=0.50:0.95 | area= small | maxDets=100 ] = 0.078\n",
      " Average Recall     (AR) @[ IoU=0.50:0.95 | area=medium | maxDets=100 ] = 0.210\n",
      " Average Recall     (AR) @[ IoU=0.50:0.95 | area= large | maxDets=100 ] = 0.198\n",
      "Running per image evaluation...\n",
      "Evaluate annotation type *segm*\n",
      "DONE (t=0.03s).\n",
      "Accumulating evaluation results...\n",
      "DONE (t=0.01s).\n",
      " Average Precision  (AP) @[ IoU=0.50:0.95 | area=   all | maxDets=100 ] = 0.151\n",
      " Average Precision  (AP) @[ IoU=0.50      | area=   all | maxDets=100 ] = 0.211\n",
      " Average Precision  (AP) @[ IoU=0.75      | area=   all | maxDets=100 ] = 0.198\n",
      " Average Precision  (AP) @[ IoU=0.50:0.95 | area= small | maxDets=100 ] = 0.059\n",
      " Average Precision  (AP) @[ IoU=0.50:0.95 | area=medium | maxDets=100 ] = 0.172\n",
      " Average Precision  (AP) @[ IoU=0.50:0.95 | area= large | maxDets=100 ] = 0.163\n",
      " Average Recall     (AR) @[ IoU=0.50:0.95 | area=   all | maxDets=  1 ] = 0.173\n",
      " Average Recall     (AR) @[ IoU=0.50:0.95 | area=   all | maxDets= 10 ] = 0.176\n",
      " Average Recall     (AR) @[ IoU=0.50:0.95 | area=   all | maxDets=100 ] = 0.176\n",
      " Average Recall     (AR) @[ IoU=0.50:0.95 | area= small | maxDets=100 ] = 0.071\n",
      " Average Recall     (AR) @[ IoU=0.50:0.95 | area=medium | maxDets=100 ] = 0.197\n",
      " Average Recall     (AR) @[ IoU=0.50:0.95 | area= large | maxDets=100 ] = 0.185\n"
     ]
    }
   ],
   "execution_count": 26
  },
  {
   "metadata": {},
   "cell_type": "markdown",
   "source": "### +2 FDA Transformed Galaxies",
   "id": "b74589be5c484313"
  },
  {
   "metadata": {},
   "cell_type": "code",
   "source": [
    "%%bash\n",
    "(yolo task=segment mode=train model=yolov8l-seg.pt \\\n",
    "data=\"/mnt/data/rgn_ijcnn/yolo/yolo_2_fda_galaxies/datasets/data.yaml\" \\\n",
    "epochs=150 batch=32 \\\n",
    "hsv_h=0 hsv_s=0 hsv_v=0 mosaic=0 \\\n",
    "fliplr=0 patience=25)"
   ],
   "id": "8bec1cfd6a4a63db",
   "outputs": [],
   "execution_count": null
  },
  {
   "metadata": {},
   "cell_type": "markdown",
   "source": [
    "Results saved to runs/segment/train22\n",
    "\n",
    "                   all        410        605      0.748      0.714      0.768      0.728      0.753      0.718      0.774      0.635\n",
    "                 FR-II        221        267      0.784      0.809      0.839      0.794      0.802      0.828      0.862      0.715\n",
    "                  FR-I         78         83      0.806      0.602      0.721      0.702      0.806      0.602      0.722      0.607\n",
    "                  FR-X         82         84      0.666      0.631      0.705      0.666      0.666      0.631      0.705       0.57\n",
    "                     R        154        171      0.735      0.813      0.808       0.75      0.735      0.813      0.808       0.65"
   ],
   "id": "a205cfa9d5b0f304"
  },
  {
   "metadata": {},
   "cell_type": "markdown",
   "source": "### Validation Set",
   "id": "eba3a8ebd39100cb"
  },
  {
   "metadata": {
    "ExecuteTime": {
     "end_time": "2025-01-28T22:41:27.701699Z",
     "start_time": "2025-01-28T22:41:19.160178Z"
    }
   },
   "cell_type": "code",
   "source": "!yolo task=segment mode=val model=runs/segment/train22/weights/best.pt retina_masks=True conf=0.5 data=\"/mnt/data/rgn_ijcnn/yolo/yolo_cleaned/datasets/data.yaml\" save_json=True",
   "id": "d9673e2baf45bee6",
   "outputs": [
    {
     "name": "stdout",
     "output_type": "stream",
     "text": [
      "Ultralytics 8.3.68 🚀 Python-3.12.8 torch-2.5.1+cu118 CUDA:0 (NVIDIA GeForce RTX 4090, 24209MiB)\r\n",
      "YOLOv8l-seg summary (fused): 295 layers, 45,914,972 parameters, 0 gradients, 220.1 GFLOPs\r\n",
      "\u001B[34m\u001B[1mval: \u001B[0mScanning /mnt/data/rgn_ijcnn/yolo/yolo_cleaned/datasets/labels/val.cache...\u001B[0m\r\n",
      "                 Class     Images  Instances      Box(P          R      mAP50  m\r\n",
      "                   all        410        605      0.747      0.714      0.751      0.724      0.751      0.719      0.756      0.609\r\n",
      "                 FR-II        221        267      0.783      0.809       0.82      0.791      0.801      0.828      0.837      0.668\r\n",
      "                  FR-I         78         83      0.807      0.603      0.698      0.687      0.807      0.603      0.698      0.591\r\n",
      "                  FR-X         82         84      0.665      0.631       0.69       0.66      0.665      0.631       0.69      0.549\r\n",
      "                     R        154        171      0.732      0.813      0.798      0.757      0.732      0.813      0.798      0.627\r\n",
      "Speed: 0.3ms preprocess, 5.7ms inference, 0.0ms loss, 0.3ms postprocess per image\r\n",
      "Saving runs/segment/val12/predictions.json...\r\n",
      "Results saved to \u001B[1mruns/segment/val12\u001B[0m\r\n",
      "💡 Learn more at https://docs.ultralytics.com/modes/val\r\n"
     ]
    }
   ],
   "execution_count": 4
  },
  {
   "metadata": {
    "ExecuteTime": {
     "end_time": "2025-01-28T22:41:41.286554Z",
     "start_time": "2025-01-28T22:41:41.081918Z"
    }
   },
   "cell_type": "code",
   "source": "coco_evaluate(\"/mnt/data/rgn_ijcnn/cleaned/annotations/val.json\", \"runs/segment/val12\")",
   "id": "3cb89b4964b1875",
   "outputs": [
    {
     "name": "stdout",
     "output_type": "stream",
     "text": [
      "loading annotations into memory...\n",
      "Done (t=0.02s)\n",
      "creating index...\n",
      "index created!\n",
      "Loading and preparing results...\n",
      "DONE (t=0.00s)\n",
      "creating index...\n",
      "index created!\n",
      "Running per image evaluation...\n",
      "Evaluate annotation type *bbox*\n",
      "DONE (t=0.04s).\n",
      "Accumulating evaluation results...\n",
      "DONE (t=0.02s).\n",
      " Average Precision  (AP) @[ IoU=0.50:0.95 | area=   all | maxDets=100 ] = 0.617\n",
      " Average Precision  (AP) @[ IoU=0.50      | area=   all | maxDets=100 ] = 0.649\n",
      " Average Precision  (AP) @[ IoU=0.75      | area=   all | maxDets=100 ] = 0.638\n",
      " Average Precision  (AP) @[ IoU=0.50:0.95 | area= small | maxDets=100 ] = 0.537\n",
      " Average Precision  (AP) @[ IoU=0.50:0.95 | area=medium | maxDets=100 ] = 0.656\n",
      " Average Precision  (AP) @[ IoU=0.50:0.95 | area= large | maxDets=100 ] = 0.467\n",
      " Average Recall     (AR) @[ IoU=0.50:0.95 | area=   all | maxDets=  1 ] = 0.625\n",
      " Average Recall     (AR) @[ IoU=0.50:0.95 | area=   all | maxDets= 10 ] = 0.700\n",
      " Average Recall     (AR) @[ IoU=0.50:0.95 | area=   all | maxDets=100 ] = 0.700\n",
      " Average Recall     (AR) @[ IoU=0.50:0.95 | area= small | maxDets=100 ] = 0.642\n",
      " Average Recall     (AR) @[ IoU=0.50:0.95 | area=medium | maxDets=100 ] = 0.729\n",
      " Average Recall     (AR) @[ IoU=0.50:0.95 | area= large | maxDets=100 ] = 0.512\n",
      "Running per image evaluation...\n",
      "Evaluate annotation type *segm*\n",
      "DONE (t=0.10s).\n",
      "Accumulating evaluation results...\n",
      "DONE (t=0.02s).\n",
      " Average Precision  (AP) @[ IoU=0.50:0.95 | area=   all | maxDets=100 ] = 0.568\n",
      " Average Precision  (AP) @[ IoU=0.50      | area=   all | maxDets=100 ] = 0.655\n",
      " Average Precision  (AP) @[ IoU=0.75      | area=   all | maxDets=100 ] = 0.645\n",
      " Average Precision  (AP) @[ IoU=0.50:0.95 | area= small | maxDets=100 ] = 0.506\n",
      " Average Precision  (AP) @[ IoU=0.50:0.95 | area=medium | maxDets=100 ] = 0.600\n",
      " Average Precision  (AP) @[ IoU=0.50:0.95 | area= large | maxDets=100 ] = 0.418\n",
      " Average Recall     (AR) @[ IoU=0.50:0.95 | area=   all | maxDets=  1 ] = 0.574\n",
      " Average Recall     (AR) @[ IoU=0.50:0.95 | area=   all | maxDets= 10 ] = 0.645\n",
      " Average Recall     (AR) @[ IoU=0.50:0.95 | area=   all | maxDets=100 ] = 0.645\n",
      " Average Recall     (AR) @[ IoU=0.50:0.95 | area= small | maxDets=100 ] = 0.592\n",
      " Average Recall     (AR) @[ IoU=0.50:0.95 | area=medium | maxDets=100 ] = 0.670\n",
      " Average Recall     (AR) @[ IoU=0.50:0.95 | area= large | maxDets=100 ] = 0.452\n"
     ]
    }
   ],
   "execution_count": 5
  },
  {
   "metadata": {},
   "cell_type": "markdown",
   "source": "### Test Set",
   "id": "54dac65746913ecf"
  },
  {
   "metadata": {
    "ExecuteTime": {
     "end_time": "2025-01-28T23:05:30.536318Z",
     "start_time": "2025-01-28T23:05:22.372363Z"
    }
   },
   "cell_type": "code",
   "source": "!yolo task=segment mode=val model=runs/segment/train22/weights/best.pt retina_masks=True conf=0.5 data=\"/mnt/data/rgn_ijcnn/yolo/yolo_test/datasets/data.yaml\" save_json=True",
   "id": "e378fea1f8427c07",
   "outputs": [
    {
     "name": "stdout",
     "output_type": "stream",
     "text": [
      "Ultralytics 8.3.68 🚀 Python-3.12.8 torch-2.5.1+cu118 CUDA:0 (NVIDIA GeForce RTX 4090, 24209MiB)\r\n",
      "YOLOv8l-seg summary (fused): 295 layers, 45,914,972 parameters, 0 gradients, 220.1 GFLOPs\r\n",
      "\u001B[34m\u001B[1mval: \u001B[0mScanning /mnt/data/rgn_ijcnn/yolo/yolo_test/datasets/labels/val... 411 imag\u001B[0m\r\n",
      "\u001B[34m\u001B[1mval: \u001B[0mNew cache created: /mnt/data/rgn_ijcnn/yolo/yolo_test/datasets/labels/val.cache\r\n",
      "                 Class     Images  Instances      Box(P          R      mAP50  m\r\n",
      "                   all        411        593      0.752      0.687      0.711      0.686      0.754       0.69      0.713      0.572\r\n",
      "                 FR-II        225        277      0.794      0.823      0.806      0.781      0.804      0.834      0.813      0.649\r\n",
      "                  FR-I         83         90      0.842        0.6      0.727      0.706      0.842        0.6      0.727      0.599\r\n",
      "                  FR-X         81         86      0.681      0.581      0.593      0.572      0.681      0.581      0.593       0.48\r\n",
      "                     R        124        140       0.69      0.743      0.718      0.686       0.69      0.743      0.718      0.562\r\n",
      "Speed: 0.3ms preprocess, 5.8ms inference, 0.0ms loss, 0.3ms postprocess per image\r\n",
      "Saving runs/segment/val13/predictions.json...\r\n",
      "Results saved to \u001B[1mruns/segment/val13\u001B[0m\r\n",
      "💡 Learn more at https://docs.ultralytics.com/modes/val\r\n"
     ]
    }
   ],
   "execution_count": 6
  },
  {
   "cell_type": "code",
   "id": "c2a98f2d-55ca-41cb-a99a-7ea6b1c27611",
   "metadata": {
    "ExecuteTime": {
     "end_time": "2025-01-29T19:29:29.997078Z",
     "start_time": "2025-01-29T19:29:29.684816Z"
    }
   },
   "source": "coco_evaluate(\"/mnt/data/rgn_ijcnn/cleaned/annotations/test.json\", \"runs/segment/val13\", per_cat=True)",
   "outputs": [
    {
     "name": "stdout",
     "output_type": "stream",
     "text": [
      "loading annotations into memory...\n",
      "Done (t=0.00s)\n",
      "creating index...\n",
      "index created!\n",
      "Loading and preparing results...\n",
      "DONE (t=0.00s)\n",
      "creating index...\n",
      "index created!\n",
      "Running per image evaluation...\n",
      "Evaluate annotation type *bbox*\n",
      "DONE (t=0.09s).\n",
      "Accumulating evaluation results...\n",
      "DONE (t=0.02s).\n",
      " Average Precision  (AP) @[ IoU=0.50:0.95 | area=   all | maxDets=100 ] = 0.585\n",
      " Average Precision  (AP) @[ IoU=0.50      | area=   all | maxDets=100 ] = 0.614\n",
      " Average Precision  (AP) @[ IoU=0.75      | area=   all | maxDets=100 ] = 0.608\n",
      " Average Precision  (AP) @[ IoU=0.50:0.95 | area= small | maxDets=100 ] = 0.476\n",
      " Average Precision  (AP) @[ IoU=0.50:0.95 | area=medium | maxDets=100 ] = 0.616\n",
      " Average Precision  (AP) @[ IoU=0.50:0.95 | area= large | maxDets=100 ] = 0.646\n",
      " Average Recall     (AR) @[ IoU=0.50:0.95 | area=   all | maxDets=  1 ] = 0.608\n",
      " Average Recall     (AR) @[ IoU=0.50:0.95 | area=   all | maxDets= 10 ] = 0.685\n",
      " Average Recall     (AR) @[ IoU=0.50:0.95 | area=   all | maxDets=100 ] = 0.685\n",
      " Average Recall     (AR) @[ IoU=0.50:0.95 | area= small | maxDets=100 ] = 0.569\n",
      " Average Recall     (AR) @[ IoU=0.50:0.95 | area=medium | maxDets=100 ] = 0.705\n",
      " Average Recall     (AR) @[ IoU=0.50:0.95 | area= large | maxDets=100 ] = 0.747\n",
      "Running per image evaluation...\n",
      "Evaluate annotation type *segm*\n",
      "DONE (t=0.05s).\n",
      "Accumulating evaluation results...\n",
      "DONE (t=0.02s).\n",
      " Average Precision  (AP) @[ IoU=0.50:0.95 | area=   all | maxDets=100 ] = 0.532\n",
      " Average Precision  (AP) @[ IoU=0.50      | area=   all | maxDets=100 ] = 0.616\n",
      " Average Precision  (AP) @[ IoU=0.75      | area=   all | maxDets=100 ] = 0.611\n",
      " Average Precision  (AP) @[ IoU=0.50:0.95 | area= small | maxDets=100 ] = 0.445\n",
      " Average Precision  (AP) @[ IoU=0.50:0.95 | area=medium | maxDets=100 ] = 0.557\n",
      " Average Precision  (AP) @[ IoU=0.50:0.95 | area= large | maxDets=100 ] = 0.563\n",
      " Average Recall     (AR) @[ IoU=0.50:0.95 | area=   all | maxDets=  1 ] = 0.558\n",
      " Average Recall     (AR) @[ IoU=0.50:0.95 | area=   all | maxDets= 10 ] = 0.627\n",
      " Average Recall     (AR) @[ IoU=0.50:0.95 | area=   all | maxDets=100 ] = 0.627\n",
      " Average Recall     (AR) @[ IoU=0.50:0.95 | area= small | maxDets=100 ] = 0.526\n",
      " Average Recall     (AR) @[ IoU=0.50:0.95 | area=medium | maxDets=100 ] = 0.643\n",
      " Average Recall     (AR) @[ IoU=0.50:0.95 | area= large | maxDets=100 ] = 0.636\n",
      "Results for FR-II\n",
      "Running per image evaluation...\n",
      "Evaluate annotation type *bbox*\n",
      "DONE (t=0.02s).\n",
      "Accumulating evaluation results...\n",
      "DONE (t=0.01s).\n",
      " Average Precision  (AP) @[ IoU=0.50:0.95 | area=   all | maxDets=100 ] = 0.709\n",
      " Average Precision  (AP) @[ IoU=0.50      | area=   all | maxDets=100 ] = 0.741\n",
      " Average Precision  (AP) @[ IoU=0.75      | area=   all | maxDets=100 ] = 0.719\n",
      " Average Precision  (AP) @[ IoU=0.50:0.95 | area= small | maxDets=100 ] = 0.455\n",
      " Average Precision  (AP) @[ IoU=0.50:0.95 | area=medium | maxDets=100 ] = 0.739\n",
      " Average Precision  (AP) @[ IoU=0.50:0.95 | area= large | maxDets=100 ] = 0.730\n",
      " Average Recall     (AR) @[ IoU=0.50:0.95 | area=   all | maxDets=  1 ] = 0.660\n",
      " Average Recall     (AR) @[ IoU=0.50:0.95 | area=   all | maxDets= 10 ] = 0.808\n",
      " Average Recall     (AR) @[ IoU=0.50:0.95 | area=   all | maxDets=100 ] = 0.808\n",
      " Average Recall     (AR) @[ IoU=0.50:0.95 | area= small | maxDets=100 ] = 0.560\n",
      " Average Recall     (AR) @[ IoU=0.50:0.95 | area=medium | maxDets=100 ] = 0.828\n",
      " Average Recall     (AR) @[ IoU=0.50:0.95 | area= large | maxDets=100 ] = 0.837\n",
      "Results for FR-II\n",
      "Running per image evaluation...\n",
      "Evaluate annotation type *segm*\n",
      "DONE (t=0.02s).\n",
      "Accumulating evaluation results...\n",
      "DONE (t=0.01s).\n",
      " Average Precision  (AP) @[ IoU=0.50:0.95 | area=   all | maxDets=100 ] = 0.635\n",
      " Average Precision  (AP) @[ IoU=0.50      | area=   all | maxDets=100 ] = 0.752\n",
      " Average Precision  (AP) @[ IoU=0.75      | area=   all | maxDets=100 ] = 0.733\n",
      " Average Precision  (AP) @[ IoU=0.50:0.95 | area= small | maxDets=100 ] = 0.419\n",
      " Average Precision  (AP) @[ IoU=0.50:0.95 | area=medium | maxDets=100 ] = 0.656\n",
      " Average Precision  (AP) @[ IoU=0.50:0.95 | area= large | maxDets=100 ] = 0.673\n",
      " Average Recall     (AR) @[ IoU=0.50:0.95 | area=   all | maxDets=  1 ] = 0.601\n",
      " Average Recall     (AR) @[ IoU=0.50:0.95 | area=   all | maxDets= 10 ] = 0.730\n",
      " Average Recall     (AR) @[ IoU=0.50:0.95 | area=   all | maxDets=100 ] = 0.730\n",
      " Average Recall     (AR) @[ IoU=0.50:0.95 | area= small | maxDets=100 ] = 0.504\n",
      " Average Recall     (AR) @[ IoU=0.50:0.95 | area=medium | maxDets=100 ] = 0.743\n",
      " Average Recall     (AR) @[ IoU=0.50:0.95 | area= large | maxDets=100 ] = 0.775\n",
      "Results for FR-I\n",
      "Running per image evaluation...\n",
      "Evaluate annotation type *bbox*\n",
      "DONE (t=0.01s).\n",
      "Accumulating evaluation results...\n",
      "DONE (t=0.00s).\n",
      " Average Precision  (AP) @[ IoU=0.50:0.95 | area=   all | maxDets=100 ] = 0.566\n",
      " Average Precision  (AP) @[ IoU=0.50      | area=   all | maxDets=100 ] = 0.589\n",
      " Average Precision  (AP) @[ IoU=0.75      | area=   all | maxDets=100 ] = 0.589\n",
      " Average Precision  (AP) @[ IoU=0.50:0.95 | area= small | maxDets=100 ] = 0.374\n",
      " Average Precision  (AP) @[ IoU=0.50:0.95 | area=medium | maxDets=100 ] = 0.640\n",
      " Average Precision  (AP) @[ IoU=0.50:0.95 | area= large | maxDets=100 ] = 0.488\n",
      " Average Recall     (AR) @[ IoU=0.50:0.95 | area=   all | maxDets=  1 ] = 0.563\n",
      " Average Recall     (AR) @[ IoU=0.50:0.95 | area=   all | maxDets= 10 ] = 0.617\n",
      " Average Recall     (AR) @[ IoU=0.50:0.95 | area=   all | maxDets=100 ] = 0.617\n",
      " Average Recall     (AR) @[ IoU=0.50:0.95 | area= small | maxDets=100 ] = 0.410\n",
      " Average Recall     (AR) @[ IoU=0.50:0.95 | area=medium | maxDets=100 ] = 0.694\n",
      " Average Recall     (AR) @[ IoU=0.50:0.95 | area= large | maxDets=100 ] = 0.483\n",
      "Results for FR-I\n",
      "Running per image evaluation...\n",
      "Evaluate annotation type *segm*\n",
      "DONE (t=0.01s).\n",
      "Accumulating evaluation results...\n",
      "DONE (t=0.00s).\n",
      " Average Precision  (AP) @[ IoU=0.50:0.95 | area=   all | maxDets=100 ] = 0.520\n",
      " Average Precision  (AP) @[ IoU=0.50      | area=   all | maxDets=100 ] = 0.589\n",
      " Average Precision  (AP) @[ IoU=0.75      | area=   all | maxDets=100 ] = 0.589\n",
      " Average Precision  (AP) @[ IoU=0.50:0.95 | area= small | maxDets=100 ] = 0.366\n",
      " Average Precision  (AP) @[ IoU=0.50:0.95 | area=medium | maxDets=100 ] = 0.585\n",
      " Average Precision  (AP) @[ IoU=0.50:0.95 | area= large | maxDets=100 ] = 0.410\n",
      " Average Recall     (AR) @[ IoU=0.50:0.95 | area=   all | maxDets=  1 ] = 0.519\n",
      " Average Recall     (AR) @[ IoU=0.50:0.95 | area=   all | maxDets= 10 ] = 0.568\n",
      " Average Recall     (AR) @[ IoU=0.50:0.95 | area=   all | maxDets=100 ] = 0.568\n",
      " Average Recall     (AR) @[ IoU=0.50:0.95 | area= small | maxDets=100 ] = 0.390\n",
      " Average Recall     (AR) @[ IoU=0.50:0.95 | area=medium | maxDets=100 ] = 0.637\n",
      " Average Recall     (AR) @[ IoU=0.50:0.95 | area= large | maxDets=100 ] = 0.417\n",
      "Results for FR-X\n",
      "Running per image evaluation...\n",
      "Evaluate annotation type *bbox*\n",
      "DONE (t=0.01s).\n",
      "Accumulating evaluation results...\n",
      "DONE (t=0.00s).\n",
      " Average Precision  (AP) @[ IoU=0.50:0.95 | area=   all | maxDets=100 ] = 0.455\n",
      " Average Precision  (AP) @[ IoU=0.50      | area=   all | maxDets=100 ] = 0.476\n",
      " Average Precision  (AP) @[ IoU=0.75      | area=   all | maxDets=100 ] = 0.476\n",
      " Average Precision  (AP) @[ IoU=0.50:0.95 | area= small | maxDets=100 ] = 0.466\n",
      " Average Precision  (AP) @[ IoU=0.50:0.95 | area=medium | maxDets=100 ] = 0.475\n",
      " Average Precision  (AP) @[ IoU=0.50:0.95 | area= large | maxDets=100 ] = 0.663\n",
      " Average Recall     (AR) @[ IoU=0.50:0.95 | area=   all | maxDets=  1 ] = 0.538\n",
      " Average Recall     (AR) @[ IoU=0.50:0.95 | area=   all | maxDets= 10 ] = 0.572\n",
      " Average Recall     (AR) @[ IoU=0.50:0.95 | area=   all | maxDets=100 ] = 0.572\n",
      " Average Recall     (AR) @[ IoU=0.50:0.95 | area= small | maxDets=100 ] = 0.521\n",
      " Average Recall     (AR) @[ IoU=0.50:0.95 | area=medium | maxDets=100 ] = 0.600\n",
      " Average Recall     (AR) @[ IoU=0.50:0.95 | area= large | maxDets=100 ] = 0.667\n",
      "Results for FR-X\n",
      "Running per image evaluation...\n",
      "Evaluate annotation type *segm*\n",
      "DONE (t=0.01s).\n",
      "Accumulating evaluation results...\n",
      "DONE (t=0.00s).\n",
      " Average Precision  (AP) @[ IoU=0.50:0.95 | area=   all | maxDets=100 ] = 0.425\n",
      " Average Precision  (AP) @[ IoU=0.50      | area=   all | maxDets=100 ] = 0.476\n",
      " Average Precision  (AP) @[ IoU=0.75      | area=   all | maxDets=100 ] = 0.476\n",
      " Average Precision  (AP) @[ IoU=0.50:0.95 | area= small | maxDets=100 ] = 0.436\n",
      " Average Precision  (AP) @[ IoU=0.50:0.95 | area=medium | maxDets=100 ] = 0.444\n",
      " Average Precision  (AP) @[ IoU=0.50:0.95 | area= large | maxDets=100 ] = 0.597\n",
      " Average Recall     (AR) @[ IoU=0.50:0.95 | area=   all | maxDets=  1 ] = 0.502\n",
      " Average Recall     (AR) @[ IoU=0.50:0.95 | area=   all | maxDets= 10 ] = 0.533\n",
      " Average Recall     (AR) @[ IoU=0.50:0.95 | area=   all | maxDets=100 ] = 0.533\n",
      " Average Recall     (AR) @[ IoU=0.50:0.95 | area= small | maxDets=100 ] = 0.483\n",
      " Average Recall     (AR) @[ IoU=0.50:0.95 | area=medium | maxDets=100 ] = 0.562\n",
      " Average Recall     (AR) @[ IoU=0.50:0.95 | area= large | maxDets=100 ] = 0.600\n",
      "Results for R\n",
      "Running per image evaluation...\n",
      "Evaluate annotation type *bbox*\n",
      "DONE (t=0.01s).\n",
      "Accumulating evaluation results...\n",
      "DONE (t=0.00s).\n",
      " Average Precision  (AP) @[ IoU=0.50:0.95 | area=   all | maxDets=100 ] = 0.611\n",
      " Average Precision  (AP) @[ IoU=0.50      | area=   all | maxDets=100 ] = 0.648\n",
      " Average Precision  (AP) @[ IoU=0.75      | area=   all | maxDets=100 ] = 0.648\n",
      " Average Precision  (AP) @[ IoU=0.50:0.95 | area= small | maxDets=100 ] = 0.609\n",
      " Average Precision  (AP) @[ IoU=0.50:0.95 | area=medium | maxDets=100 ] = 0.610\n",
      " Average Precision  (AP) @[ IoU=0.50:0.95 | area= large | maxDets=100 ] = 0.703\n",
      " Average Recall     (AR) @[ IoU=0.50:0.95 | area=   all | maxDets=  1 ] = 0.669\n",
      " Average Recall     (AR) @[ IoU=0.50:0.95 | area=   all | maxDets= 10 ] = 0.744\n",
      " Average Recall     (AR) @[ IoU=0.50:0.95 | area=   all | maxDets=100 ] = 0.744\n",
      " Average Recall     (AR) @[ IoU=0.50:0.95 | area= small | maxDets=100 ] = 0.785\n",
      " Average Recall     (AR) @[ IoU=0.50:0.95 | area=medium | maxDets=100 ] = 0.697\n",
      " Average Recall     (AR) @[ IoU=0.50:0.95 | area= large | maxDets=100 ] = 1.000\n",
      "Results for R\n",
      "Running per image evaluation...\n",
      "Evaluate annotation type *segm*\n",
      "DONE (t=0.01s).\n",
      "Accumulating evaluation results...\n",
      "DONE (t=0.00s).\n",
      " Average Precision  (AP) @[ IoU=0.50:0.95 | area=   all | maxDets=100 ] = 0.549\n",
      " Average Precision  (AP) @[ IoU=0.50      | area=   all | maxDets=100 ] = 0.648\n",
      " Average Precision  (AP) @[ IoU=0.75      | area=   all | maxDets=100 ] = 0.648\n",
      " Average Precision  (AP) @[ IoU=0.50:0.95 | area= small | maxDets=100 ] = 0.557\n",
      " Average Precision  (AP) @[ IoU=0.50:0.95 | area=medium | maxDets=100 ] = 0.543\n",
      " Average Precision  (AP) @[ IoU=0.50:0.95 | area= large | maxDets=100 ] = 0.573\n",
      " Average Recall     (AR) @[ IoU=0.50:0.95 | area=   all | maxDets=  1 ] = 0.608\n",
      " Average Recall     (AR) @[ IoU=0.50:0.95 | area=   all | maxDets= 10 ] = 0.679\n",
      " Average Recall     (AR) @[ IoU=0.50:0.95 | area=   all | maxDets=100 ] = 0.679\n",
      " Average Recall     (AR) @[ IoU=0.50:0.95 | area= small | maxDets=100 ] = 0.728\n",
      " Average Recall     (AR) @[ IoU=0.50:0.95 | area=medium | maxDets=100 ] = 0.631\n",
      " Average Recall     (AR) @[ IoU=0.50:0.95 | area= large | maxDets=100 ] = 0.750\n"
     ]
    }
   ],
   "execution_count": 10
  },
  {
   "metadata": {},
   "cell_type": "markdown",
   "source": "### +2 Untransformed Galaxies (Baseline, Dataset Balancing)",
   "id": "80007d0693eae7d1"
  },
  {
   "metadata": {},
   "cell_type": "code",
   "source": [
    "%%bash\n",
    "(yolo task=segment mode=train model=yolov8l-seg.pt \\\n",
    "data=\"/mnt/data/rgn_ijcnn/yolo/yolo_2_untransformed_galaxies/datasets/data.yaml\" \\\n",
    "epochs=150 batch=32 \\\n",
    "hsv_h=0 hsv_s=0 hsv_v=0 mosaic=0 \\\n",
    "fliplr=0 patience=25)"
   ],
   "id": "41a0764d8a061a7",
   "outputs": [],
   "execution_count": null
  },
  {
   "metadata": {},
   "cell_type": "markdown",
   "source": [
    "Results saved to runs/segment/train24\n",
    "\n",
    "                   all        410        605      0.753      0.698      0.758      0.739      0.757      0.703      0.766      0.643\n",
    "                 FR-II        221        267      0.767      0.816      0.825      0.802      0.785      0.835      0.857      0.725\n",
    "                  FR-I         78         83      0.731      0.602      0.724      0.709      0.731      0.602      0.724      0.622\n",
    "                  FR-X         82         84      0.679      0.619      0.655      0.634      0.679      0.619      0.655      0.536\n",
    "                     R        154        171      0.834      0.754      0.829       0.81      0.834      0.754      0.829      0.691"
   ],
   "id": "d5eebbe58625ca1c"
  },
  {
   "metadata": {},
   "cell_type": "markdown",
   "source": "### Validation Set",
   "id": "83c4905175e81971"
  },
  {
   "metadata": {
    "ExecuteTime": {
     "end_time": "2025-01-29T09:14:49.390195Z",
     "start_time": "2025-01-29T09:14:41.011371Z"
    }
   },
   "cell_type": "code",
   "source": "!yolo task=segment mode=val model=runs/segment/train24/weights/best.pt retina_masks=True conf=0.5 data=\"/mnt/data/rgn_ijcnn/yolo/yolo_cleaned/datasets/data.yaml\" save_json=True",
   "id": "636ed574f81d9391",
   "outputs": [
    {
     "name": "stdout",
     "output_type": "stream",
     "text": [
      "Ultralytics 8.3.68 🚀 Python-3.12.8 torch-2.5.1+cu118 CUDA:0 (NVIDIA GeForce RTX 4090, 24209MiB)\r\n",
      "YOLOv8l-seg summary (fused): 295 layers, 45,914,972 parameters, 0 gradients, 220.1 GFLOPs\r\n",
      "\u001B[34m\u001B[1mval: \u001B[0mScanning /mnt/data/rgn_ijcnn/yolo/yolo_cleaned/datasets/labels/val.cache...\u001B[0m\r\n",
      "                 Class     Images  Instances      Box(P          R      mAP50  m\r\n",
      "                   all        410        605      0.752      0.698       0.74      0.726      0.757      0.703      0.747      0.606\r\n",
      "                 FR-II        221        267      0.765      0.818      0.807      0.788      0.783      0.836      0.835      0.669\r\n",
      "                  FR-I         78         83       0.73      0.602      0.692      0.683       0.73      0.602      0.692      0.586\r\n",
      "                  FR-X         82         84      0.679      0.619       0.65      0.638      0.679      0.619       0.65      0.524\r\n",
      "                     R        154        171      0.834      0.754       0.81      0.795      0.834      0.754       0.81      0.645\r\n",
      "Speed: 0.3ms preprocess, 5.9ms inference, 0.0ms loss, 0.3ms postprocess per image\r\n",
      "Saving runs/segment/val18/predictions.json...\r\n",
      "Results saved to \u001B[1mruns/segment/val18\u001B[0m\r\n",
      "💡 Learn more at https://docs.ultralytics.com/modes/val\r\n"
     ]
    }
   ],
   "execution_count": 11
  },
  {
   "metadata": {
    "ExecuteTime": {
     "end_time": "2025-01-29T09:14:55.688730Z",
     "start_time": "2025-01-29T09:14:55.549638Z"
    }
   },
   "cell_type": "code",
   "source": "coco_evaluate(\"/mnt/data/rgn_ijcnn/cleaned/annotations/val.json\", \"runs/segment/val18\")",
   "id": "41dc72a9392f4dc0",
   "outputs": [
    {
     "name": "stdout",
     "output_type": "stream",
     "text": [
      "loading annotations into memory...\n",
      "Done (t=0.01s)\n",
      "creating index...\n",
      "index created!\n",
      "Loading and preparing results...\n",
      "DONE (t=0.00s)\n",
      "creating index...\n",
      "index created!\n",
      "Running per image evaluation...\n",
      "Evaluate annotation type *bbox*\n",
      "DONE (t=0.04s).\n",
      "Accumulating evaluation results...\n",
      "DONE (t=0.02s).\n",
      " Average Precision  (AP) @[ IoU=0.50:0.95 | area=   all | maxDets=100 ] = 0.615\n",
      " Average Precision  (AP) @[ IoU=0.50      | area=   all | maxDets=100 ] = 0.632\n",
      " Average Precision  (AP) @[ IoU=0.75      | area=   all | maxDets=100 ] = 0.624\n",
      " Average Precision  (AP) @[ IoU=0.50:0.95 | area= small | maxDets=100 ] = 0.560\n",
      " Average Precision  (AP) @[ IoU=0.50:0.95 | area=medium | maxDets=100 ] = 0.618\n",
      " Average Precision  (AP) @[ IoU=0.50:0.95 | area= large | maxDets=100 ] = 0.536\n",
      " Average Recall     (AR) @[ IoU=0.50:0.95 | area=   all | maxDets=  1 ] = 0.613\n",
      " Average Recall     (AR) @[ IoU=0.50:0.95 | area=   all | maxDets= 10 ] = 0.691\n",
      " Average Recall     (AR) @[ IoU=0.50:0.95 | area=   all | maxDets=100 ] = 0.691\n",
      " Average Recall     (AR) @[ IoU=0.50:0.95 | area= small | maxDets=100 ] = 0.658\n",
      " Average Recall     (AR) @[ IoU=0.50:0.95 | area=medium | maxDets=100 ] = 0.691\n",
      " Average Recall     (AR) @[ IoU=0.50:0.95 | area= large | maxDets=100 ] = 0.576\n",
      "Running per image evaluation...\n",
      "Evaluate annotation type *segm*\n",
      "DONE (t=0.04s).\n",
      "Accumulating evaluation results...\n",
      "DONE (t=0.02s).\n",
      " Average Precision  (AP) @[ IoU=0.50:0.95 | area=   all | maxDets=100 ] = 0.547\n",
      " Average Precision  (AP) @[ IoU=0.50      | area=   all | maxDets=100 ] = 0.640\n",
      " Average Precision  (AP) @[ IoU=0.75      | area=   all | maxDets=100 ] = 0.626\n",
      " Average Precision  (AP) @[ IoU=0.50:0.95 | area= small | maxDets=100 ] = 0.494\n",
      " Average Precision  (AP) @[ IoU=0.50:0.95 | area=medium | maxDets=100 ] = 0.553\n",
      " Average Precision  (AP) @[ IoU=0.50:0.95 | area= large | maxDets=100 ] = 0.457\n",
      " Average Recall     (AR) @[ IoU=0.50:0.95 | area=   all | maxDets=  1 ] = 0.552\n",
      " Average Recall     (AR) @[ IoU=0.50:0.95 | area=   all | maxDets= 10 ] = 0.622\n",
      " Average Recall     (AR) @[ IoU=0.50:0.95 | area=   all | maxDets=100 ] = 0.622\n",
      " Average Recall     (AR) @[ IoU=0.50:0.95 | area= small | maxDets=100 ] = 0.583\n",
      " Average Recall     (AR) @[ IoU=0.50:0.95 | area=medium | maxDets=100 ] = 0.625\n",
      " Average Recall     (AR) @[ IoU=0.50:0.95 | area= large | maxDets=100 ] = 0.501\n"
     ]
    }
   ],
   "execution_count": 12
  },
  {
   "metadata": {},
   "cell_type": "markdown",
   "source": "### Test Set",
   "id": "aa3db62765bc1842"
  },
  {
   "metadata": {
    "ExecuteTime": {
     "end_time": "2025-01-29T09:15:28.148472Z",
     "start_time": "2025-01-29T09:15:20.119173Z"
    }
   },
   "cell_type": "code",
   "source": "!yolo task=segment mode=val model=runs/segment/train24/weights/best.pt retina_masks=True conf=0.5 data=\"/mnt/data/rgn_ijcnn/yolo/yolo_test/datasets/data.yaml\" save_json=True",
   "id": "16db53c76aed4b2c",
   "outputs": [
    {
     "name": "stdout",
     "output_type": "stream",
     "text": [
      "Ultralytics 8.3.68 🚀 Python-3.12.8 torch-2.5.1+cu118 CUDA:0 (NVIDIA GeForce RTX 4090, 24209MiB)\r\n",
      "YOLOv8l-seg summary (fused): 295 layers, 45,914,972 parameters, 0 gradients, 220.1 GFLOPs\r\n",
      "\u001B[34m\u001B[1mval: \u001B[0mScanning /mnt/data/rgn_ijcnn/yolo/yolo_test/datasets/labels/val.cache... 41\u001B[0m\r\n",
      "                 Class     Images  Instances      Box(P          R      mAP50  m\r\n",
      "                   all        411        593      0.745       0.69      0.708      0.698      0.749      0.695      0.711      0.579\r\n",
      "                 FR-II        225        277      0.764       0.83        0.8      0.788      0.781      0.848      0.813      0.654\r\n",
      "                  FR-I         83         90      0.779      0.678      0.719      0.706      0.779      0.678      0.719      0.593\r\n",
      "                  FR-X         81         86      0.667      0.547      0.596       0.59      0.667      0.547      0.596      0.495\r\n",
      "                     R        124        140       0.77      0.707      0.717       0.71       0.77      0.707      0.717      0.574\r\n",
      "Speed: 0.3ms preprocess, 5.7ms inference, 0.0ms loss, 0.3ms postprocess per image\r\n",
      "Saving runs/segment/val19/predictions.json...\r\n",
      "Results saved to \u001B[1mruns/segment/val19\u001B[0m\r\n",
      "💡 Learn more at https://docs.ultralytics.com/modes/val\r\n"
     ]
    }
   ],
   "execution_count": 13
  },
  {
   "metadata": {
    "ExecuteTime": {
     "end_time": "2025-01-29T19:31:17.786142Z",
     "start_time": "2025-01-29T19:31:17.523014Z"
    }
   },
   "cell_type": "code",
   "source": "coco_evaluate(\"/mnt/data/rgn_ijcnn/cleaned/annotations/test.json\", \"runs/segment/val19\", per_cat=True)",
   "id": "1609b516a0845270",
   "outputs": [
    {
     "name": "stdout",
     "output_type": "stream",
     "text": [
      "loading annotations into memory...\n",
      "Done (t=0.00s)\n",
      "creating index...\n",
      "index created!\n",
      "Loading and preparing results...\n",
      "DONE (t=0.00s)\n",
      "creating index...\n",
      "index created!\n",
      "Running per image evaluation...\n",
      "Evaluate annotation type *bbox*\n",
      "DONE (t=0.04s).\n",
      "Accumulating evaluation results...\n",
      "DONE (t=0.02s).\n",
      " Average Precision  (AP) @[ IoU=0.50:0.95 | area=   all | maxDets=100 ] = 0.588\n",
      " Average Precision  (AP) @[ IoU=0.50      | area=   all | maxDets=100 ] = 0.600\n",
      " Average Precision  (AP) @[ IoU=0.75      | area=   all | maxDets=100 ] = 0.598\n",
      " Average Precision  (AP) @[ IoU=0.50:0.95 | area= small | maxDets=100 ] = 0.501\n",
      " Average Precision  (AP) @[ IoU=0.50:0.95 | area=medium | maxDets=100 ] = 0.617\n",
      " Average Precision  (AP) @[ IoU=0.50:0.95 | area= large | maxDets=100 ] = 0.647\n",
      " Average Recall     (AR) @[ IoU=0.50:0.95 | area=   all | maxDets=  1 ] = 0.604\n",
      " Average Recall     (AR) @[ IoU=0.50:0.95 | area=   all | maxDets= 10 ] = 0.689\n",
      " Average Recall     (AR) @[ IoU=0.50:0.95 | area=   all | maxDets=100 ] = 0.689\n",
      " Average Recall     (AR) @[ IoU=0.50:0.95 | area= small | maxDets=100 ] = 0.580\n",
      " Average Recall     (AR) @[ IoU=0.50:0.95 | area=medium | maxDets=100 ] = 0.709\n",
      " Average Recall     (AR) @[ IoU=0.50:0.95 | area= large | maxDets=100 ] = 0.674\n",
      "Running per image evaluation...\n",
      "Evaluate annotation type *segm*\n",
      "DONE (t=0.05s).\n",
      "Accumulating evaluation results...\n",
      "DONE (t=0.02s).\n",
      " Average Precision  (AP) @[ IoU=0.50:0.95 | area=   all | maxDets=100 ] = 0.520\n",
      " Average Precision  (AP) @[ IoU=0.50      | area=   all | maxDets=100 ] = 0.605\n",
      " Average Precision  (AP) @[ IoU=0.75      | area=   all | maxDets=100 ] = 0.598\n",
      " Average Precision  (AP) @[ IoU=0.50:0.95 | area= small | maxDets=100 ] = 0.441\n",
      " Average Precision  (AP) @[ IoU=0.50:0.95 | area=medium | maxDets=100 ] = 0.548\n",
      " Average Precision  (AP) @[ IoU=0.50:0.95 | area= large | maxDets=100 ] = 0.562\n",
      " Average Recall     (AR) @[ IoU=0.50:0.95 | area=   all | maxDets=  1 ] = 0.542\n",
      " Average Recall     (AR) @[ IoU=0.50:0.95 | area=   all | maxDets= 10 ] = 0.618\n",
      " Average Recall     (AR) @[ IoU=0.50:0.95 | area=   all | maxDets=100 ] = 0.618\n",
      " Average Recall     (AR) @[ IoU=0.50:0.95 | area= small | maxDets=100 ] = 0.512\n",
      " Average Recall     (AR) @[ IoU=0.50:0.95 | area=medium | maxDets=100 ] = 0.638\n",
      " Average Recall     (AR) @[ IoU=0.50:0.95 | area= large | maxDets=100 ] = 0.593\n",
      "Results for FR-II\n",
      "Running per image evaluation...\n",
      "Evaluate annotation type *bbox*\n",
      "DONE (t=0.02s).\n",
      "Accumulating evaluation results...\n",
      "DONE (t=0.01s).\n",
      " Average Precision  (AP) @[ IoU=0.50:0.95 | area=   all | maxDets=100 ] = 0.727\n",
      " Average Precision  (AP) @[ IoU=0.50      | area=   all | maxDets=100 ] = 0.745\n",
      " Average Precision  (AP) @[ IoU=0.75      | area=   all | maxDets=100 ] = 0.734\n",
      " Average Precision  (AP) @[ IoU=0.50:0.95 | area= small | maxDets=100 ] = 0.481\n",
      " Average Precision  (AP) @[ IoU=0.50:0.95 | area=medium | maxDets=100 ] = 0.761\n",
      " Average Precision  (AP) @[ IoU=0.50:0.95 | area= large | maxDets=100 ] = 0.756\n",
      " Average Recall     (AR) @[ IoU=0.50:0.95 | area=   all | maxDets=  1 ] = 0.683\n",
      " Average Recall     (AR) @[ IoU=0.50:0.95 | area=   all | maxDets= 10 ] = 0.836\n",
      " Average Recall     (AR) @[ IoU=0.50:0.95 | area=   all | maxDets=100 ] = 0.836\n",
      " Average Recall     (AR) @[ IoU=0.50:0.95 | area= small | maxDets=100 ] = 0.552\n",
      " Average Recall     (AR) @[ IoU=0.50:0.95 | area=medium | maxDets=100 ] = 0.861\n",
      " Average Recall     (AR) @[ IoU=0.50:0.95 | area= large | maxDets=100 ] = 0.863\n",
      "Results for FR-II\n",
      "Running per image evaluation...\n",
      "Evaluate annotation type *segm*\n",
      "DONE (t=0.02s).\n",
      "Accumulating evaluation results...\n",
      "DONE (t=0.01s).\n",
      " Average Precision  (AP) @[ IoU=0.50:0.95 | area=   all | maxDets=100 ] = 0.638\n",
      " Average Precision  (AP) @[ IoU=0.50      | area=   all | maxDets=100 ] = 0.765\n",
      " Average Precision  (AP) @[ IoU=0.75      | area=   all | maxDets=100 ] = 0.738\n",
      " Average Precision  (AP) @[ IoU=0.50:0.95 | area= small | maxDets=100 ] = 0.408\n",
      " Average Precision  (AP) @[ IoU=0.50:0.95 | area=medium | maxDets=100 ] = 0.669\n",
      " Average Precision  (AP) @[ IoU=0.50:0.95 | area= large | maxDets=100 ] = 0.677\n",
      " Average Recall     (AR) @[ IoU=0.50:0.95 | area=   all | maxDets=  1 ] = 0.611\n",
      " Average Recall     (AR) @[ IoU=0.50:0.95 | area=   all | maxDets= 10 ] = 0.743\n",
      " Average Recall     (AR) @[ IoU=0.50:0.95 | area=   all | maxDets=100 ] = 0.743\n",
      " Average Recall     (AR) @[ IoU=0.50:0.95 | area= small | maxDets=100 ] = 0.468\n",
      " Average Recall     (AR) @[ IoU=0.50:0.95 | area=medium | maxDets=100 ] = 0.765\n",
      " Average Recall     (AR) @[ IoU=0.50:0.95 | area= large | maxDets=100 ] = 0.774\n",
      "Results for FR-I\n",
      "Running per image evaluation...\n",
      "Evaluate annotation type *bbox*\n",
      "DONE (t=0.01s).\n",
      "Accumulating evaluation results...\n",
      "DONE (t=0.00s).\n",
      " Average Precision  (AP) @[ IoU=0.50:0.95 | area=   all | maxDets=100 ] = 0.581\n",
      " Average Precision  (AP) @[ IoU=0.50      | area=   all | maxDets=100 ] = 0.596\n",
      " Average Precision  (AP) @[ IoU=0.75      | area=   all | maxDets=100 ] = 0.596\n",
      " Average Precision  (AP) @[ IoU=0.50:0.95 | area= small | maxDets=100 ] = 0.488\n",
      " Average Precision  (AP) @[ IoU=0.50:0.95 | area=medium | maxDets=100 ] = 0.610\n",
      " Average Precision  (AP) @[ IoU=0.50:0.95 | area= large | maxDets=100 ] = 0.663\n",
      " Average Recall     (AR) @[ IoU=0.50:0.95 | area=   all | maxDets=  1 ] = 0.603\n",
      " Average Recall     (AR) @[ IoU=0.50:0.95 | area=   all | maxDets= 10 ] = 0.678\n",
      " Average Recall     (AR) @[ IoU=0.50:0.95 | area=   all | maxDets=100 ] = 0.678\n",
      " Average Recall     (AR) @[ IoU=0.50:0.95 | area= small | maxDets=100 ] = 0.585\n",
      " Average Recall     (AR) @[ IoU=0.50:0.95 | area=medium | maxDets=100 ] = 0.708\n",
      " Average Recall     (AR) @[ IoU=0.50:0.95 | area= large | maxDets=100 ] = 0.667\n",
      "Results for FR-I\n",
      "Running per image evaluation...\n",
      "Evaluate annotation type *segm*\n",
      "DONE (t=0.01s).\n",
      "Accumulating evaluation results...\n",
      "DONE (t=0.00s).\n",
      " Average Precision  (AP) @[ IoU=0.50:0.95 | area=   all | maxDets=100 ] = 0.521\n",
      " Average Precision  (AP) @[ IoU=0.50      | area=   all | maxDets=100 ] = 0.596\n",
      " Average Precision  (AP) @[ IoU=0.75      | area=   all | maxDets=100 ] = 0.596\n",
      " Average Precision  (AP) @[ IoU=0.50:0.95 | area= small | maxDets=100 ] = 0.444\n",
      " Average Precision  (AP) @[ IoU=0.50:0.95 | area=medium | maxDets=100 ] = 0.556\n",
      " Average Precision  (AP) @[ IoU=0.50:0.95 | area= large | maxDets=100 ] = 0.519\n",
      " Average Recall     (AR) @[ IoU=0.50:0.95 | area=   all | maxDets=  1 ] = 0.546\n",
      " Average Recall     (AR) @[ IoU=0.50:0.95 | area=   all | maxDets= 10 ] = 0.614\n",
      " Average Recall     (AR) @[ IoU=0.50:0.95 | area=   all | maxDets=100 ] = 0.614\n",
      " Average Recall     (AR) @[ IoU=0.50:0.95 | area= small | maxDets=100 ] = 0.525\n",
      " Average Recall     (AR) @[ IoU=0.50:0.95 | area=medium | maxDets=100 ] = 0.648\n",
      " Average Recall     (AR) @[ IoU=0.50:0.95 | area= large | maxDets=100 ] = 0.550\n",
      "Results for FR-X\n",
      "Running per image evaluation...\n",
      "Evaluate annotation type *bbox*\n",
      "DONE (t=0.01s).\n",
      "Accumulating evaluation results...\n",
      "DONE (t=0.00s).\n",
      " Average Precision  (AP) @[ IoU=0.50:0.95 | area=   all | maxDets=100 ] = 0.445\n",
      " Average Precision  (AP) @[ IoU=0.50      | area=   all | maxDets=100 ] = 0.452\n",
      " Average Precision  (AP) @[ IoU=0.75      | area=   all | maxDets=100 ] = 0.452\n",
      " Average Precision  (AP) @[ IoU=0.50:0.95 | area= small | maxDets=100 ] = 0.400\n",
      " Average Precision  (AP) @[ IoU=0.50:0.95 | area=medium | maxDets=100 ] = 0.508\n",
      " Average Precision  (AP) @[ IoU=0.50:0.95 | area= large | maxDets=100 ] = 0.663\n",
      " Average Recall     (AR) @[ IoU=0.50:0.95 | area=   all | maxDets=  1 ] = 0.493\n",
      " Average Recall     (AR) @[ IoU=0.50:0.95 | area=   all | maxDets= 10 ] = 0.538\n",
      " Average Recall     (AR) @[ IoU=0.50:0.95 | area=   all | maxDets=100 ] = 0.538\n",
      " Average Recall     (AR) @[ IoU=0.50:0.95 | area= small | maxDets=100 ] = 0.434\n",
      " Average Recall     (AR) @[ IoU=0.50:0.95 | area=medium | maxDets=100 ] = 0.595\n",
      " Average Recall     (AR) @[ IoU=0.50:0.95 | area= large | maxDets=100 ] = 0.667\n",
      "Results for FR-X\n",
      "Running per image evaluation...\n",
      "Evaluate annotation type *segm*\n",
      "DONE (t=0.01s).\n",
      "Accumulating evaluation results...\n",
      "DONE (t=0.00s).\n",
      " Average Precision  (AP) @[ IoU=0.50:0.95 | area=   all | maxDets=100 ] = 0.398\n",
      " Average Precision  (AP) @[ IoU=0.50      | area=   all | maxDets=100 ] = 0.452\n",
      " Average Precision  (AP) @[ IoU=0.75      | area=   all | maxDets=100 ] = 0.452\n",
      " Average Precision  (AP) @[ IoU=0.50:0.95 | area= small | maxDets=100 ] = 0.359\n",
      " Average Precision  (AP) @[ IoU=0.50:0.95 | area=medium | maxDets=100 ] = 0.454\n",
      " Average Precision  (AP) @[ IoU=0.50:0.95 | area= large | maxDets=100 ] = 0.597\n",
      " Average Recall     (AR) @[ IoU=0.50:0.95 | area=   all | maxDets=  1 ] = 0.450\n",
      " Average Recall     (AR) @[ IoU=0.50:0.95 | area=   all | maxDets= 10 ] = 0.492\n",
      " Average Recall     (AR) @[ IoU=0.50:0.95 | area=   all | maxDets=100 ] = 0.492\n",
      " Average Recall     (AR) @[ IoU=0.50:0.95 | area= small | maxDets=100 ] = 0.393\n",
      " Average Recall     (AR) @[ IoU=0.50:0.95 | area=medium | maxDets=100 ] = 0.545\n",
      " Average Recall     (AR) @[ IoU=0.50:0.95 | area= large | maxDets=100 ] = 0.600\n",
      "Results for R\n",
      "Running per image evaluation...\n",
      "Evaluate annotation type *bbox*\n",
      "DONE (t=0.01s).\n",
      "Accumulating evaluation results...\n",
      "DONE (t=0.00s).\n",
      " Average Precision  (AP) @[ IoU=0.50:0.95 | area=   all | maxDets=100 ] = 0.599\n",
      " Average Precision  (AP) @[ IoU=0.50      | area=   all | maxDets=100 ] = 0.608\n",
      " Average Precision  (AP) @[ IoU=0.75      | area=   all | maxDets=100 ] = 0.608\n",
      " Average Precision  (AP) @[ IoU=0.50:0.95 | area= small | maxDets=100 ] = 0.635\n",
      " Average Precision  (AP) @[ IoU=0.50:0.95 | area=medium | maxDets=100 ] = 0.590\n",
      " Average Precision  (AP) @[ IoU=0.50:0.95 | area= large | maxDets=100 ] = 0.505\n",
      " Average Recall     (AR) @[ IoU=0.50:0.95 | area=   all | maxDets=  1 ] = 0.637\n",
      " Average Recall     (AR) @[ IoU=0.50:0.95 | area=   all | maxDets= 10 ] = 0.706\n",
      " Average Recall     (AR) @[ IoU=0.50:0.95 | area=   all | maxDets=100 ] = 0.706\n",
      " Average Recall     (AR) @[ IoU=0.50:0.95 | area= small | maxDets=100 ] = 0.748\n",
      " Average Recall     (AR) @[ IoU=0.50:0.95 | area=medium | maxDets=100 ] = 0.672\n",
      " Average Recall     (AR) @[ IoU=0.50:0.95 | area= large | maxDets=100 ] = 0.500\n",
      "Results for R\n",
      "Running per image evaluation...\n",
      "Evaluate annotation type *segm*\n",
      "DONE (t=0.01s).\n",
      "Accumulating evaluation results...\n",
      "DONE (t=0.00s).\n",
      " Average Precision  (AP) @[ IoU=0.50:0.95 | area=   all | maxDets=100 ] = 0.521\n",
      " Average Precision  (AP) @[ IoU=0.50      | area=   all | maxDets=100 ] = 0.608\n",
      " Average Precision  (AP) @[ IoU=0.75      | area=   all | maxDets=100 ] = 0.608\n",
      " Average Precision  (AP) @[ IoU=0.50:0.95 | area= small | maxDets=100 ] = 0.553\n",
      " Average Precision  (AP) @[ IoU=0.50:0.95 | area=medium | maxDets=100 ] = 0.513\n",
      " Average Precision  (AP) @[ IoU=0.50:0.95 | area= large | maxDets=100 ] = 0.454\n",
      " Average Recall     (AR) @[ IoU=0.50:0.95 | area=   all | maxDets=  1 ] = 0.561\n",
      " Average Recall     (AR) @[ IoU=0.50:0.95 | area=   all | maxDets= 10 ] = 0.624\n",
      " Average Recall     (AR) @[ IoU=0.50:0.95 | area=   all | maxDets=100 ] = 0.624\n",
      " Average Recall     (AR) @[ IoU=0.50:0.95 | area= small | maxDets=100 ] = 0.663\n",
      " Average Recall     (AR) @[ IoU=0.50:0.95 | area=medium | maxDets=100 ] = 0.593\n",
      " Average Recall     (AR) @[ IoU=0.50:0.95 | area= large | maxDets=100 ] = 0.450\n"
     ]
    }
   ],
   "execution_count": 11
  },
  {
   "metadata": {},
   "cell_type": "markdown",
   "source": "### +2 VAE Galaxies",
   "id": "6c8283e223b74e6c"
  },
  {
   "metadata": {},
   "cell_type": "code",
   "source": [
    "%%bash\n",
    "(yolo task=segment mode=train model=yolov8l-seg.pt \\\n",
    "data=\"/mnt/data/rgn_ijcnn/yolo/yolo_2_vae_galaxies/datasets/data.yaml\" \\\n",
    "epochs=150 batch=32 \\\n",
    "hsv_h=0 hsv_s=0 hsv_v=0 mosaic=0 \\\n",
    "fliplr=0 patience=25)"
   ],
   "id": "3d9d7f1d40dfc1c4",
   "outputs": [],
   "execution_count": null
  },
  {
   "metadata": {},
   "cell_type": "markdown",
   "source": [
    "Results saved to runs/segment/train30\n",
    "\n",
    "                   all        410        605      0.725      0.681       0.74      0.718      0.728      0.684      0.744      0.618\n",
    "                 FR-II        221        267      0.729      0.783      0.806      0.782      0.743      0.798      0.824      0.695\n",
    "                  FR-I         78         83       0.75      0.602      0.723      0.708       0.75      0.602      0.723      0.605\n",
    "                  FR-X         82         84       0.66      0.577      0.646      0.623       0.66      0.577      0.646       0.53\n",
    "                     R        154        171       0.76       0.76      0.783      0.758       0.76       0.76      0.783      0.643\n"
   ],
   "id": "56dcf586573cebe1"
  },
  {
   "metadata": {},
   "cell_type": "markdown",
   "source": "### Validation Set",
   "id": "88e9f61f735a8aa5"
  },
  {
   "metadata": {
    "ExecuteTime": {
     "end_time": "2025-01-30T01:21:40.479304Z",
     "start_time": "2025-01-30T01:21:31.963055Z"
    }
   },
   "cell_type": "code",
   "source": "!yolo task=segment mode=val model=runs/segment/train30/weights/best.pt retina_masks=True conf=0.5 data=\"/mnt/data/rgn_ijcnn/yolo/yolo_cleaned/datasets/data.yaml\" save_json=True",
   "id": "b44c590c0290dbe2",
   "outputs": [
    {
     "name": "stdout",
     "output_type": "stream",
     "text": [
      "Ultralytics 8.3.68 🚀 Python-3.12.8 torch-2.5.1+cu118 CUDA:0 (NVIDIA GeForce RTX 4090, 24209MiB)\r\n",
      "YOLOv8l-seg summary (fused): 295 layers, 45,914,972 parameters, 0 gradients, 220.1 GFLOPs\r\n",
      "\u001B[34m\u001B[1mval: \u001B[0mScanning /mnt/data/rgn_ijcnn/yolo/yolo_cleaned/datasets/labels/val.cache...\u001B[0m\r\n",
      "                 Class     Images  Instances      Box(P          R      mAP50  m\r\n",
      "                   all        410        605      0.739      0.665      0.716        0.7      0.743      0.669       0.72      0.587\r\n",
      "                 FR-II        221        267      0.746      0.779      0.789       0.77       0.76      0.794      0.804      0.652\r\n",
      "                  FR-I         78         83      0.766       0.59      0.727      0.722      0.766       0.59      0.727      0.619\r\n",
      "                  FR-X         82         84      0.676      0.548      0.609      0.589      0.676      0.548      0.609      0.491\r\n",
      "                     R        154        171       0.77      0.743      0.741       0.72       0.77      0.743      0.741      0.585\r\n",
      "Speed: 0.2ms preprocess, 5.8ms inference, 0.0ms loss, 0.3ms postprocess per image\r\n",
      "Saving runs/segment/val23/predictions.json...\r\n",
      "Results saved to \u001B[1mruns/segment/val23\u001B[0m\r\n",
      "💡 Learn more at https://docs.ultralytics.com/modes/val\r\n"
     ]
    }
   ],
   "execution_count": 4
  },
  {
   "metadata": {
    "ExecuteTime": {
     "end_time": "2025-01-30T01:21:47.287546Z",
     "start_time": "2025-01-30T01:21:47.080858Z"
    }
   },
   "cell_type": "code",
   "source": "coco_evaluate(\"/mnt/data/rgn_ijcnn/cleaned/annotations/val.json\", \"runs/segment/val23\")",
   "id": "6b2d0599fe1360c",
   "outputs": [
    {
     "name": "stdout",
     "output_type": "stream",
     "text": [
      "loading annotations into memory...\n",
      "Done (t=0.02s)\n",
      "creating index...\n",
      "index created!\n",
      "Loading and preparing results...\n",
      "DONE (t=0.00s)\n",
      "creating index...\n",
      "index created!\n",
      "Running per image evaluation...\n",
      "Evaluate annotation type *bbox*\n",
      "DONE (t=0.04s).\n",
      "Accumulating evaluation results...\n",
      "DONE (t=0.02s).\n",
      " Average Precision  (AP) @[ IoU=0.50:0.95 | area=   all | maxDets=100 ] = 0.575\n",
      " Average Precision  (AP) @[ IoU=0.50      | area=   all | maxDets=100 ] = 0.593\n",
      " Average Precision  (AP) @[ IoU=0.75      | area=   all | maxDets=100 ] = 0.587\n",
      " Average Precision  (AP) @[ IoU=0.50:0.95 | area= small | maxDets=100 ] = 0.460\n",
      " Average Precision  (AP) @[ IoU=0.50:0.95 | area=medium | maxDets=100 ] = 0.616\n",
      " Average Precision  (AP) @[ IoU=0.50:0.95 | area= large | maxDets=100 ] = 0.416\n",
      " Average Recall     (AR) @[ IoU=0.50:0.95 | area=   all | maxDets=  1 ] = 0.579\n",
      " Average Recall     (AR) @[ IoU=0.50:0.95 | area=   all | maxDets= 10 ] = 0.651\n",
      " Average Recall     (AR) @[ IoU=0.50:0.95 | area=   all | maxDets=100 ] = 0.651\n",
      " Average Recall     (AR) @[ IoU=0.50:0.95 | area= small | maxDets=100 ] = 0.544\n",
      " Average Recall     (AR) @[ IoU=0.50:0.95 | area=medium | maxDets=100 ] = 0.686\n",
      " Average Recall     (AR) @[ IoU=0.50:0.95 | area= large | maxDets=100 ] = 0.463\n",
      "Running per image evaluation...\n",
      "Evaluate annotation type *segm*\n",
      "DONE (t=0.10s).\n",
      "Accumulating evaluation results...\n",
      "DONE (t=0.02s).\n",
      " Average Precision  (AP) @[ IoU=0.50:0.95 | area=   all | maxDets=100 ] = 0.509\n",
      " Average Precision  (AP) @[ IoU=0.50      | area=   all | maxDets=100 ] = 0.598\n",
      " Average Precision  (AP) @[ IoU=0.75      | area=   all | maxDets=100 ] = 0.590\n",
      " Average Precision  (AP) @[ IoU=0.50:0.95 | area= small | maxDets=100 ] = 0.404\n",
      " Average Precision  (AP) @[ IoU=0.50:0.95 | area=medium | maxDets=100 ] = 0.546\n",
      " Average Precision  (AP) @[ IoU=0.50:0.95 | area= large | maxDets=100 ] = 0.362\n",
      " Average Recall     (AR) @[ IoU=0.50:0.95 | area=   all | maxDets=  1 ] = 0.517\n",
      " Average Recall     (AR) @[ IoU=0.50:0.95 | area=   all | maxDets= 10 ] = 0.581\n",
      " Average Recall     (AR) @[ IoU=0.50:0.95 | area=   all | maxDets=100 ] = 0.581\n",
      " Average Recall     (AR) @[ IoU=0.50:0.95 | area= small | maxDets=100 ] = 0.480\n",
      " Average Recall     (AR) @[ IoU=0.50:0.95 | area=medium | maxDets=100 ] = 0.613\n",
      " Average Recall     (AR) @[ IoU=0.50:0.95 | area= large | maxDets=100 ] = 0.403\n"
     ]
    }
   ],
   "execution_count": 5
  },
  {
   "metadata": {},
   "cell_type": "markdown",
   "source": "### Test Set",
   "id": "ea5ae2e2b18e1b94"
  },
  {
   "metadata": {
    "ExecuteTime": {
     "end_time": "2025-01-30T01:22:04.916578Z",
     "start_time": "2025-01-30T01:21:53.268680Z"
    }
   },
   "cell_type": "code",
   "source": "!yolo task=segment mode=val model=runs/segment/train30/weights/best.pt retina_masks=True conf=0.5 data=\"/mnt/data/rgn_ijcnn/yolo/yolo_test/datasets/data.yaml\" save_json=True",
   "id": "6f8bfbdd0a5d7562",
   "outputs": [
    {
     "name": "stdout",
     "output_type": "stream",
     "text": [
      "Ultralytics 8.3.68 🚀 Python-3.12.8 torch-2.5.1+cu118 CUDA:0 (NVIDIA GeForce RTX 4090, 24209MiB)\r\n",
      "YOLOv8l-seg summary (fused): 295 layers, 45,914,972 parameters, 0 gradients, 220.1 GFLOPs\r\n",
      "\u001B[34m\u001B[1mval: \u001B[0mScanning /mnt/data/rgn_ijcnn/yolo/yolo_test/datasets/labels/val.cache... 41\u001B[0m\r\n",
      "                 Class     Images  Instances      Box(P          R      mAP50  m\r\n",
      "                   all        411        593      0.724       0.69      0.727      0.716      0.724      0.691      0.728      0.595\r\n",
      "                 FR-II        225        277      0.787      0.851      0.836      0.815       0.79      0.855      0.839      0.681\r\n",
      "                  FR-I         83         90      0.818      0.656      0.747      0.745      0.818      0.656      0.747      0.627\r\n",
      "                  FR-X         81         86      0.598      0.547      0.589       0.58      0.598      0.547      0.589      0.484\r\n",
      "                     R        124        140      0.693      0.707      0.736      0.725      0.693      0.707      0.736      0.585\r\n",
      "Speed: 0.7ms preprocess, 6.2ms inference, 0.0ms loss, 2.0ms postprocess per image\r\n",
      "Saving runs/segment/val24/predictions.json...\r\n",
      "Results saved to \u001B[1mruns/segment/val24\u001B[0m\r\n",
      "💡 Learn more at https://docs.ultralytics.com/modes/val\r\n"
     ]
    }
   ],
   "execution_count": 6
  },
  {
   "metadata": {
    "ExecuteTime": {
     "end_time": "2025-01-30T01:22:10.601767Z",
     "start_time": "2025-01-30T01:22:10.443532Z"
    }
   },
   "cell_type": "code",
   "source": "coco_evaluate(\"/mnt/data/rgn_ijcnn/cleaned/annotations/test.json\", \"runs/segment/val24\")",
   "id": "c99c05cda3b9b41",
   "outputs": [
    {
     "name": "stdout",
     "output_type": "stream",
     "text": [
      "loading annotations into memory...\n",
      "Done (t=0.03s)\n",
      "creating index...\n",
      "index created!\n",
      "Loading and preparing results...\n",
      "DONE (t=0.00s)\n",
      "creating index...\n",
      "index created!\n",
      "Running per image evaluation...\n",
      "Evaluate annotation type *bbox*\n",
      "DONE (t=0.04s).\n",
      "Accumulating evaluation results...\n",
      "DONE (t=0.02s).\n",
      " Average Precision  (AP) @[ IoU=0.50:0.95 | area=   all | maxDets=100 ] = 0.606\n",
      " Average Precision  (AP) @[ IoU=0.50      | area=   all | maxDets=100 ] = 0.619\n",
      " Average Precision  (AP) @[ IoU=0.75      | area=   all | maxDets=100 ] = 0.612\n",
      " Average Precision  (AP) @[ IoU=0.50:0.95 | area= small | maxDets=100 ] = 0.459\n",
      " Average Precision  (AP) @[ IoU=0.50:0.95 | area=medium | maxDets=100 ] = 0.645\n",
      " Average Precision  (AP) @[ IoU=0.50:0.95 | area= large | maxDets=100 ] = 0.533\n",
      " Average Recall     (AR) @[ IoU=0.50:0.95 | area=   all | maxDets=  1 ] = 0.605\n",
      " Average Recall     (AR) @[ IoU=0.50:0.95 | area=   all | maxDets= 10 ] = 0.683\n",
      " Average Recall     (AR) @[ IoU=0.50:0.95 | area=   all | maxDets=100 ] = 0.683\n",
      " Average Recall     (AR) @[ IoU=0.50:0.95 | area= small | maxDets=100 ] = 0.561\n",
      " Average Recall     (AR) @[ IoU=0.50:0.95 | area=medium | maxDets=100 ] = 0.715\n",
      " Average Recall     (AR) @[ IoU=0.50:0.95 | area= large | maxDets=100 ] = 0.554\n",
      "Running per image evaluation...\n",
      "Evaluate annotation type *segm*\n",
      "DONE (t=0.05s).\n",
      "Accumulating evaluation results...\n",
      "DONE (t=0.02s).\n",
      " Average Precision  (AP) @[ IoU=0.50:0.95 | area=   all | maxDets=100 ] = 0.531\n",
      " Average Precision  (AP) @[ IoU=0.50      | area=   all | maxDets=100 ] = 0.619\n",
      " Average Precision  (AP) @[ IoU=0.75      | area=   all | maxDets=100 ] = 0.615\n",
      " Average Precision  (AP) @[ IoU=0.50:0.95 | area= small | maxDets=100 ] = 0.398\n",
      " Average Precision  (AP) @[ IoU=0.50:0.95 | area=medium | maxDets=100 ] = 0.567\n",
      " Average Precision  (AP) @[ IoU=0.50:0.95 | area= large | maxDets=100 ] = 0.469\n",
      " Average Recall     (AR) @[ IoU=0.50:0.95 | area=   all | maxDets=  1 ] = 0.538\n",
      " Average Recall     (AR) @[ IoU=0.50:0.95 | area=   all | maxDets= 10 ] = 0.606\n",
      " Average Recall     (AR) @[ IoU=0.50:0.95 | area=   all | maxDets=100 ] = 0.606\n",
      " Average Recall     (AR) @[ IoU=0.50:0.95 | area= small | maxDets=100 ] = 0.490\n",
      " Average Recall     (AR) @[ IoU=0.50:0.95 | area=medium | maxDets=100 ] = 0.636\n",
      " Average Recall     (AR) @[ IoU=0.50:0.95 | area= large | maxDets=100 ] = 0.494\n"
     ]
    }
   ],
   "execution_count": 7
  },
  {
   "metadata": {},
   "cell_type": "markdown",
   "source": "### +2 GAN Galaxies",
   "id": "849ab88423b48b25"
  },
  {
   "metadata": {},
   "cell_type": "code",
   "source": [
    "%%bash\n",
    "(yolo task=segment mode=train model=yolov8l-seg.pt \\\n",
    "data=\"/mnt/data/rgn_ijcnn/yolo/yolo_2_gan_galaxies/datasets/data.yaml\" \\\n",
    "epochs=150 batch=32 \\\n",
    "hsv_h=0 hsv_s=0 hsv_v=0 mosaic=0 \\\n",
    "fliplr=0 patience=25)"
   ],
   "id": "f70bd4efd0c642a5",
   "outputs": [],
   "execution_count": null
  },
  {
   "metadata": {},
   "cell_type": "markdown",
   "source": [
    "\n",
    "Results saved to runs/segment/train25\n",
    "\n",
    "                   all        410        605      0.723      0.701      0.743      0.721      0.738       0.69      0.748      0.624\n",
    "                 FR-II        221        267      0.755      0.828      0.799       0.77      0.771      0.831      0.821      0.685\n",
    "                  FR-I         78         83      0.756      0.671      0.741      0.722      0.779      0.651      0.741      0.637\n",
    "                  FR-X         82         84      0.616      0.512      0.625      0.606      0.621      0.507      0.625      0.511\n",
    "                     R        154        171      0.766      0.795      0.808      0.788       0.78      0.772      0.804      0.665"
   ],
   "id": "86b9fc4f2a18846e"
  },
  {
   "metadata": {},
   "cell_type": "markdown",
   "source": "### Validation Set",
   "id": "181e0cf2c5a1c4b9"
  },
  {
   "metadata": {
    "ExecuteTime": {
     "end_time": "2025-01-29T09:12:23.798283Z",
     "start_time": "2025-01-29T09:12:15.166167Z"
    }
   },
   "cell_type": "code",
   "source": "!yolo task=segment mode=val model=runs/segment/train25/weights/best.pt retina_masks=True conf=0.5 data=\"/mnt/data/rgn_ijcnn/yolo/yolo_cleaned/datasets/data.yaml\" save_json=True",
   "id": "2984b06d1fce1cfd",
   "outputs": [
    {
     "name": "stdout",
     "output_type": "stream",
     "text": [
      "Ultralytics 8.3.68 🚀 Python-3.12.8 torch-2.5.1+cu118 CUDA:0 (NVIDIA GeForce RTX 4090, 24209MiB)\r\n",
      "YOLOv8l-seg summary (fused): 295 layers, 45,914,972 parameters, 0 gradients, 220.1 GFLOPs\r\n",
      "\u001B[34m\u001B[1mval: \u001B[0mScanning /mnt/data/rgn_ijcnn/yolo/yolo_cleaned/datasets/labels/val.cache...\u001B[0m\r\n",
      "                 Class     Images  Instances      Box(P          R      mAP50  m\r\n",
      "                   all        410        605      0.758      0.664      0.727       0.71      0.762      0.668      0.732      0.592\r\n",
      "                 FR-II        221        267      0.788      0.805      0.777      0.754      0.802       0.82      0.797      0.639\r\n",
      "                  FR-I         78         83      0.783      0.614      0.737      0.727      0.783      0.614      0.737      0.622\r\n",
      "                  FR-X         82         84      0.658      0.476      0.597      0.581      0.658      0.476      0.597      0.475\r\n",
      "                     R        154        171      0.803      0.761      0.797      0.779      0.803      0.761      0.797      0.632\r\n",
      "Speed: 0.3ms preprocess, 5.8ms inference, 0.0ms loss, 0.5ms postprocess per image\r\n",
      "Saving runs/segment/val16/predictions.json...\r\n",
      "Results saved to \u001B[1mruns/segment/val16\u001B[0m\r\n",
      "💡 Learn more at https://docs.ultralytics.com/modes/val\r\n"
     ]
    }
   ],
   "execution_count": 6
  },
  {
   "metadata": {
    "ExecuteTime": {
     "end_time": "2025-01-29T09:12:40.312905Z",
     "start_time": "2025-01-29T09:12:40.120429Z"
    }
   },
   "cell_type": "code",
   "source": "coco_evaluate(\"/mnt/data/rgn_ijcnn/cleaned/annotations/val.json\", \"runs/segment/val16\")",
   "id": "340a15bbe57a7d00",
   "outputs": [
    {
     "name": "stdout",
     "output_type": "stream",
     "text": [
      "loading annotations into memory...\n",
      "Done (t=0.00s)\n",
      "creating index...\n",
      "index created!\n",
      "Loading and preparing results...\n",
      "DONE (t=0.00s)\n",
      "creating index...\n",
      "index created!\n",
      "Running per image evaluation...\n",
      "Evaluate annotation type *bbox*\n",
      "DONE (t=0.10s).\n",
      "Accumulating evaluation results...\n",
      "DONE (t=0.02s).\n",
      " Average Precision  (AP) @[ IoU=0.50:0.95 | area=   all | maxDets=100 ] = 0.592\n",
      " Average Precision  (AP) @[ IoU=0.50      | area=   all | maxDets=100 ] = 0.609\n",
      " Average Precision  (AP) @[ IoU=0.75      | area=   all | maxDets=100 ] = 0.605\n",
      " Average Precision  (AP) @[ IoU=0.50:0.95 | area= small | maxDets=100 ] = 0.561\n",
      " Average Precision  (AP) @[ IoU=0.50:0.95 | area=medium | maxDets=100 ] = 0.596\n",
      " Average Precision  (AP) @[ IoU=0.50:0.95 | area= large | maxDets=100 ] = 0.543\n",
      " Average Recall     (AR) @[ IoU=0.50:0.95 | area=   all | maxDets=  1 ] = 0.602\n",
      " Average Recall     (AR) @[ IoU=0.50:0.95 | area=   all | maxDets= 10 ] = 0.665\n",
      " Average Recall     (AR) @[ IoU=0.50:0.95 | area=   all | maxDets=100 ] = 0.665\n",
      " Average Recall     (AR) @[ IoU=0.50:0.95 | area= small | maxDets=100 ] = 0.632\n",
      " Average Recall     (AR) @[ IoU=0.50:0.95 | area=medium | maxDets=100 ] = 0.667\n",
      " Average Recall     (AR) @[ IoU=0.50:0.95 | area= large | maxDets=100 ] = 0.641\n",
      "Running per image evaluation...\n",
      "Evaluate annotation type *segm*\n",
      "DONE (t=0.05s).\n",
      "Accumulating evaluation results...\n",
      "DONE (t=0.02s).\n",
      " Average Precision  (AP) @[ IoU=0.50:0.95 | area=   all | maxDets=100 ] = 0.513\n",
      " Average Precision  (AP) @[ IoU=0.50      | area=   all | maxDets=100 ] = 0.616\n",
      " Average Precision  (AP) @[ IoU=0.75      | area=   all | maxDets=100 ] = 0.603\n",
      " Average Precision  (AP) @[ IoU=0.50:0.95 | area= small | maxDets=100 ] = 0.484\n",
      " Average Precision  (AP) @[ IoU=0.50:0.95 | area=medium | maxDets=100 ] = 0.519\n",
      " Average Precision  (AP) @[ IoU=0.50:0.95 | area= large | maxDets=100 ] = 0.447\n",
      " Average Recall     (AR) @[ IoU=0.50:0.95 | area=   all | maxDets=  1 ] = 0.531\n",
      " Average Recall     (AR) @[ IoU=0.50:0.95 | area=   all | maxDets= 10 ] = 0.585\n",
      " Average Recall     (AR) @[ IoU=0.50:0.95 | area=   all | maxDets=100 ] = 0.585\n",
      " Average Recall     (AR) @[ IoU=0.50:0.95 | area= small | maxDets=100 ] = 0.552\n",
      " Average Recall     (AR) @[ IoU=0.50:0.95 | area=medium | maxDets=100 ] = 0.587\n",
      " Average Recall     (AR) @[ IoU=0.50:0.95 | area= large | maxDets=100 ] = 0.546\n"
     ]
    }
   ],
   "execution_count": 8
  },
  {
   "metadata": {},
   "cell_type": "markdown",
   "source": "### Test Set",
   "id": "cf88547b4b479c31"
  },
  {
   "metadata": {
    "ExecuteTime": {
     "end_time": "2025-01-29T09:12:59.843006Z",
     "start_time": "2025-01-29T09:12:51.705277Z"
    }
   },
   "cell_type": "code",
   "source": "!yolo task=segment mode=val model=runs/segment/train25/weights/best.pt retina_masks=True conf=0.5 data=\"/mnt/data/rgn_ijcnn/yolo/yolo_test/datasets/data.yaml\" save_json=True",
   "id": "d16c424927fa2135",
   "outputs": [
    {
     "name": "stdout",
     "output_type": "stream",
     "text": [
      "Ultralytics 8.3.68 🚀 Python-3.12.8 torch-2.5.1+cu118 CUDA:0 (NVIDIA GeForce RTX 4090, 24209MiB)\r\n",
      "YOLOv8l-seg summary (fused): 295 layers, 45,914,972 parameters, 0 gradients, 220.1 GFLOPs\r\n",
      "\u001B[34m\u001B[1mval: \u001B[0mScanning /mnt/data/rgn_ijcnn/yolo/yolo_test/datasets/labels/val.cache... 41\u001B[0m\r\n",
      "                 Class     Images  Instances      Box(P          R      mAP50  m\r\n",
      "                   all        411        593      0.707      0.675      0.717      0.709      0.709      0.678      0.718      0.593\r\n",
      "                 FR-II        225        277      0.768       0.87      0.849      0.836      0.777      0.881      0.856      0.696\r\n",
      "                  FR-I         83         90      0.713      0.633      0.728      0.725      0.713      0.633      0.728      0.621\r\n",
      "                  FR-X         81         86      0.641      0.477      0.579      0.574      0.641      0.477      0.579      0.485\r\n",
      "                     R        124        140      0.706      0.721       0.71      0.703      0.706      0.721       0.71      0.572\r\n",
      "Speed: 0.3ms preprocess, 5.7ms inference, 0.0ms loss, 0.3ms postprocess per image\r\n",
      "Saving runs/segment/val17/predictions.json...\r\n",
      "Results saved to \u001B[1mruns/segment/val17\u001B[0m\r\n",
      "💡 Learn more at https://docs.ultralytics.com/modes/val\r\n"
     ]
    }
   ],
   "execution_count": 9
  },
  {
   "metadata": {
    "ExecuteTime": {
     "end_time": "2025-01-29T09:13:01.793533Z",
     "start_time": "2025-01-29T09:13:01.658561Z"
    }
   },
   "cell_type": "code",
   "source": "coco_evaluate(\"/mnt/data/rgn_ijcnn/cleaned/annotations/test.json\", \"runs/segment/val17\")",
   "id": "eac095841270356e",
   "outputs": [
    {
     "name": "stdout",
     "output_type": "stream",
     "text": [
      "loading annotations into memory...\n",
      "Done (t=0.00s)\n",
      "creating index...\n",
      "index created!\n",
      "Loading and preparing results...\n",
      "DONE (t=0.00s)\n",
      "creating index...\n",
      "index created!\n",
      "Running per image evaluation...\n",
      "Evaluate annotation type *bbox*\n",
      "DONE (t=0.04s).\n",
      "Accumulating evaluation results...\n",
      "DONE (t=0.02s).\n",
      " Average Precision  (AP) @[ IoU=0.50:0.95 | area=   all | maxDets=100 ] = 0.596\n",
      " Average Precision  (AP) @[ IoU=0.50      | area=   all | maxDets=100 ] = 0.606\n",
      " Average Precision  (AP) @[ IoU=0.75      | area=   all | maxDets=100 ] = 0.601\n",
      " Average Precision  (AP) @[ IoU=0.50:0.95 | area= small | maxDets=100 ] = 0.447\n",
      " Average Precision  (AP) @[ IoU=0.50:0.95 | area=medium | maxDets=100 ] = 0.630\n",
      " Average Precision  (AP) @[ IoU=0.50:0.95 | area= large | maxDets=100 ] = 0.663\n",
      " Average Recall     (AR) @[ IoU=0.50:0.95 | area=   all | maxDets=  1 ] = 0.592\n",
      " Average Recall     (AR) @[ IoU=0.50:0.95 | area=   all | maxDets= 10 ] = 0.667\n",
      " Average Recall     (AR) @[ IoU=0.50:0.95 | area=   all | maxDets=100 ] = 0.667\n",
      " Average Recall     (AR) @[ IoU=0.50:0.95 | area= small | maxDets=100 ] = 0.546\n",
      " Average Recall     (AR) @[ IoU=0.50:0.95 | area=medium | maxDets=100 ] = 0.694\n",
      " Average Recall     (AR) @[ IoU=0.50:0.95 | area= large | maxDets=100 ] = 0.680\n",
      "Running per image evaluation...\n",
      "Evaluate annotation type *segm*\n",
      "DONE (t=0.05s).\n",
      "Accumulating evaluation results...\n",
      "DONE (t=0.02s).\n",
      " Average Precision  (AP) @[ IoU=0.50:0.95 | area=   all | maxDets=100 ] = 0.513\n",
      " Average Precision  (AP) @[ IoU=0.50      | area=   all | maxDets=100 ] = 0.608\n",
      " Average Precision  (AP) @[ IoU=0.75      | area=   all | maxDets=100 ] = 0.604\n",
      " Average Precision  (AP) @[ IoU=0.50:0.95 | area= small | maxDets=100 ] = 0.381\n",
      " Average Precision  (AP) @[ IoU=0.50:0.95 | area=medium | maxDets=100 ] = 0.543\n",
      " Average Precision  (AP) @[ IoU=0.50:0.95 | area= large | maxDets=100 ] = 0.577\n",
      " Average Recall     (AR) @[ IoU=0.50:0.95 | area=   all | maxDets=  1 ] = 0.519\n",
      " Average Recall     (AR) @[ IoU=0.50:0.95 | area=   all | maxDets= 10 ] = 0.583\n",
      " Average Recall     (AR) @[ IoU=0.50:0.95 | area=   all | maxDets=100 ] = 0.583\n",
      " Average Recall     (AR) @[ IoU=0.50:0.95 | area= small | maxDets=100 ] = 0.470\n",
      " Average Recall     (AR) @[ IoU=0.50:0.95 | area=medium | maxDets=100 ] = 0.607\n",
      " Average Recall     (AR) @[ IoU=0.50:0.95 | area= large | maxDets=100 ] = 0.592\n"
     ]
    }
   ],
   "execution_count": 10
  }
 ],
 "metadata": {
  "kernelspec": {
   "display_name": "Python 3 (ipykernel)",
   "language": "python",
   "name": "python3"
  },
  "language_info": {
   "codemirror_mode": {
    "name": "ipython",
    "version": 3
   },
   "file_extension": ".py",
   "mimetype": "text/x-python",
   "name": "python",
   "nbconvert_exporter": "python",
   "pygments_lexer": "ipython3",
   "version": "3.12.3"
  }
 },
 "nbformat": 4,
 "nbformat_minor": 5
}
